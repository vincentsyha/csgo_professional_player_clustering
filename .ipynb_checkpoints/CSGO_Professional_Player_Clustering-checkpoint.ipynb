{
 "cells": [
  {
   "cell_type": "markdown",
   "id": "80259296",
   "metadata": {},
   "source": [
    "# CS:GO Professional Player Cluster Analysis\n",
    "\n",
    "The most recent Counter-Strike: Global Offensive (CS:GO) major tournament had a first ever \\\\$1,000,000 first place prize pool for the winning team with an overall prize pool for all participants of \\\\$3,000,000. With the stakes in professional play being higher than ever before. I figured it would be pertinent to develop a tool for coaches and team managers to utilize when trying to put together their next million dollar winning team lineup.\n",
    "\n",
    "The dataset used can be found [here](https://www.kaggle.com/mateusdmachado/csgo-professional-matches). The range of the dataset covers professional matches from 11/2015 to 03/2020.\n",
    "\n",
    "## What is CS:GO?\n",
    "\n",
    "CS:GO or Counter-Strike: Global Offensive is the latest entry to the Counter-Strike franchise from Valve. Launched in 2012 it is a 5 versus 5 tactical FPS (First Person Shooter). The two teams face each other in a matchup. The gameplay is as follows, the Terrorist (T) side is tasked with planting a bomb and having it detonate while the Counter-Terrorist side (CT) is to defuse it or prevent it from being planted. Both teams can win a round if they eliminate all players on the opposing team.\n",
    "\n",
    "A standard game is 30 rounds with the first team to win 16 rounds taking the win for the map with overtime rounds being a possibility. In the event that there is a draw and the match goes into overtime the first team to win two consecutive rounds takes the match.\n",
    "\n",
    "Counter-strike has an economic system that governs the acquisitions of armor, weapons and grenades by the players. Winning a round award the players with \\\\$3250 while losing a round after a winning streak gives them \\\\$1400. Losing many times in a short period increases the losing bonus by \\\\$500 for every additional loss, as to not penalize the losing team too much. Players can also win money by getting kills and planting or defusing the bomb.\n",
    "\n",
    "## Project Objective\n",
    "\n",
    "There are informal roles that each of the 5 players per team take on over the course of a game. I say informal as due to the nature of the game these roles are flexible and a player may be forced to wear multiple hats during the course of a single round. With that said the roles are as follows:\n",
    "\n",
    "- **Entry Fragger**: The first player to get into a position, whether it be the bombsite, or an objective. These players initiate the push and look to open up a path by securing an entry kill or to provide some kind of an opportunity to make something happen. The success of this role is measured by how often they get the first kill to provide an advantage to their team. Often times these players will also be the first to die.\n",
    "- **Support**: This player pushes along side the entry fragger and provides cover through the use of utility (grenades). Additionally these players will trade out a kill if the entry fragger falls to an enemy or cover additional lines of sight that the entry fragger cannot hold on their own.\n",
    "- **AWPer**: This role gets its namesake from the AWP, a high power long range rifle which can be purchased by both teams for \\\\$4750. This player holds long angles to secure crucial kills as well as to deny space to the enemy team\n",
    "- **Lurker**: A lurker is a player that typically plays separately from their team, looking to catch an enemy player out of place, in isolation, or transitioning from one bombsite to another. Their primary focus is to catch the other team off guard and prevent them from re-taking a bombsite with ease.\n",
    "- **IGL (In-Game-Leader)**: As the name suggests this is the player that is calling the shots, they determine how the team uses their economy, the strategies they employ, and just about any other decision that can be made from a macro level over the course of a round.\n",
    "\n",
    "As one would imagine these different types of players will have varying play styles and statistics over the course of a match. The objective of this project is to see if a players statistics will allow us to determine how similar a given player is to another."
   ]
  },
  {
   "cell_type": "code",
   "execution_count": 1,
   "id": "aa42e1af",
   "metadata": {},
   "outputs": [],
   "source": [
    "import pandas as pd\n",
    "import numpy as np\n",
    "import matplotlib.pyplot as plt"
   ]
  },
  {
   "cell_type": "markdown",
   "id": "919e243b",
   "metadata": {},
   "source": [
    "### Data Exploration"
   ]
  },
  {
   "cell_type": "code",
   "execution_count": 2,
   "id": "9cc280f9",
   "metadata": {},
   "outputs": [],
   "source": [
    "# Reading in the relevant tables\n",
    "players_df = pd.read_csv('data/players.csv')\n",
    "results_df = pd.read_csv('data/results.csv')"
   ]
  },
  {
   "cell_type": "markdown",
   "id": "165dbcec",
   "metadata": {},
   "source": [
    "These two tables provide us with all the information regarding the players as well as all the matches. The remaining tables in the dataset provide us with map picks and bans, as well as the economy information. This data goes beyond the scope of our project so we won't be using them for anything."
   ]
  },
  {
   "cell_type": "code",
   "execution_count": 3,
   "id": "105040ba",
   "metadata": {},
   "outputs": [
    {
     "data": {
      "text/html": [
       "<div>\n",
       "<style scoped>\n",
       "    .dataframe tbody tr th:only-of-type {\n",
       "        vertical-align: middle;\n",
       "    }\n",
       "\n",
       "    .dataframe tbody tr th {\n",
       "        vertical-align: top;\n",
       "    }\n",
       "\n",
       "    .dataframe thead th {\n",
       "        text-align: right;\n",
       "    }\n",
       "</style>\n",
       "<table border=\"1\" class=\"dataframe\">\n",
       "  <thead>\n",
       "    <tr style=\"text-align: right;\">\n",
       "      <th></th>\n",
       "      <th>date</th>\n",
       "      <th>team_1</th>\n",
       "      <th>team_2</th>\n",
       "      <th>_map</th>\n",
       "      <th>result_1</th>\n",
       "      <th>result_2</th>\n",
       "      <th>map_winner</th>\n",
       "      <th>starting_ct</th>\n",
       "      <th>ct_1</th>\n",
       "      <th>t_2</th>\n",
       "      <th>t_1</th>\n",
       "      <th>ct_2</th>\n",
       "      <th>event_id</th>\n",
       "      <th>match_id</th>\n",
       "      <th>rank_1</th>\n",
       "      <th>rank_2</th>\n",
       "      <th>map_wins_1</th>\n",
       "      <th>map_wins_2</th>\n",
       "      <th>match_winner</th>\n",
       "    </tr>\n",
       "  </thead>\n",
       "  <tbody>\n",
       "    <tr>\n",
       "      <th>0</th>\n",
       "      <td>2020-03-18</td>\n",
       "      <td>Recon 5</td>\n",
       "      <td>TeamOne</td>\n",
       "      <td>Dust2</td>\n",
       "      <td>0</td>\n",
       "      <td>16</td>\n",
       "      <td>2</td>\n",
       "      <td>2</td>\n",
       "      <td>0</td>\n",
       "      <td>1</td>\n",
       "      <td>0</td>\n",
       "      <td>15</td>\n",
       "      <td>5151</td>\n",
       "      <td>2340454</td>\n",
       "      <td>62</td>\n",
       "      <td>63</td>\n",
       "      <td>0</td>\n",
       "      <td>2</td>\n",
       "      <td>2</td>\n",
       "    </tr>\n",
       "    <tr>\n",
       "      <th>1</th>\n",
       "      <td>2020-03-18</td>\n",
       "      <td>Recon 5</td>\n",
       "      <td>TeamOne</td>\n",
       "      <td>Inferno</td>\n",
       "      <td>13</td>\n",
       "      <td>16</td>\n",
       "      <td>2</td>\n",
       "      <td>2</td>\n",
       "      <td>8</td>\n",
       "      <td>6</td>\n",
       "      <td>5</td>\n",
       "      <td>10</td>\n",
       "      <td>5151</td>\n",
       "      <td>2340454</td>\n",
       "      <td>62</td>\n",
       "      <td>63</td>\n",
       "      <td>0</td>\n",
       "      <td>2</td>\n",
       "      <td>2</td>\n",
       "    </tr>\n",
       "    <tr>\n",
       "      <th>2</th>\n",
       "      <td>2020-03-18</td>\n",
       "      <td>New England Whalers</td>\n",
       "      <td>Station7</td>\n",
       "      <td>Inferno</td>\n",
       "      <td>12</td>\n",
       "      <td>16</td>\n",
       "      <td>2</td>\n",
       "      <td>1</td>\n",
       "      <td>9</td>\n",
       "      <td>6</td>\n",
       "      <td>3</td>\n",
       "      <td>10</td>\n",
       "      <td>5243</td>\n",
       "      <td>2340461</td>\n",
       "      <td>140</td>\n",
       "      <td>118</td>\n",
       "      <td>12</td>\n",
       "      <td>16</td>\n",
       "      <td>2</td>\n",
       "    </tr>\n",
       "    <tr>\n",
       "      <th>3</th>\n",
       "      <td>2020-03-18</td>\n",
       "      <td>Rugratz</td>\n",
       "      <td>Bad News Bears</td>\n",
       "      <td>Inferno</td>\n",
       "      <td>7</td>\n",
       "      <td>16</td>\n",
       "      <td>2</td>\n",
       "      <td>2</td>\n",
       "      <td>0</td>\n",
       "      <td>8</td>\n",
       "      <td>7</td>\n",
       "      <td>8</td>\n",
       "      <td>5151</td>\n",
       "      <td>2340453</td>\n",
       "      <td>61</td>\n",
       "      <td>38</td>\n",
       "      <td>0</td>\n",
       "      <td>2</td>\n",
       "      <td>2</td>\n",
       "    </tr>\n",
       "    <tr>\n",
       "      <th>4</th>\n",
       "      <td>2020-03-18</td>\n",
       "      <td>Rugratz</td>\n",
       "      <td>Bad News Bears</td>\n",
       "      <td>Vertigo</td>\n",
       "      <td>8</td>\n",
       "      <td>16</td>\n",
       "      <td>2</td>\n",
       "      <td>2</td>\n",
       "      <td>4</td>\n",
       "      <td>5</td>\n",
       "      <td>4</td>\n",
       "      <td>11</td>\n",
       "      <td>5151</td>\n",
       "      <td>2340453</td>\n",
       "      <td>61</td>\n",
       "      <td>38</td>\n",
       "      <td>0</td>\n",
       "      <td>2</td>\n",
       "      <td>2</td>\n",
       "    </tr>\n",
       "  </tbody>\n",
       "</table>\n",
       "</div>"
      ],
      "text/plain": [
       "         date               team_1          team_2     _map  result_1  \\\n",
       "0  2020-03-18              Recon 5         TeamOne    Dust2         0   \n",
       "1  2020-03-18              Recon 5         TeamOne  Inferno        13   \n",
       "2  2020-03-18  New England Whalers        Station7  Inferno        12   \n",
       "3  2020-03-18              Rugratz  Bad News Bears  Inferno         7   \n",
       "4  2020-03-18              Rugratz  Bad News Bears  Vertigo         8   \n",
       "\n",
       "   result_2  map_winner  starting_ct  ct_1  t_2  t_1  ct_2  event_id  \\\n",
       "0        16           2            2     0    1    0    15      5151   \n",
       "1        16           2            2     8    6    5    10      5151   \n",
       "2        16           2            1     9    6    3    10      5243   \n",
       "3        16           2            2     0    8    7     8      5151   \n",
       "4        16           2            2     4    5    4    11      5151   \n",
       "\n",
       "   match_id  rank_1  rank_2  map_wins_1  map_wins_2  match_winner  \n",
       "0   2340454      62      63           0           2             2  \n",
       "1   2340454      62      63           0           2             2  \n",
       "2   2340461     140     118          12          16             2  \n",
       "3   2340453      61      38           0           2             2  \n",
       "4   2340453      61      38           0           2             2  "
      ]
     },
     "execution_count": 3,
     "metadata": {},
     "output_type": "execute_result"
    }
   ],
   "source": [
    "results_df.head()"
   ]
  },
  {
   "cell_type": "code",
   "execution_count": 4,
   "id": "c2f14e2a",
   "metadata": {},
   "outputs": [
    {
     "data": {
      "text/html": [
       "<div>\n",
       "<style scoped>\n",
       "    .dataframe tbody tr th:only-of-type {\n",
       "        vertical-align: middle;\n",
       "    }\n",
       "\n",
       "    .dataframe tbody tr th {\n",
       "        vertical-align: top;\n",
       "    }\n",
       "\n",
       "    .dataframe thead th {\n",
       "        text-align: right;\n",
       "    }\n",
       "</style>\n",
       "<table border=\"1\" class=\"dataframe\">\n",
       "  <thead>\n",
       "    <tr style=\"text-align: right;\">\n",
       "      <th></th>\n",
       "      <th>date</th>\n",
       "      <th>player_name</th>\n",
       "      <th>team</th>\n",
       "      <th>opponent</th>\n",
       "      <th>country</th>\n",
       "      <th>player_id</th>\n",
       "      <th>match_id</th>\n",
       "      <th>event_id</th>\n",
       "      <th>event_name</th>\n",
       "      <th>best_of</th>\n",
       "      <th>...</th>\n",
       "      <th>m3_kddiff_ct</th>\n",
       "      <th>m3_adr_ct</th>\n",
       "      <th>m3_kast_ct</th>\n",
       "      <th>m3_rating_ct</th>\n",
       "      <th>m3_kills_t</th>\n",
       "      <th>m3_deaths_t</th>\n",
       "      <th>m3_kddiff_t</th>\n",
       "      <th>m3_adr_t</th>\n",
       "      <th>m3_kast_t</th>\n",
       "      <th>m3_rating_t</th>\n",
       "    </tr>\n",
       "  </thead>\n",
       "  <tbody>\n",
       "    <tr>\n",
       "      <th>0</th>\n",
       "      <td>2020-02-26</td>\n",
       "      <td>Brehze</td>\n",
       "      <td>Evil Geniuses</td>\n",
       "      <td>Liquid</td>\n",
       "      <td>United States</td>\n",
       "      <td>9136</td>\n",
       "      <td>2339385</td>\n",
       "      <td>4901</td>\n",
       "      <td>IEM Katowice 2020</td>\n",
       "      <td>3</td>\n",
       "      <td>...</td>\n",
       "      <td>-1.0</td>\n",
       "      <td>72.5</td>\n",
       "      <td>80.0</td>\n",
       "      <td>0.93</td>\n",
       "      <td>7.0</td>\n",
       "      <td>9.0</td>\n",
       "      <td>-2.0</td>\n",
       "      <td>70.4</td>\n",
       "      <td>63.6</td>\n",
       "      <td>0.89</td>\n",
       "    </tr>\n",
       "    <tr>\n",
       "      <th>1</th>\n",
       "      <td>2020-02-26</td>\n",
       "      <td>CeRq</td>\n",
       "      <td>Evil Geniuses</td>\n",
       "      <td>Liquid</td>\n",
       "      <td>Bulgaria</td>\n",
       "      <td>11219</td>\n",
       "      <td>2339385</td>\n",
       "      <td>4901</td>\n",
       "      <td>IEM Katowice 2020</td>\n",
       "      <td>3</td>\n",
       "      <td>...</td>\n",
       "      <td>3.0</td>\n",
       "      <td>79.5</td>\n",
       "      <td>53.3</td>\n",
       "      <td>1.12</td>\n",
       "      <td>4.0</td>\n",
       "      <td>8.0</td>\n",
       "      <td>-4.0</td>\n",
       "      <td>40.7</td>\n",
       "      <td>54.5</td>\n",
       "      <td>0.53</td>\n",
       "    </tr>\n",
       "    <tr>\n",
       "      <th>2</th>\n",
       "      <td>2020-02-26</td>\n",
       "      <td>EliGE</td>\n",
       "      <td>Liquid</td>\n",
       "      <td>Evil Geniuses</td>\n",
       "      <td>United States</td>\n",
       "      <td>8738</td>\n",
       "      <td>2339385</td>\n",
       "      <td>4901</td>\n",
       "      <td>IEM Katowice 2020</td>\n",
       "      <td>3</td>\n",
       "      <td>...</td>\n",
       "      <td>1.0</td>\n",
       "      <td>81.5</td>\n",
       "      <td>63.6</td>\n",
       "      <td>1.03</td>\n",
       "      <td>9.0</td>\n",
       "      <td>9.0</td>\n",
       "      <td>0.0</td>\n",
       "      <td>87.9</td>\n",
       "      <td>73.3</td>\n",
       "      <td>1.05</td>\n",
       "    </tr>\n",
       "    <tr>\n",
       "      <th>3</th>\n",
       "      <td>2020-02-26</td>\n",
       "      <td>Ethan</td>\n",
       "      <td>Evil Geniuses</td>\n",
       "      <td>Liquid</td>\n",
       "      <td>United States</td>\n",
       "      <td>10671</td>\n",
       "      <td>2339385</td>\n",
       "      <td>4901</td>\n",
       "      <td>IEM Katowice 2020</td>\n",
       "      <td>3</td>\n",
       "      <td>...</td>\n",
       "      <td>0.0</td>\n",
       "      <td>67.2</td>\n",
       "      <td>66.7</td>\n",
       "      <td>0.97</td>\n",
       "      <td>1.0</td>\n",
       "      <td>9.0</td>\n",
       "      <td>-8.0</td>\n",
       "      <td>14.8</td>\n",
       "      <td>45.5</td>\n",
       "      <td>0.31</td>\n",
       "    </tr>\n",
       "    <tr>\n",
       "      <th>4</th>\n",
       "      <td>2020-02-26</td>\n",
       "      <td>NAF</td>\n",
       "      <td>Liquid</td>\n",
       "      <td>Evil Geniuses</td>\n",
       "      <td>Canada</td>\n",
       "      <td>8520</td>\n",
       "      <td>2339385</td>\n",
       "      <td>4901</td>\n",
       "      <td>IEM Katowice 2020</td>\n",
       "      <td>3</td>\n",
       "      <td>...</td>\n",
       "      <td>-1.0</td>\n",
       "      <td>72.9</td>\n",
       "      <td>81.8</td>\n",
       "      <td>0.96</td>\n",
       "      <td>8.0</td>\n",
       "      <td>7.0</td>\n",
       "      <td>1.0</td>\n",
       "      <td>56.3</td>\n",
       "      <td>80.0</td>\n",
       "      <td>0.99</td>\n",
       "    </tr>\n",
       "  </tbody>\n",
       "</table>\n",
       "<p>5 rows × 101 columns</p>\n",
       "</div>"
      ],
      "text/plain": [
       "         date player_name           team       opponent        country  \\\n",
       "0  2020-02-26      Brehze  Evil Geniuses         Liquid  United States   \n",
       "1  2020-02-26        CeRq  Evil Geniuses         Liquid       Bulgaria   \n",
       "2  2020-02-26       EliGE         Liquid  Evil Geniuses  United States   \n",
       "3  2020-02-26       Ethan  Evil Geniuses         Liquid  United States   \n",
       "4  2020-02-26         NAF         Liquid  Evil Geniuses         Canada   \n",
       "\n",
       "   player_id  match_id  event_id         event_name  best_of  ...  \\\n",
       "0       9136   2339385      4901  IEM Katowice 2020        3  ...   \n",
       "1      11219   2339385      4901  IEM Katowice 2020        3  ...   \n",
       "2       8738   2339385      4901  IEM Katowice 2020        3  ...   \n",
       "3      10671   2339385      4901  IEM Katowice 2020        3  ...   \n",
       "4       8520   2339385      4901  IEM Katowice 2020        3  ...   \n",
       "\n",
       "  m3_kddiff_ct m3_adr_ct m3_kast_ct  m3_rating_ct  m3_kills_t  m3_deaths_t  \\\n",
       "0         -1.0      72.5       80.0          0.93         7.0          9.0   \n",
       "1          3.0      79.5       53.3          1.12         4.0          8.0   \n",
       "2          1.0      81.5       63.6          1.03         9.0          9.0   \n",
       "3          0.0      67.2       66.7          0.97         1.0          9.0   \n",
       "4         -1.0      72.9       81.8          0.96         8.0          7.0   \n",
       "\n",
       "   m3_kddiff_t  m3_adr_t  m3_kast_t  m3_rating_t  \n",
       "0         -2.0      70.4       63.6         0.89  \n",
       "1         -4.0      40.7       54.5         0.53  \n",
       "2          0.0      87.9       73.3         1.05  \n",
       "3         -8.0      14.8       45.5         0.31  \n",
       "4          1.0      56.3       80.0         0.99  \n",
       "\n",
       "[5 rows x 101 columns]"
      ]
     },
     "execution_count": 4,
     "metadata": {},
     "output_type": "execute_result"
    }
   ],
   "source": [
    "players_df.head()"
   ]
  },
  {
   "cell_type": "markdown",
   "id": "9e714cc3",
   "metadata": {},
   "source": [
    "### Data Preparation"
   ]
  },
  {
   "cell_type": "markdown",
   "id": "15347607",
   "metadata": {},
   "source": [
    "Much like traditional sports there are a number of statistics tied to each player that allow us to evaluate individual performance. For example:\n",
    "\n",
    "- Kills\n",
    "- Assists\n",
    "- Deaths\n",
    "- Headshot Percentage\n",
    "- Flash Assists\n",
    "- ADR (Average Damage per Round)\n",
    "\n",
    "These are the key variables which we need to extract from the two tables we've read in.\n",
    "\n",
    "Our original data set is quite large as seen below."
   ]
  },
  {
   "cell_type": "code",
   "execution_count": 5,
   "id": "7924aaa8",
   "metadata": {},
   "outputs": [
    {
     "data": {
      "text/plain": [
       "(383317, 101)"
      ]
     },
     "execution_count": 5,
     "metadata": {},
     "output_type": "execute_result"
    }
   ],
   "source": [
    "players_df.shape"
   ]
  },
  {
   "cell_type": "code",
   "execution_count": 6,
   "id": "b5492ca2",
   "metadata": {},
   "outputs": [
    {
     "data": {
      "text/plain": [
       "(45773, 19)"
      ]
     },
     "execution_count": 6,
     "metadata": {},
     "output_type": "execute_result"
    }
   ],
   "source": [
    "results_df.shape"
   ]
  },
  {
   "cell_type": "markdown",
   "id": "37e29902",
   "metadata": {},
   "source": [
    "We have 101 columns in one and 19 in the other, the data is separated out in a way that there are statistics for each map played in a match at the event. We want to summarize the data along with the statistics that measure player performance on a per-match basis.\n",
    "\n",
    "The code below to extract player statistics by match from our original data tables was referenced from Kaggle user evoluu. The source can be found [here](https://www.kaggle.com/evoluu/csgo-player-statistics-vs-rounds-won/notebook).\n",
    "\n",
    "The code was modified to include some additional labels."
   ]
  },
  {
   "cell_type": "code",
   "execution_count": 7,
   "id": "db509712",
   "metadata": {},
   "outputs": [],
   "source": [
    "playerstats_df = pd.DataFrame()\n",
    "\n",
    "# Join all the individual maps played into one table\n",
    "for i in [1, 2, 3]:\n",
    "    player_columns = ['date', 'match_id', 'event_name', 'player_id', 'player_name', 'team', f'map_{i}',\n",
    "                      f'm{i}_kills', f'm{i}_assists', f'm{i}_deaths', f'm{i}_hs', f'm{i}_flash_assists',\n",
    "                      f'm{i}_kast', f'm{i}_kddiff', f'm{i}_adr', f'm{i}_fkdiff', f'm{i}_rating']\n",
    "    temp_df = players_df[player_columns]\n",
    "    # Rename the columns to exclude map index\n",
    "    temp_df.columns = ['date', 'match_id', 'event_name', 'player_id', 'player_name', 'team', '_map',\n",
    "                      'kills', 'assists', 'deaths', 'hs', 'flash_assists',\n",
    "                      'kast', 'kddiff', 'adr', 'fkdiff', 'rating']\n",
    "    temp_df = temp_df.dropna()\n",
    "    playerstats_df = playerstats_df.append(temp_df)"
   ]
  },
  {
   "cell_type": "code",
   "execution_count": 8,
   "id": "5d85ed31",
   "metadata": {},
   "outputs": [
    {
     "name": "stderr",
     "output_type": "stream",
     "text": [
      "C:\\Users\\Vincent\\anaconda3\\lib\\site-packages\\pandas\\core\\frame.py:4441: SettingWithCopyWarning: \n",
      "A value is trying to be set on a copy of a slice from a DataFrame\n",
      "\n",
      "See the caveats in the documentation: https://pandas.pydata.org/pandas-docs/stable/user_guide/indexing.html#returning-a-view-versus-a-copy\n",
      "  return super().rename(\n"
     ]
    }
   ],
   "source": [
    "# Add the rounds won/lost data from results_df to our dataframe\n",
    "teams_df_list = [None, None]\n",
    "for i in range(2):\n",
    "    teams_df_list[i] = results_df[['match_id', '_map', f'team_{i+1}', f'result_{i+1}', f'result_{(not i) + 1}']]\n",
    "    teams_df_list[i].rename(columns={f'team_{i+1}': 'team', f'result_{i+1}': 'rounds_won', f'result_{(not i) + 1}': 'rounds_lost'}, inplace = True) \n",
    "\n",
    "teams_df = pd.concat(teams_df_list)\n",
    "playerstats_df = playerstats_df.merge(teams_df, on=['match_id', '_map', 'team'])"
   ]
  },
  {
   "cell_type": "code",
   "execution_count": 9,
   "id": "52a90585",
   "metadata": {},
   "outputs": [],
   "source": [
    "# Adding an additional column to identify whether the team won or lost the map\n",
    "playerstats_df['map_won'] = (playerstats_df['rounds_won'] > playerstats_df['rounds_lost']).astype(int)"
   ]
  },
  {
   "cell_type": "code",
   "execution_count": 10,
   "id": "cd72fc4c",
   "metadata": {
    "scrolled": true
   },
   "outputs": [
    {
     "data": {
      "text/html": [
       "<div>\n",
       "<style scoped>\n",
       "    .dataframe tbody tr th:only-of-type {\n",
       "        vertical-align: middle;\n",
       "    }\n",
       "\n",
       "    .dataframe tbody tr th {\n",
       "        vertical-align: top;\n",
       "    }\n",
       "\n",
       "    .dataframe thead th {\n",
       "        text-align: right;\n",
       "    }\n",
       "</style>\n",
       "<table border=\"1\" class=\"dataframe\">\n",
       "  <thead>\n",
       "    <tr style=\"text-align: right;\">\n",
       "      <th></th>\n",
       "      <th>date</th>\n",
       "      <th>match_id</th>\n",
       "      <th>event_name</th>\n",
       "      <th>player_id</th>\n",
       "      <th>player_name</th>\n",
       "      <th>team</th>\n",
       "      <th>_map</th>\n",
       "      <th>kills</th>\n",
       "      <th>assists</th>\n",
       "      <th>deaths</th>\n",
       "      <th>hs</th>\n",
       "      <th>flash_assists</th>\n",
       "      <th>kast</th>\n",
       "      <th>kddiff</th>\n",
       "      <th>adr</th>\n",
       "      <th>fkdiff</th>\n",
       "      <th>rating</th>\n",
       "      <th>rounds_won</th>\n",
       "      <th>rounds_lost</th>\n",
       "      <th>map_won</th>\n",
       "    </tr>\n",
       "  </thead>\n",
       "  <tbody>\n",
       "    <tr>\n",
       "      <th>0</th>\n",
       "      <td>2020-02-26</td>\n",
       "      <td>2339385</td>\n",
       "      <td>IEM Katowice 2020</td>\n",
       "      <td>9136</td>\n",
       "      <td>Brehze</td>\n",
       "      <td>Evil Geniuses</td>\n",
       "      <td>Overpass</td>\n",
       "      <td>11.0</td>\n",
       "      <td>3.0</td>\n",
       "      <td>18.0</td>\n",
       "      <td>5.0</td>\n",
       "      <td>0.0</td>\n",
       "      <td>65.2</td>\n",
       "      <td>-7.0</td>\n",
       "      <td>60.8</td>\n",
       "      <td>-1.0</td>\n",
       "      <td>0.70</td>\n",
       "      <td>7</td>\n",
       "      <td>16</td>\n",
       "      <td>0</td>\n",
       "    </tr>\n",
       "    <tr>\n",
       "      <th>1</th>\n",
       "      <td>2020-02-26</td>\n",
       "      <td>2339385</td>\n",
       "      <td>IEM Katowice 2020</td>\n",
       "      <td>11219</td>\n",
       "      <td>CeRq</td>\n",
       "      <td>Evil Geniuses</td>\n",
       "      <td>Overpass</td>\n",
       "      <td>11.0</td>\n",
       "      <td>2.0</td>\n",
       "      <td>17.0</td>\n",
       "      <td>4.0</td>\n",
       "      <td>2.0</td>\n",
       "      <td>60.9</td>\n",
       "      <td>-6.0</td>\n",
       "      <td>68.9</td>\n",
       "      <td>-1.0</td>\n",
       "      <td>0.75</td>\n",
       "      <td>7</td>\n",
       "      <td>16</td>\n",
       "      <td>0</td>\n",
       "    </tr>\n",
       "    <tr>\n",
       "      <th>2</th>\n",
       "      <td>2020-02-26</td>\n",
       "      <td>2339385</td>\n",
       "      <td>IEM Katowice 2020</td>\n",
       "      <td>10671</td>\n",
       "      <td>Ethan</td>\n",
       "      <td>Evil Geniuses</td>\n",
       "      <td>Overpass</td>\n",
       "      <td>11.0</td>\n",
       "      <td>1.0</td>\n",
       "      <td>15.0</td>\n",
       "      <td>6.0</td>\n",
       "      <td>1.0</td>\n",
       "      <td>65.2</td>\n",
       "      <td>-4.0</td>\n",
       "      <td>60.7</td>\n",
       "      <td>-2.0</td>\n",
       "      <td>0.73</td>\n",
       "      <td>7</td>\n",
       "      <td>16</td>\n",
       "      <td>0</td>\n",
       "    </tr>\n",
       "    <tr>\n",
       "      <th>3</th>\n",
       "      <td>2020-02-26</td>\n",
       "      <td>2339385</td>\n",
       "      <td>IEM Katowice 2020</td>\n",
       "      <td>8507</td>\n",
       "      <td>stanislaw</td>\n",
       "      <td>Evil Geniuses</td>\n",
       "      <td>Overpass</td>\n",
       "      <td>10.0</td>\n",
       "      <td>1.0</td>\n",
       "      <td>17.0</td>\n",
       "      <td>6.0</td>\n",
       "      <td>0.0</td>\n",
       "      <td>43.5</td>\n",
       "      <td>-7.0</td>\n",
       "      <td>64.5</td>\n",
       "      <td>-4.0</td>\n",
       "      <td>0.65</td>\n",
       "      <td>7</td>\n",
       "      <td>16</td>\n",
       "      <td>0</td>\n",
       "    </tr>\n",
       "    <tr>\n",
       "      <th>4</th>\n",
       "      <td>2020-02-26</td>\n",
       "      <td>2339385</td>\n",
       "      <td>IEM Katowice 2020</td>\n",
       "      <td>8523</td>\n",
       "      <td>tarik</td>\n",
       "      <td>Evil Geniuses</td>\n",
       "      <td>Overpass</td>\n",
       "      <td>14.0</td>\n",
       "      <td>7.0</td>\n",
       "      <td>15.0</td>\n",
       "      <td>6.0</td>\n",
       "      <td>3.0</td>\n",
       "      <td>69.6</td>\n",
       "      <td>-1.0</td>\n",
       "      <td>63.4</td>\n",
       "      <td>-1.0</td>\n",
       "      <td>0.95</td>\n",
       "      <td>7</td>\n",
       "      <td>16</td>\n",
       "      <td>0</td>\n",
       "    </tr>\n",
       "  </tbody>\n",
       "</table>\n",
       "</div>"
      ],
      "text/plain": [
       "         date  match_id         event_name  player_id player_name  \\\n",
       "0  2020-02-26   2339385  IEM Katowice 2020       9136      Brehze   \n",
       "1  2020-02-26   2339385  IEM Katowice 2020      11219        CeRq   \n",
       "2  2020-02-26   2339385  IEM Katowice 2020      10671       Ethan   \n",
       "3  2020-02-26   2339385  IEM Katowice 2020       8507   stanislaw   \n",
       "4  2020-02-26   2339385  IEM Katowice 2020       8523       tarik   \n",
       "\n",
       "            team      _map  kills  assists  deaths   hs  flash_assists  kast  \\\n",
       "0  Evil Geniuses  Overpass   11.0      3.0    18.0  5.0            0.0  65.2   \n",
       "1  Evil Geniuses  Overpass   11.0      2.0    17.0  4.0            2.0  60.9   \n",
       "2  Evil Geniuses  Overpass   11.0      1.0    15.0  6.0            1.0  65.2   \n",
       "3  Evil Geniuses  Overpass   10.0      1.0    17.0  6.0            0.0  43.5   \n",
       "4  Evil Geniuses  Overpass   14.0      7.0    15.0  6.0            3.0  69.6   \n",
       "\n",
       "   kddiff   adr  fkdiff  rating  rounds_won  rounds_lost  map_won  \n",
       "0    -7.0  60.8    -1.0    0.70           7           16        0  \n",
       "1    -6.0  68.9    -1.0    0.75           7           16        0  \n",
       "2    -4.0  60.7    -2.0    0.73           7           16        0  \n",
       "3    -7.0  64.5    -4.0    0.65           7           16        0  \n",
       "4    -1.0  63.4    -1.0    0.95           7           16        0  "
      ]
     },
     "execution_count": 10,
     "metadata": {},
     "output_type": "execute_result"
    }
   ],
   "source": [
    "playerstats_df.head()"
   ]
  },
  {
   "cell_type": "code",
   "execution_count": 11,
   "id": "8fb9dfa6",
   "metadata": {},
   "outputs": [
    {
     "data": {
      "text/plain": [
       "(326676, 20)"
      ]
     },
     "execution_count": 11,
     "metadata": {},
     "output_type": "execute_result"
    }
   ],
   "source": [
    "playerstats_df.shape"
   ]
  },
  {
   "cell_type": "code",
   "execution_count": 12,
   "id": "afe53d61",
   "metadata": {},
   "outputs": [],
   "source": [
    "# Saving to CSV for future usage\n",
    "# playerstats_df.to_csv(\"data/player_stats.csv\")"
   ]
  },
  {
   "cell_type": "markdown",
   "id": "74614edb",
   "metadata": {},
   "source": [
    "#### Data Dictionary\n",
    "\n",
    "Many of the fields explain themselves however the remainder are somewhat more abstract I will explain them now.\n",
    "\n",
    "- **HS**: Number of kills that were headshots (single shot kill)\n",
    "- **flash_assists**: Number of assists that were the result of a flash grenade blinding the enemies\n",
    "- **kast**: Percentage of rounds in which the player had a kill, assist, survived, or was traded out essentially a measure of player impact\n",
    "- **kddiff**: Difference between number of kills and number of deaths\n",
    "- **adr**: Average damage dealt per-round\n",
    "- **fkdiff**: Number of times the player got the first kill vs the number of times they were first to die, a higher number is better\n",
    "- **rating**: A rating of the player from HLTV (CS:GO statistic aggregate site). A measure used to assess player performance, calculated with things like damage dealt, opening kills, 1 on X wins, traded deaths and more. The average value for rating is 1.00, good performances will give ratings higher than 1.00 and bad ones below 1.00"
   ]
  },
  {
   "cell_type": "markdown",
   "id": "199ec46d",
   "metadata": {},
   "source": [
    "Now that we have the data we need, we want to separate out the matches by year into their own dataframes for us to do further work on. The rationale behind this is that we want to see how players are clustered across each year."
   ]
  },
  {
   "cell_type": "code",
   "execution_count": 13,
   "id": "d6429c42",
   "metadata": {},
   "outputs": [],
   "source": [
    "# Convert date to datetime\n",
    "playerstats_df['date'] = pd.to_datetime(playerstats_df['date'])"
   ]
  },
  {
   "cell_type": "code",
   "execution_count": 14,
   "id": "6d718183",
   "metadata": {},
   "outputs": [
    {
     "name": "stdout",
     "output_type": "stream",
     "text": [
      "<class 'pandas.core.frame.DataFrame'>\n",
      "Int64Index: 326676 entries, 0 to 326675\n",
      "Data columns (total 20 columns):\n",
      " #   Column         Non-Null Count   Dtype         \n",
      "---  ------         --------------   -----         \n",
      " 0   date           326676 non-null  datetime64[ns]\n",
      " 1   match_id       326676 non-null  int64         \n",
      " 2   event_name     326676 non-null  object        \n",
      " 3   player_id      326676 non-null  int64         \n",
      " 4   player_name    326676 non-null  object        \n",
      " 5   team           326676 non-null  object        \n",
      " 6   _map           326676 non-null  object        \n",
      " 7   kills          326676 non-null  float64       \n",
      " 8   assists        326676 non-null  float64       \n",
      " 9   deaths         326676 non-null  float64       \n",
      " 10  hs             326676 non-null  float64       \n",
      " 11  flash_assists  326676 non-null  float64       \n",
      " 12  kast           326676 non-null  float64       \n",
      " 13  kddiff         326676 non-null  float64       \n",
      " 14  adr            326676 non-null  float64       \n",
      " 15  fkdiff         326676 non-null  float64       \n",
      " 16  rating         326676 non-null  float64       \n",
      " 17  rounds_won     326676 non-null  int64         \n",
      " 18  rounds_lost    326676 non-null  int64         \n",
      " 19  map_won        326676 non-null  int32         \n",
      "dtypes: datetime64[ns](1), float64(10), int32(1), int64(4), object(4)\n",
      "memory usage: 51.1+ MB\n"
     ]
    }
   ],
   "source": [
    "playerstats_df.info()"
   ]
  },
  {
   "cell_type": "markdown",
   "id": "2d01c2e1",
   "metadata": {},
   "source": [
    "Nice to know that our dataset does not have any null values as due to the nature of this dataset we would not be able to impute those values reasonably."
   ]
  },
  {
   "cell_type": "code",
   "execution_count": 15,
   "id": "da000e37",
   "metadata": {},
   "outputs": [],
   "source": [
    "# Extracting year into it's own column\n",
    "playerstats_df['year'] = pd.DatetimeIndex(playerstats_df['date']).year"
   ]
  },
  {
   "cell_type": "code",
   "execution_count": 16,
   "id": "e1b600bf",
   "metadata": {},
   "outputs": [
    {
     "data": {
      "text/plain": [
       "array([2020, 2019, 2018, 2017, 2016], dtype=int64)"
      ]
     },
     "execution_count": 16,
     "metadata": {},
     "output_type": "execute_result"
    }
   ],
   "source": [
    "# Verification\n",
    "playerstats_df['year'].unique()"
   ]
  },
  {
   "cell_type": "code",
   "execution_count": 17,
   "id": "8e5b3609",
   "metadata": {},
   "outputs": [],
   "source": [
    "# Subsetting our data\n",
    "\n",
    "# Initialize some empty dataframes\n",
    "stats_2016 = pd.DataFrame()\n",
    "stats_2017 = pd.DataFrame()\n",
    "stats_2018 = pd.DataFrame()\n",
    "stats_2019 = pd.DataFrame()\n",
    "stats_2020 = pd.DataFrame()\n",
    "\n",
    "stats_2016 = playerstats_df.loc[playerstats_df['year'] == 2016].reset_index(drop=True)\n",
    "stats_2017 = playerstats_df.loc[playerstats_df['year'] == 2017].reset_index(drop=True)\n",
    "stats_2018 = playerstats_df.loc[playerstats_df['year'] == 2018].reset_index(drop=True)\n",
    "stats_2019 = playerstats_df.loc[playerstats_df['year'] == 2019].reset_index(drop=True)\n",
    "stats_2020 = playerstats_df.loc[playerstats_df['year'] == 2020].reset_index(drop=True)"
   ]
  },
  {
   "cell_type": "code",
   "execution_count": 18,
   "id": "237780e1",
   "metadata": {},
   "outputs": [
    {
     "data": {
      "text/html": [
       "<div>\n",
       "<style scoped>\n",
       "    .dataframe tbody tr th:only-of-type {\n",
       "        vertical-align: middle;\n",
       "    }\n",
       "\n",
       "    .dataframe tbody tr th {\n",
       "        vertical-align: top;\n",
       "    }\n",
       "\n",
       "    .dataframe thead th {\n",
       "        text-align: right;\n",
       "    }\n",
       "</style>\n",
       "<table border=\"1\" class=\"dataframe\">\n",
       "  <thead>\n",
       "    <tr style=\"text-align: right;\">\n",
       "      <th></th>\n",
       "      <th>date</th>\n",
       "      <th>match_id</th>\n",
       "      <th>event_name</th>\n",
       "      <th>player_id</th>\n",
       "      <th>player_name</th>\n",
       "      <th>team</th>\n",
       "      <th>_map</th>\n",
       "      <th>kills</th>\n",
       "      <th>assists</th>\n",
       "      <th>deaths</th>\n",
       "      <th>...</th>\n",
       "      <th>flash_assists</th>\n",
       "      <th>kast</th>\n",
       "      <th>kddiff</th>\n",
       "      <th>adr</th>\n",
       "      <th>fkdiff</th>\n",
       "      <th>rating</th>\n",
       "      <th>rounds_won</th>\n",
       "      <th>rounds_lost</th>\n",
       "      <th>map_won</th>\n",
       "      <th>year</th>\n",
       "    </tr>\n",
       "  </thead>\n",
       "  <tbody>\n",
       "    <tr>\n",
       "      <th>0</th>\n",
       "      <td>2016-12-26</td>\n",
       "      <td>2307272</td>\n",
       "      <td>Hellcase Cup 1</td>\n",
       "      <td>11842</td>\n",
       "      <td>Ramz1kBO$$</td>\n",
       "      <td>Tengri</td>\n",
       "      <td>Overpass</td>\n",
       "      <td>35.0</td>\n",
       "      <td>2.0</td>\n",
       "      <td>32.0</td>\n",
       "      <td>...</td>\n",
       "      <td>0.0</td>\n",
       "      <td>69.0</td>\n",
       "      <td>3.0</td>\n",
       "      <td>72.7</td>\n",
       "      <td>2.0</td>\n",
       "      <td>1.08</td>\n",
       "      <td>22</td>\n",
       "      <td>20</td>\n",
       "      <td>1</td>\n",
       "      <td>2016</td>\n",
       "    </tr>\n",
       "    <tr>\n",
       "      <th>1</th>\n",
       "      <td>2016-12-26</td>\n",
       "      <td>2307272</td>\n",
       "      <td>Hellcase Cup 1</td>\n",
       "      <td>9445</td>\n",
       "      <td>SNk</td>\n",
       "      <td>Tengri</td>\n",
       "      <td>Overpass</td>\n",
       "      <td>33.0</td>\n",
       "      <td>5.0</td>\n",
       "      <td>28.0</td>\n",
       "      <td>...</td>\n",
       "      <td>0.0</td>\n",
       "      <td>73.8</td>\n",
       "      <td>5.0</td>\n",
       "      <td>84.0</td>\n",
       "      <td>-1.0</td>\n",
       "      <td>1.15</td>\n",
       "      <td>22</td>\n",
       "      <td>20</td>\n",
       "      <td>1</td>\n",
       "      <td>2016</td>\n",
       "    </tr>\n",
       "    <tr>\n",
       "      <th>2</th>\n",
       "      <td>2016-12-26</td>\n",
       "      <td>2307272</td>\n",
       "      <td>Hellcase Cup 1</td>\n",
       "      <td>10052</td>\n",
       "      <td>fitch</td>\n",
       "      <td>Tengri</td>\n",
       "      <td>Overpass</td>\n",
       "      <td>31.0</td>\n",
       "      <td>7.0</td>\n",
       "      <td>32.0</td>\n",
       "      <td>...</td>\n",
       "      <td>0.0</td>\n",
       "      <td>57.1</td>\n",
       "      <td>-1.0</td>\n",
       "      <td>96.1</td>\n",
       "      <td>-5.0</td>\n",
       "      <td>1.09</td>\n",
       "      <td>22</td>\n",
       "      <td>20</td>\n",
       "      <td>1</td>\n",
       "      <td>2016</td>\n",
       "    </tr>\n",
       "    <tr>\n",
       "      <th>3</th>\n",
       "      <td>2016-12-26</td>\n",
       "      <td>2307272</td>\n",
       "      <td>Hellcase Cup 1</td>\n",
       "      <td>5202</td>\n",
       "      <td>keeN</td>\n",
       "      <td>Tengri</td>\n",
       "      <td>Overpass</td>\n",
       "      <td>21.0</td>\n",
       "      <td>4.0</td>\n",
       "      <td>28.0</td>\n",
       "      <td>...</td>\n",
       "      <td>0.0</td>\n",
       "      <td>57.1</td>\n",
       "      <td>-7.0</td>\n",
       "      <td>57.6</td>\n",
       "      <td>-1.0</td>\n",
       "      <td>0.81</td>\n",
       "      <td>22</td>\n",
       "      <td>20</td>\n",
       "      <td>1</td>\n",
       "      <td>2016</td>\n",
       "    </tr>\n",
       "    <tr>\n",
       "      <th>4</th>\n",
       "      <td>2016-12-26</td>\n",
       "      <td>2307272</td>\n",
       "      <td>Hellcase Cup 1</td>\n",
       "      <td>9443</td>\n",
       "      <td>pachanga</td>\n",
       "      <td>Tengri</td>\n",
       "      <td>Overpass</td>\n",
       "      <td>26.0</td>\n",
       "      <td>7.0</td>\n",
       "      <td>28.0</td>\n",
       "      <td>...</td>\n",
       "      <td>0.0</td>\n",
       "      <td>73.8</td>\n",
       "      <td>-2.0</td>\n",
       "      <td>68.3</td>\n",
       "      <td>-7.0</td>\n",
       "      <td>0.98</td>\n",
       "      <td>22</td>\n",
       "      <td>20</td>\n",
       "      <td>1</td>\n",
       "      <td>2016</td>\n",
       "    </tr>\n",
       "  </tbody>\n",
       "</table>\n",
       "<p>5 rows × 21 columns</p>\n",
       "</div>"
      ],
      "text/plain": [
       "        date  match_id      event_name  player_id player_name    team  \\\n",
       "0 2016-12-26   2307272  Hellcase Cup 1      11842  Ramz1kBO$$  Tengri   \n",
       "1 2016-12-26   2307272  Hellcase Cup 1       9445         SNk  Tengri   \n",
       "2 2016-12-26   2307272  Hellcase Cup 1      10052       fitch  Tengri   \n",
       "3 2016-12-26   2307272  Hellcase Cup 1       5202        keeN  Tengri   \n",
       "4 2016-12-26   2307272  Hellcase Cup 1       9443    pachanga  Tengri   \n",
       "\n",
       "       _map  kills  assists  deaths  ...  flash_assists  kast  kddiff   adr  \\\n",
       "0  Overpass   35.0      2.0    32.0  ...            0.0  69.0     3.0  72.7   \n",
       "1  Overpass   33.0      5.0    28.0  ...            0.0  73.8     5.0  84.0   \n",
       "2  Overpass   31.0      7.0    32.0  ...            0.0  57.1    -1.0  96.1   \n",
       "3  Overpass   21.0      4.0    28.0  ...            0.0  57.1    -7.0  57.6   \n",
       "4  Overpass   26.0      7.0    28.0  ...            0.0  73.8    -2.0  68.3   \n",
       "\n",
       "   fkdiff  rating  rounds_won  rounds_lost  map_won  year  \n",
       "0     2.0    1.08          22           20        1  2016  \n",
       "1    -1.0    1.15          22           20        1  2016  \n",
       "2    -5.0    1.09          22           20        1  2016  \n",
       "3    -1.0    0.81          22           20        1  2016  \n",
       "4    -7.0    0.98          22           20        1  2016  \n",
       "\n",
       "[5 rows x 21 columns]"
      ]
     },
     "execution_count": 18,
     "metadata": {},
     "output_type": "execute_result"
    }
   ],
   "source": [
    "# Verification\n",
    "stats_2016.head()"
   ]
  },
  {
   "cell_type": "markdown",
   "id": "7a046782",
   "metadata": {},
   "source": [
    "### Clustering\n",
    "\n",
    "Rudimentary k-means model as a minimum viable product"
   ]
  },
  {
   "cell_type": "code",
   "execution_count": 24,
   "id": "39f17b2c",
   "metadata": {},
   "outputs": [],
   "source": [
    "# Aggregating our 2020 dataset by player\n",
    "stats_2020_agg = stats_2020.groupby(['player_id', 'player_name'], as_index=False).agg({'kills':'mean', 'assists':'mean', 'deaths':'mean',\n",
    "                                                                      'hs':'mean', 'flash_assists':'mean', 'kast':'mean',\n",
    "                                                                      'kddiff':'mean', 'adr':'mean', 'fkdiff':'mean',\n",
    "                                                                      'rating':'mean', 'map_won':'sum'})"
   ]
  },
  {
   "cell_type": "code",
   "execution_count": 25,
   "id": "11ffadac",
   "metadata": {},
   "outputs": [
    {
     "data": {
      "text/html": [
       "<div>\n",
       "<style scoped>\n",
       "    .dataframe tbody tr th:only-of-type {\n",
       "        vertical-align: middle;\n",
       "    }\n",
       "\n",
       "    .dataframe tbody tr th {\n",
       "        vertical-align: top;\n",
       "    }\n",
       "\n",
       "    .dataframe thead th {\n",
       "        text-align: right;\n",
       "    }\n",
       "</style>\n",
       "<table border=\"1\" class=\"dataframe\">\n",
       "  <thead>\n",
       "    <tr style=\"text-align: right;\">\n",
       "      <th></th>\n",
       "      <th>player_id</th>\n",
       "      <th>player_name</th>\n",
       "      <th>kills</th>\n",
       "      <th>assists</th>\n",
       "      <th>deaths</th>\n",
       "      <th>hs</th>\n",
       "      <th>flash_assists</th>\n",
       "      <th>kast</th>\n",
       "      <th>kddiff</th>\n",
       "      <th>adr</th>\n",
       "      <th>fkdiff</th>\n",
       "      <th>rating</th>\n",
       "      <th>map_won</th>\n",
       "    </tr>\n",
       "  </thead>\n",
       "  <tbody>\n",
       "    <tr>\n",
       "      <th>0</th>\n",
       "      <td>147</td>\n",
       "      <td>SIXER</td>\n",
       "      <td>22.600000</td>\n",
       "      <td>4.800000</td>\n",
       "      <td>17.400000</td>\n",
       "      <td>5.200000</td>\n",
       "      <td>2.200000</td>\n",
       "      <td>67.680000</td>\n",
       "      <td>5.200000</td>\n",
       "      <td>83.020000</td>\n",
       "      <td>0.200000</td>\n",
       "      <td>1.214000</td>\n",
       "      <td>3</td>\n",
       "    </tr>\n",
       "    <tr>\n",
       "      <th>1</th>\n",
       "      <td>161</td>\n",
       "      <td>TaZ</td>\n",
       "      <td>14.375000</td>\n",
       "      <td>2.875000</td>\n",
       "      <td>19.625000</td>\n",
       "      <td>6.875000</td>\n",
       "      <td>0.625000</td>\n",
       "      <td>60.512500</td>\n",
       "      <td>-5.250000</td>\n",
       "      <td>65.112500</td>\n",
       "      <td>-0.500000</td>\n",
       "      <td>0.838750</td>\n",
       "      <td>0</td>\n",
       "    </tr>\n",
       "    <tr>\n",
       "      <th>2</th>\n",
       "      <td>165</td>\n",
       "      <td>NEO</td>\n",
       "      <td>13.000000</td>\n",
       "      <td>3.166667</td>\n",
       "      <td>20.000000</td>\n",
       "      <td>6.333333</td>\n",
       "      <td>1.000000</td>\n",
       "      <td>55.816667</td>\n",
       "      <td>-7.000000</td>\n",
       "      <td>61.250000</td>\n",
       "      <td>-2.666667</td>\n",
       "      <td>0.730000</td>\n",
       "      <td>0</td>\n",
       "    </tr>\n",
       "    <tr>\n",
       "      <th>3</th>\n",
       "      <td>169</td>\n",
       "      <td>nak</td>\n",
       "      <td>16.437500</td>\n",
       "      <td>5.500000</td>\n",
       "      <td>16.625000</td>\n",
       "      <td>7.125000</td>\n",
       "      <td>1.500000</td>\n",
       "      <td>73.125000</td>\n",
       "      <td>-0.187500</td>\n",
       "      <td>67.206250</td>\n",
       "      <td>-0.500000</td>\n",
       "      <td>1.020000</td>\n",
       "      <td>10</td>\n",
       "    </tr>\n",
       "    <tr>\n",
       "      <th>4</th>\n",
       "      <td>284</td>\n",
       "      <td>JaCkz</td>\n",
       "      <td>16.722222</td>\n",
       "      <td>4.888889</td>\n",
       "      <td>16.444444</td>\n",
       "      <td>9.722222</td>\n",
       "      <td>1.333333</td>\n",
       "      <td>75.716667</td>\n",
       "      <td>0.277778</td>\n",
       "      <td>70.877778</td>\n",
       "      <td>0.166667</td>\n",
       "      <td>1.107222</td>\n",
       "      <td>14</td>\n",
       "    </tr>\n",
       "  </tbody>\n",
       "</table>\n",
       "</div>"
      ],
      "text/plain": [
       "   player_id player_name      kills   assists     deaths        hs  \\\n",
       "0        147       SIXER  22.600000  4.800000  17.400000  5.200000   \n",
       "1        161         TaZ  14.375000  2.875000  19.625000  6.875000   \n",
       "2        165         NEO  13.000000  3.166667  20.000000  6.333333   \n",
       "3        169         nak  16.437500  5.500000  16.625000  7.125000   \n",
       "4        284       JaCkz  16.722222  4.888889  16.444444  9.722222   \n",
       "\n",
       "   flash_assists       kast    kddiff        adr    fkdiff    rating  map_won  \n",
       "0       2.200000  67.680000  5.200000  83.020000  0.200000  1.214000        3  \n",
       "1       0.625000  60.512500 -5.250000  65.112500 -0.500000  0.838750        0  \n",
       "2       1.000000  55.816667 -7.000000  61.250000 -2.666667  0.730000        0  \n",
       "3       1.500000  73.125000 -0.187500  67.206250 -0.500000  1.020000       10  \n",
       "4       1.333333  75.716667  0.277778  70.877778  0.166667  1.107222       14  "
      ]
     },
     "execution_count": 25,
     "metadata": {},
     "output_type": "execute_result"
    }
   ],
   "source": [
    "stats_2020_agg.head()"
   ]
  },
  {
   "cell_type": "code",
   "execution_count": 28,
   "id": "68711885",
   "metadata": {},
   "outputs": [],
   "source": [
    "players_2020 = stats_2020_agg[['player_id','player_name']]"
   ]
  },
  {
   "cell_type": "code",
   "execution_count": 33,
   "id": "ff776fca",
   "metadata": {},
   "outputs": [],
   "source": [
    "from sklearn.cluster import KMeans\n",
    "import plotly.express as px\n",
    "from sklearn.preprocessing import StandardScaler"
   ]
  },
  {
   "cell_type": "code",
   "execution_count": 30,
   "id": "fc61b05d",
   "metadata": {},
   "outputs": [],
   "source": [
    "X1 = stats_2020_agg.drop(['player_id','player_name'], axis=1)"
   ]
  },
  {
   "cell_type": "code",
   "execution_count": 34,
   "id": "3b4fcdc3",
   "metadata": {},
   "outputs": [],
   "source": [
    "ss = StandardScaler()\n",
    "\n",
    "X1 = ss.fit_transform(X1)"
   ]
  },
  {
   "cell_type": "code",
   "execution_count": 38,
   "id": "7e06aa1f",
   "metadata": {},
   "outputs": [],
   "source": [
    "# model\n",
    "cluster_model = KMeans(n_clusters = 5)\n",
    "\n",
    "# Fit\n",
    "cluster_model.fit(X1)\n",
    "\n",
    "stats_2020_agg['cluster_group'] = cluster_model.predict(X1)"
   ]
  },
  {
   "cell_type": "code",
   "execution_count": 39,
   "id": "b69a3066",
   "metadata": {},
   "outputs": [
    {
     "data": {
      "application/vnd.plotly.v1+json": {
       "config": {
        "plotlyServerURL": "https://plot.ly"
       },
       "data": [
        {
         "customdata": [
          [
           147,
           "SIXER"
          ],
          [
           161,
           "TaZ"
          ],
          [
           165,
           "NEO"
          ],
          [
           169,
           "nak"
          ],
          [
           284,
           "JaCkz"
          ],
          [
           303,
           "starix"
          ],
          [
           334,
           "AdreN"
          ],
          [
           339,
           "ANGE1"
          ],
          [
           356,
           "arki"
          ],
          [
           429,
           "karrigan"
          ],
          [
           557,
           "fnx"
          ],
          [
           625,
           "ferg"
          ],
          [
           630,
           "MUTiRiS"
          ],
          [
           695,
           "allu"
          ],
          [
           798,
           "oskar"
          ],
          [
           885,
           "olofmeister"
          ],
          [
           921,
           "BERRY"
          ],
          [
           922,
           "Snappi"
          ],
          [
           964,
           "mou"
          ],
          [
           971,
           "KHRN"
          ],
          [
           973,
           "SZPERO"
          ],
          [
           1045,
           "Maikelele"
          ],
          [
           1064,
           "crisby"
          ],
          [
           1146,
           "dennis"
          ],
          [
           1200,
           "hitMouse"
          ],
          [
           1206,
           "BTN"
          ],
          [
           1225,
           "shox"
          ],
          [
           1378,
           "zehN"
          ],
          [
           1485,
           "RUBINO"
          ],
          [
           1950,
           "tonyblack"
          ],
          [
           2007,
           "ap0c"
          ],
          [
           2023,
           "FalleN"
          ],
          [
           2131,
           "bondik"
          ],
          [
           2161,
           "Noktse"
          ],
          [
           2241,
           "rmn"
          ],
          [
           2260,
           "RIZZZ"
          ],
          [
           2400,
           "Shooter"
          ],
          [
           2469,
           "cajunb"
          ],
          [
           2476,
           "emi"
          ],
          [
           2529,
           "Maluk3"
          ],
          [
           2544,
           "remix"
          ],
          [
           2553,
           "Snax"
          ],
          [
           2644,
           "Hiko"
          ],
          [
           2730,
           "chrisJ"
          ],
          [
           2799,
           "bubble"
          ],
          [
           2826,
           "MINISE"
          ],
          [
           2898,
           "raalz"
          ],
          [
           2909,
           "addi"
          ],
          [
           2982,
           "b0ychild"
          ],
          [
           3055,
           "flusha"
          ],
          [
           3459,
           "kinqie"
          ],
          [
           3517,
           "kzy"
          ],
          [
           3545,
           "haste"
          ],
          [
           3669,
           "innocent"
          ],
          [
           3732,
           "DiMKE"
          ],
          [
           3741,
           "NiKo"
          ],
          [
           3820,
           "TOBIZ"
          ],
          [
           3849,
           "JW"
          ],
          [
           3886,
           "seb"
          ],
          [
           3972,
           "huNter-"
          ],
          [
           3997,
           "loWel"
          ],
          [
           4076,
           "Aerial"
          ],
          [
           4216,
           "LETN1"
          ],
          [
           4373,
           "EasTor"
          ],
          [
           4576,
           "dEE"
          ],
          [
           4679,
           "jks"
          ],
          [
           4829,
           "mynio"
          ],
          [
           4954,
           "Xyp9x"
          ],
          [
           4959,
           "kioShiMa"
          ],
          [
           5021,
           "swag"
          ],
          [
           5187,
           "captainMo"
          ],
          [
           5287,
           "TENZKI"
          ],
          [
           5288,
           "miNd"
          ],
          [
           5328,
           "psycho"
          ],
          [
           5351,
           "aVN"
          ],
          [
           5386,
           "byali"
          ],
          [
           5388,
           "rallen"
          ],
          [
           5478,
           "STOVVE"
          ],
          [
           5479,
           "suNny"
          ],
          [
           5736,
           "kNgV-"
          ],
          [
           5794,
           "tabseN"
          ],
          [
           5796,
           "tiziaN"
          ],
          [
           6451,
           "FNS"
          ],
          [
           6593,
           "PKL"
          ],
          [
           6904,
           "STYKO"
          ],
          [
           7016,
           "HZ"
          ],
          [
           7026,
           "DD"
          ],
          [
           7027,
           "z8z"
          ],
          [
           7028,
           "Summer"
          ],
          [
           7131,
           "BnTeT"
          ],
          [
           7156,
           "MSL"
          ],
          [
           7167,
           "kennyS"
          ],
          [
           7168,
           "NBK-"
          ],
          [
           7169,
           "RpK"
          ],
          [
           7218,
           "kRYSTAL"
          ],
          [
           7248,
           "xseveN"
          ],
          [
           7253,
           "steel"
          ],
          [
           7264,
           "enkay J"
          ],
          [
           7266,
           "syrsoN"
          ],
          [
           7322,
           "apEX"
          ],
          [
           7382,
           "steel"
          ],
          [
           7383,
           "zqkS"
          ],
          [
           7398,
           "dupreeh"
          ],
          [
           7403,
           "WorldEdit"
          ],
          [
           7412,
           "gla1ve"
          ],
          [
           7415,
           "HUNDEN"
          ],
          [
           7429,
           "Happy"
          ],
          [
           7443,
           "twist"
          ],
          [
           7463,
           "Inzta"
          ],
          [
           7499,
           "Spiidi"
          ],
          [
           7508,
           "alexRr"
          ],
          [
           7511,
           "denis"
          ],
          [
           7528,
           "KRIMZ"
          ],
          [
           7537,
           "xartE"
          ],
          [
           7592,
           "device"
          ],
          [
           7594,
           "flamie"
          ],
          [
           7687,
           "nitr0"
          ],
          [
           7700,
           "robiin"
          ],
          [
           7716,
           "chopper"
          ],
          [
           7796,
           "wayLander"
          ],
          [
           7805,
           "RUSH"
          ],
          [
           7808,
           "freakazoid"
          ],
          [
           7816,
           "Ace"
          ],
          [
           7821,
           "sAw"
          ],
          [
           7861,
           "cruzN"
          ],
          [
           7862,
           "k1Nky"
          ],
          [
           7910,
           "fejtZ"
          ],
          [
           7932,
           "doktizh"
          ],
          [
           7935,
           "roca"
          ],
          [
           7938,
           "XANTARES"
          ],
          [
           7942,
           "dERZKIY"
          ],
          [
           7952,
           "v1N"
          ],
          [
           7964,
           "cadiaN"
          ],
          [
           7965,
           "larsen"
          ],
          [
           7982,
           "to1nou"
          ],
          [
           7996,
           "CRUC1AL"
          ],
          [
           7998,
           "s1mple"
          ],
          [
           8015,
           "dukiiii"
          ],
          [
           8047,
           "Lambert"
          ],
          [
           8082,
           "AZR"
          ],
          [
           8095,
           "aizy"
          ],
          [
           8124,
           "DavCost"
          ],
          [
           8125,
           "Dima"
          ],
          [
           8138,
           "Davidp"
          ],
          [
           8151,
           "AcilioN"
          ],
          [
           8183,
           "rain"
          ],
          [
           8184,
           "ALEX"
          ],
          [
           8242,
           "reatz"
          ],
          [
           8248,
           "jkaem"
          ],
          [
           8257,
           "hugeon"
          ],
          [
           8269,
           "G1DO"
          ],
          [
           8294,
           "balblna"
          ],
          [
           8321,
           "oskarish"
          ],
          [
           8323,
           "mouz"
          ],
          [
           8324,
           "morelz"
          ],
          [
           8327,
           "Furlan"
          ],
          [
           8370,
           "mixwell"
          ],
          [
           8371,
           "ALEX"
          ],
          [
           8372,
           "matHEND"
          ],
          [
           8374,
           "bodyy"
          ],
          [
           8394,
           "Kjaerbye"
          ],
          [
           8412,
           "dream3r"
          ],
          [
           8416,
           "ayken"
          ],
          [
           8460,
           "lukjjE"
          ],
          [
           8488,
           "ZEDKO"
          ],
          [
           8503,
           "fl0m"
          ],
          [
           8507,
           "stanislaw"
          ],
          [
           8513,
           "yay"
          ],
          [
           8517,
           "Relyks"
          ],
          [
           8520,
           "NAF"
          ],
          [
           8521,
           "daps"
          ],
          [
           8523,
           "tarik"
          ],
          [
           8528,
           "Hobbit"
          ],
          [
           8539,
           "leman"
          ],
          [
           8543,
           "NEEX"
          ],
          [
           8552,
           "Attacker"
          ],
          [
           8564,
           "fer"
          ],
          [
           8565,
           "HEN1"
          ],
          [
           8566,
           "LUCAS1"
          ],
          [
           8568,
           "boltz"
          ],
          [
           8570,
           "GruBy"
          ],
          [
           8574,
           "woxic"
          ],
          [
           8576,
           "ZOREE"
          ],
          [
           8599,
           "Karsa"
          ],
          [
           8600,
           "advent"
          ],
          [
           8601,
           "zhokiNg"
          ],
          [
           8604,
           "aumaN"
          ],
          [
           8605,
           "somebody"
          ],
          [
           8611,
           "es3tag"
          ],
          [
           8622,
           "Zilkenberg"
          ],
          [
           8655,
           "xek"
          ],
          [
           8707,
           "ptr"
          ],
          [
           8711,
           "Sonic"
          ],
          [
           8724,
           "1uke"
          ],
          [
           8726,
           "facecrack"
          ],
          [
           8727,
           "waterfaLLZ"
          ],
          [
           8728,
           "dreaM"
          ],
          [
           8735,
           "autimatic"
          ],
          [
           8738,
           "EliGE"
          ],
          [
           8744,
           "emagine"
          ],
          [
           8745,
           "Rickeh"
          ],
          [
           8758,
           "xertz"
          ],
          [
           8767,
           "ofnu"
          ],
          [
           8770,
           "MoeycQ"
          ],
          [
           8771,
           "USTILO"
          ],
          [
           8783,
           "JUGi"
          ],
          [
           8789,
           "mir"
          ],
          [
           8797,
           "Stewie2K"
          ],
          [
           8800,
           "stfN"
          ],
          [
           8830,
           "HECTOz"
          ],
          [
           8837,
           "akez"
          ],
          [
           8848,
           "Ryxxo"
          ],
          [
           8875,
           "gade"
          ],
          [
           8891,
           "Nodios"
          ],
          [
           8917,
           "niki1"
          ],
          [
           8918,
           "electronic"
          ],
          [
           8943,
           "splashske"
          ],
          [
           8944,
           "Benkai"
          ],
          [
           8950,
           "Kaze"
          ],
          [
           8954,
           "d@rklord"
          ],
          [
           8983,
           "MiGHTYMAX"
          ],
          [
           8994,
           "HS"
          ],
          [
           8998,
           "JUST"
          ],
          [
           8999,
           "zlynx"
          ],
          [
           9001,
           "ZELIN"
          ],
          [
           9019,
           "Surreal"
          ],
          [
           9031,
           "valde"
          ],
          [
           9032,
           "Magisk"
          ],
          [
           9043,
           "ANDROID"
          ],
          [
           9054,
           "zNf"
          ],
          [
           9056,
           "koosta"
          ],
          [
           9078,
           "k0nfig"
          ],
          [
           9081,
           "S0tF1k"
          ],
          [
           9102,
           "Sico"
          ],
          [
           9103,
           "urbz"
          ],
          [
           9107,
           "KStaar"
          ],
          [
           9112,
           "ino"
          ],
          [
           9115,
           "dexter"
          ],
          [
           9130,
           "Drone"
          ],
          [
           9136,
           "Brehze"
          ],
          [
           9152,
           "shinobi"
          ],
          [
           9170,
           "alecks"
          ],
          [
           9196,
           "BRUNO"
          ],
          [
           9213,
           "sickLy"
          ],
          [
           9214,
           "spamzzy1"
          ],
          [
           9216,
           "coldzera"
          ],
          [
           9217,
           "TACO"
          ],
          [
           9218,
           "xand"
          ],
          [
           9220,
           "SHOOWTiME"
          ],
          [
           9221,
           "reversive"
          ],
          [
           9245,
           "Tsogoo"
          ],
          [
           9247,
           "Machinegun"
          ],
          [
           9254,
           "mopoz"
          ],
          [
           9255,
           "draken"
          ],
          [
           9256,
           "disco doplan"
          ],
          [
           9257,
           "freddieb"
          ],
          [
           9258,
           "SicK"
          ],
          [
           9259,
           "witmer"
          ],
          [
           9261,
           "Lekr0"
          ],
          [
           9271,
           "sLowi"
          ],
          [
           9277,
           "FREDDyFROG"
          ],
          [
           9278,
           "REZ"
          ],
          [
           9279,
           "Relaxa"
          ],
          [
           9294,
           "NaToSaphiX"
          ],
          [
           9298,
           "truth"
          ],
          [
           9325,
           "arvid"
          ],
          [
           9328,
           "Blastinho"
          ],
          [
           9330,
           "Zorrele"
          ],
          [
           9337,
           "mystic"
          ],
          [
           9342,
           "JoshRT"
          ],
          [
           9344,
           "taboo"
          ],
          [
           9348,
           "crush"
          ],
          [
           9349,
           "AiyvaN"
          ],
          [
           9382,
           "t0rick"
          ],
          [
           9411,
           "TORAS"
          ],
          [
           9416,
           "obj"
          ],
          [
           9477,
           "kamil"
          ],
          [
           9480,
           "tifa"
          ],
          [
           9482,
           "NEKIZ"
          ],
          [
           9483,
           "DeStiNy"
          ],
          [
           9521,
           "dobu"
          ],
          [
           9545,
           "xms"
          ],
          [
           9568,
           "MOLSI"
          ],
          [
           9571,
           "cJ"
          ],
          [
           9572,
           "Marved"
          ],
          [
           9574,
           "snatchie"
          ],
          [
           9591,
           "Psy"
          ],
          [
           9612,
           "Bubzkji"
          ],
          [
           9616,
           "AmaNEk"
          ],
          [
           9618,
           "nexa"
          ],
          [
           9626,
           "XELLOW"
          ],
          [
           9636,
           "BURNRUOk"
          ],
          [
           9656,
           "hAdji"
          ],
          [
           9661,
           "effys"
          ],
          [
           9669,
           "dOBRIY"
          ],
          [
           9680,
           "Noobster"
          ],
          [
           9686,
           "Gratisfaction"
          ],
          [
           9716,
           "kanarito"
          ],
          [
           9736,
           "ncl"
          ],
          [
           9760,
           "spielz"
          ],
          [
           9766,
           "hampus"
          ],
          [
           9798,
           "lunAtic"
          ],
          [
           9811,
           "PlesseN"
          ],
          [
           9816,
           "Aleksib"
          ],
          [
           9818,
           "uli"
          ],
          [
           9819,
           "doto"
          ],
          [
           9820,
           "pietola"
          ],
          [
           9859,
           "dav1dK"
          ],
          [
           9875,
           "food"
          ],
          [
           9876,
           "zander"
          ],
          [
           9882,
           "Polen"
          ],
          [
           9884,
           "wrath"
          ],
          [
           9895,
           "mertz"
          ],
          [
           9896,
           "b0RUP"
          ],
          [
           9911,
           "kreaz"
          ],
          [
           9916,
           "mono"
          ],
          [
           9960,
           "frozen"
          ],
          [
           10004,
           "enanoks"
          ],
          [
           10019,
           "LEEROY"
          ],
          [
           10039,
           "JESMUND"
          ],
          [
           10053,
           "5TRYK#R"
          ],
          [
           10096,
           "HooXi"
          ],
          [
           10114,
           "BONA"
          ],
          [
           10168,
           "bottle"
          ],
          [
           10262,
           "mindfreak"
          ],
          [
           10330,
           "acoR"
          ],
          [
           10347,
           "Daveys"
          ],
          [
           10372,
           "kaboose"
          ],
          [
           10388,
           "devastation"
          ],
          [
           10394,
           "Twistzz"
          ],
          [
           10397,
           "cromen"
          ],
          [
           10436,
           "sXe"
          ],
          [
           10449,
           "ISSAA"
          ],
          [
           10470,
           "mitch"
          ],
          [
           10499,
           "JonY BoY"
          ],
          [
           10504,
           "NikoM"
          ],
          [
           10506,
           "tutehen"
          ],
          [
           10554,
           "nmt"
          ],
          [
           10557,
           "land1n"
          ],
          [
           10560,
           "yel"
          ],
          [
           10566,
           "chelo"
          ],
          [
           10569,
           "devoduvek"
          ],
          [
           10570,
           "dzt"
          ],
          [
           10588,
           "Liazz"
          ],
          [
           10589,
           "rommi"
          ],
          [
           10590,
           "fenvicious"
          ],
          [
           10622,
           "PureR"
          ],
          [
           10663,
           "RoLEX"
          ],
          [
           10664,
           "Olivia"
          ],
          [
           10666,
           "MAIROLLS"
          ],
          [
           10671,
           "Ethan"
          ],
          [
           10697,
           "blocker"
          ],
          [
           10705,
           "Kntz"
          ],
          [
           10740,
           "DENZSTOU"
          ],
          [
           10762,
           "Rock1nG"
          ],
          [
           10774,
           "Freeman"
          ],
          [
           10784,
           "RuStY"
          ],
          [
           10810,
           "fp1"
          ],
          [
           10818,
           "iDk"
          ],
          [
           10827,
           "prt"
          ],
          [
           10828,
           "dok"
          ],
          [
           10838,
           "mawth"
          ],
          [
           10840,
           "tatazin"
          ],
          [
           10842,
           "KHTEX"
          ],
          [
           10870,
           "kabal"
          ],
          [
           10892,
           "MarKE"
          ],
          [
           10897,
           "Strong Legs"
          ],
          [
           10938,
           "kiR"
          ],
          [
           10961,
           "Kristou"
          ],
          [
           10980,
           "DuDe"
          ],
          [
           10981,
           "mantuu"
          ],
          [
           10993,
           "torben"
          ],
          [
           10994,
           "stavn"
          ],
          [
           11012,
           "Twinx"
          ],
          [
           11013,
           "thamlike"
          ],
          [
           11039,
           "JazzPimp"
          ],
          [
           11064,
           "dazzLe"
          ],
          [
           11110,
           "Golden"
          ],
          [
           11139,
           "aliStair"
          ],
          [
           11140,
           "INS"
          ],
          [
           11141,
           "erkaSt"
          ],
          [
           11162,
           "Hatz"
          ],
          [
           11163,
           "trk"
          ],
          [
           11188,
           "xeta"
          ],
          [
           11199,
           "beastik"
          ],
          [
           11205,
           "stadodo"
          ],
          [
           11213,
           "delboNi"
          ],
          [
           11217,
           "SPELLAN"
          ],
          [
           11219,
           "CeRq"
          ],
          [
           11231,
           "Subroza"
          ],
          [
           11238,
           "Oderus"
          ],
          [
           11248,
           "Leaf"
          ],
          [
           11250,
           "Flarich"
          ],
          [
           11257,
           "Celrate"
          ],
          [
           11258,
           "fr0slev"
          ],
          [
           11264,
           "WARDELL"
          ],
          [
           11271,
           "smooya"
          ],
          [
           11276,
           "Markoś"
          ],
          [
           11283,
           "ottoNd"
          ],
          [
           11287,
           "darko"
          ],
          [
           11307,
           "pounh"
          ],
          [
           11337,
           "RCF"
          ],
          [
           11342,
           "SKip"
          ],
          [
           11343,
           "SHiPZ"
          ],
          [
           11441,
           "picky"
          ],
          [
           11445,
           "JonahP"
          ],
          [
           11452,
           "Magnum"
          ],
          [
           11453,
           "Amaterasu"
          ],
          [
           11474,
           "zorboT"
          ],
          [
           11485,
           "malta"
          ],
          [
           11492,
           "Noisia"
          ],
          [
           11498,
           "NickelBack"
          ],
          [
           11505,
           "rochet"
          ],
          [
           11507,
           "D1E"
          ],
          [
           11524,
           "sam_A"
          ],
          [
           11534,
           "L!nKz^"
          ],
          [
           11538,
           "Jinxx"
          ],
          [
           11549,
           "Rambutan"
          ],
          [
           11574,
           "xiaosaGe"
          ],
          [
           11576,
           "shuadapai"
          ],
          [
           11580,
           "V4D1M"
          ],
          [
           11586,
           "dapr"
          ],
          [
           11595,
           "tomi"
          ],
          [
           11617,
           "malbsMd"
          ],
          [
           11630,
           "JT"
          ],
          [
           11652,
           "OKOLICIOUZ"
          ],
          [
           11654,
           "almazer"
          ],
          [
           11701,
           "mirbit"
          ],
          [
           11716,
           "SANJI"
          ],
          [
           11737,
           "RIKO"
          ],
          [
           11739,
           "shz"
          ],
          [
           11746,
           "YJ"
          ],
          [
           11748,
           "raafa"
          ],
          [
           11777,
           "Maden"
          ],
          [
           11803,
           "Fluent Swede"
          ],
          [
           11806,
           "JD"
          ],
          [
           11815,
           "anarkez"
          ],
          [
           11816,
           "ropz"
          ],
          [
           11840,
           "Boombl4"
          ],
          [
           11891,
           "phr"
          ],
          [
           11893,
           "ZywOo"
          ],
          [
           11913,
           "zeq"
          ],
          [
           11915,
           "dfen"
          ],
          [
           11916,
           "sergej"
          ],
          [
           11922,
           "ALLE"
          ],
          [
           11926,
           "mds"
          ],
          [
           11938,
           "crank"
          ],
          [
           11940,
           "neaLaN"
          ],
          [
           11942,
           "buster"
          ],
          [
           11947,
           "c4Lypso"
          ],
          [
           11948,
           "INCRED"
          ],
          [
           11954,
           "FASHR"
          ],
          [
           11995,
           "TMB"
          ],
          [
           11996,
           "Daffu"
          ],
          [
           12004,
           "clax"
          ],
          [
           12010,
           "P4TriCK"
          ],
          [
           12016,
           "svyat"
          ],
          [
           12018,
           "TeSeS"
          ],
          [
           12027,
           "Krad"
          ],
          [
           12030,
           "EspiranTo"
          ],
          [
           12031,
           "Butters"
          ],
          [
           12074,
           "restikk"
          ],
          [
           12086,
           "stat"
          ],
          [
           12089,
           "vanity"
          ],
          [
           12090,
           "FrostayK"
          ],
          [
           12091,
           "tyfoon"
          ],
          [
           12094,
           "1962"
          ],
          [
           12101,
           "neptune"
          ],
          [
           12102,
           "djay"
          ],
          [
           12113,
           "Jonji"
          ],
          [
           12126,
           "poizon"
          ],
          [
           12129,
           "stk"
          ],
          [
           12151,
           "guin"
          ],
          [
           12161,
           "KrizzeN"
          ],
          [
           12187,
           "Excali"
          ],
          [
           12241,
           "Flash_1"
          ],
          [
           12244,
           "Sergiz"
          ],
          [
           12245,
           "DarkS1DE"
          ],
          [
           12269,
           "Jyo"
          ],
          [
           12270,
           "Pro."
          ],
          [
           12271,
           "moose"
          ],
          [
           12279,
           "Derek"
          ],
          [
           12304,
           "Stev0se"
          ],
          [
           12339,
           "tor1towOw"
          ],
          [
           12373,
           "Chuky"
          ],
          [
           12379,
           "Impulse"
          ],
          [
           12476,
           "Bobosaur"
          ],
          [
           12490,
           "expro"
          ],
          [
           12521,
           "arT"
          ],
          [
           12537,
           "Fog"
          ],
          [
           12546,
           "AlicPond"
          ],
          [
           12553,
           "yuurih"
          ],
          [
           12559,
           "EROC"
          ],
          [
           12564,
           "Geniuss"
          ],
          [
           12572,
           "djL"
          ],
          [
           12573,
           "pan1K"
          ],
          [
           12590,
           "soju_j"
          ],
          [
           12591,
           "sterling"
          ],
          [
           12593,
           "J1rah"
          ],
          [
           12699,
           "STOMP"
          ],
          [
           12705,
           "rilax"
          ],
          [
           12708,
           "rigoN"
          ],
          [
           12710,
           "gMd"
          ],
          [
           12713,
           "floppy"
          ],
          [
           12715,
           "BL1TZ"
          ],
          [
           12731,
           "somedieyoung"
          ],
          [
           12732,
           "FL1T"
          ],
          [
           12733,
           "xsepower"
          ],
          [
           12746,
           "minse"
          ],
          [
           12781,
           "k1to"
          ],
          [
           12782,
           "kressy"
          ],
          [
           12788,
           "RAIMOVORMISTO"
          ],
          [
           12795,
           "weaNd"
          ],
          [
           12810,
           "SHOCK"
          ],
          [
           12822,
           "VINI"
          ],
          [
           12872,
           "apocdud"
          ],
          [
           12877,
           "chelleos"
          ],
          [
           12917,
           "Chub"
          ],
          [
           12935,
           "Tee"
          ],
          [
           12937,
           "Wolfy"
          ],
          [
           13018,
           "Thomas"
          ],
          [
           13042,
           "LOGAN"
          ],
          [
           13054,
           "zeph"
          ],
          [
           13075,
           "flaw"
          ],
          [
           13094,
           "Vasili"
          ],
          [
           13138,
           "Maka"
          ],
          [
           13148,
           "Radifaction"
          ],
          [
           13155,
           "speed4k"
          ],
          [
           13156,
           "RuFire"
          ],
          [
           13157,
           "Jerry"
          ],
          [
           13170,
           "kwezz"
          ],
          [
           13177,
           "stellar"
          ],
          [
           13179,
           "RZU"
          ],
          [
           13182,
           "xCeeD"
          ],
          [
           13185,
           "Hunter"
          ],
          [
           13186,
           "cam"
          ],
          [
           13188,
           "Zellsis"
          ],
          [
           13228,
           "Voltage"
          ],
          [
           13229,
           "Snakes"
          ],
          [
           13230,
           "motm"
          ],
          [
           13239,
           "qikert"
          ],
          [
           13240,
           "Lack1"
          ],
          [
           13249,
           "oSee"
          ],
          [
           13250,
           "ben1337"
          ],
          [
           13254,
           "TenZ"
          ],
          [
           13278,
           "crashies"
          ],
          [
           13281,
           "El1an"
          ],
          [
           13287,
           "bnc"
          ],
          [
           13300,
           "Farlig"
          ],
          [
           13361,
           "tabz"
          ],
          [
           13381,
           "C0M"
          ],
          [
           13391,
           "tex"
          ],
          [
           13396,
           "hoody"
          ],
          [
           13464,
           "mar"
          ],
          [
           13466,
           "dennyslaw"
          ],
          [
           13473,
           "Fiziq"
          ],
          [
           13476,
           "d4v41"
          ],
          [
           13479,
           "malik"
          ],
          [
           13488,
           "akz"
          ],
          [
           13490,
           "Kishi-San"
          ],
          [
           13492,
           "stalker398"
          ],
          [
           13497,
           "Lucky"
          ],
          [
           13510,
           "VANITY"
          ],
          [
           13521,
           "Reality"
          ],
          [
           13528,
           "RAMI"
          ],
          [
           13564,
           "PPOverdose"
          ],
          [
           13566,
           "CaNNiE"
          ],
          [
           13568,
           "AJTT"
          ],
          [
           13576,
           "thief"
          ],
          [
           13578,
           "Grim"
          ],
          [
           13585,
           "huynh"
          ],
          [
           13586,
           "retrQ"
          ],
          [
           13589,
           "Spongey"
          ],
          [
           13649,
           "KrowNii"
          ],
          [
           13666,
           "Brollan"
          ],
          [
           13670,
           "nawwk"
          ],
          [
           13679,
           "nukkye"
          ],
          [
           13689,
           "opportunity"
          ],
          [
           13692,
           "Hiki"
          ],
          [
           13718,
           "birdfromsky"
          ],
          [
           13749,
           "Queenix"
          ],
          [
           13750,
           "cleMeNz0"
          ],
          [
           13776,
           "Jame"
          ],
          [
           13779,
           "PASHANOJ"
          ],
          [
           13780,
           "dimasick"
          ],
          [
           13843,
           "Lucky"
          ],
          [
           13915,
           "YEKINDAR"
          ],
          [
           13976,
           "boX"
          ],
          [
           13978,
           "Coffee"
          ],
          [
           13980,
           "lollipop21k"
          ],
          [
           13982,
           "Forester"
          ],
          [
           13994,
           "BORKUM"
          ],
          [
           13995,
           "witz"
          ],
          [
           13998,
           "MAXX."
          ],
          [
           14000,
           "daxen"
          ],
          [
           14007,
           "tudsoN"
          ],
          [
           14010,
           "zmb"
          ],
          [
           14011,
           "r4ul"
          ],
          [
           14018,
           "simix"
          ],
          [
           14022,
           "shonk"
          ],
          [
           14036,
           "Welshy"
          ],
          [
           14038,
           "Andersin"
          ],
          [
           14055,
           "propleh"
          ],
          [
           14077,
           "AAustiN"
          ],
          [
           14131,
           "retchy"
          ],
          [
           14148,
           "sjuush"
          ],
          [
           14167,
           "vitosh"
          ],
          [
           14171,
           "rAge"
          ],
          [
           14175,
           "Aunkere"
          ],
          [
           14196,
           "gingerwizard"
          ],
          [
           14203,
           "Shakezullah"
          ],
          [
           14205,
           "R0b3n"
          ],
          [
           14215,
           "leakeN"
          ],
          [
           14218,
           "Plopski"
          ],
          [
           14221,
           "kaper"
          ],
          [
           14256,
           "Kray"
          ],
          [
           14273,
           "iDISBALANCE"
          ],
          [
           14290,
           "SkulL"
          ],
          [
           14294,
           "HaZR"
          ],
          [
           14311,
           "H4RR3"
          ],
          [
           14331,
           "Habib"
          ],
          [
           14332,
           "gargoyle"
          ],
          [
           14333,
           "ju1ces"
          ],
          [
           14359,
           "w1nt3r"
          ],
          [
           14365,
           "s0m"
          ],
          [
           14390,
           "WOOD7"
          ],
          [
           14394,
           "Tuurtle"
          ],
          [
           14419,
           "roeJ"
          ],
          [
           14445,
           "kaiG"
          ],
          [
           14489,
           "zeptic"
          ],
          [
           14494,
           "Junior"
          ],
          [
           14495,
           "droid"
          ],
          [
           14505,
           "ekul"
          ],
          [
           14527,
           "L1NK"
          ],
          [
           14557,
           "Guepard"
          ],
          [
           14577,
           "foxz"
          ],
          [
           14596,
           "Reality"
          ],
          [
           14602,
           "Marcelious"
          ],
          [
           14613,
           "sterling"
          ],
          [
           14614,
           "oBo"
          ],
          [
           14619,
           "Infinite"
          ],
          [
           14639,
           "fara"
          ],
          [
           14684,
           "jedqr"
          ],
          [
           14737,
           "meyern"
          ],
          [
           14759,
           "iM"
          ],
          [
           14779,
           "FATAL"
          ],
          [
           14780,
           "tge"
          ],
          [
           14781,
           "vhz"
          ],
          [
           14827,
           "riku"
          ],
          [
           14862,
           "mdn"
          ],
          [
           14881,
           "Poppy"
          ],
          [
           14883,
           "1ukey"
          ],
          [
           14929,
           "JDC"
          ],
          [
           14932,
           "faveN"
          ],
          [
           14933,
           "robby"
          ],
          [
           14937,
           "koNgared"
          ],
          [
           14954,
           "void"
          ],
          [
           14955,
           "Lacore"
          ],
          [
           14957,
           "Mayker"
          ],
          [
           15007,
           "Cooper-"
          ],
          [
           15047,
           "bthd"
          ],
          [
           15060,
           "neuz"
          ],
          [
           15062,
           "shinobi"
          ],
          [
           15067,
           "Denny"
          ],
          [
           15068,
           "inter"
          ],
          [
           15071,
           "interz"
          ],
          [
           15072,
           "nin9"
          ],
          [
           15090,
           "PwnAlone"
          ],
          [
           15096,
           "grux"
          ],
          [
           15109,
           "Niffy"
          ],
          [
           15111,
           "JUSTCAUSE"
          ],
          [
           15117,
           "Keoz"
          ],
          [
           15152,
           "Marin"
          ],
          [
           15153,
           "bazooka"
          ],
          [
           15165,
           "blameF"
          ],
          [
           15180,
           "Twixie"
          ],
          [
           15204,
           "Vegi"
          ],
          [
           15208,
           "splawik"
          ],
          [
           15229,
           "nero"
          ],
          [
           15265,
           "aum101"
          ],
          [
           15269,
           "Subbey"
          ],
          [
           15309,
           "Retla"
          ],
          [
           15349,
           "maNkz"
          ],
          [
           15370,
           "slaxz-"
          ],
          [
           15374,
           "h1glaiN"
          ],
          [
           15384,
           "doublemagic"
          ],
          [
           15385,
           "KalubeR"
          ],
          [
           15391,
           "miLLe"
          ],
          [
           15419,
           "Viva"
          ],
          [
           15428,
           "Goofy"
          ],
          [
           15440,
           "Papichulo"
          ],
          [
           15523,
           "vek"
          ],
          [
           15526,
           "MAC-1"
          ],
          [
           15540,
           "wAGNR"
          ],
          [
           15562,
           "Samppa"
          ],
          [
           15563,
           "SADDYX"
          ],
          [
           15565,
           "Spargo"
          ],
          [
           15628,
           "MALI"
          ],
          [
           15631,
           "KSCERATO"
          ],
          [
           15639,
           "dezon"
          ],
          [
           15644,
           "Art1st"
          ],
          [
           15651,
           "NEXTTIME"
          ],
          [
           15662,
           "zorte"
          ],
          [
           15691,
           "netim"
          ],
          [
           15697,
           "Sidney"
          ],
          [
           15698,
           "dumau"
          ],
          [
           15718,
           "peku"
          ],
          [
           15726,
           "nawrot"
          ],
          [
           15797,
           "sutecas"
          ],
          [
           15821,
           "NEOFRAG"
          ],
          [
           15835,
           "imoRR"
          ],
          [
           15839,
           "Xeppaa"
          ],
          [
           15915,
           "648"
          ],
          [
           15919,
           "LeoGOD"
          ],
          [
           15920,
           "krg"
          ],
          [
           15932,
           "formlesS"
          ],
          [
           15940,
           "Sobol"
          ],
          [
           15963,
           "scott"
          ],
          [
           15997,
           "beo"
          ],
          [
           16008,
           "Ayeon"
          ],
          [
           16025,
           "Wolfy"
          ],
          [
           16026,
           "DuckyPanic"
          ],
          [
           16034,
           "Dirty"
          ],
          [
           16080,
           "dycha"
          ],
          [
           16088,
           "PoKI"
          ],
          [
           16104,
           "Ergasster"
          ],
          [
           16222,
           "MIKE"
          ],
          [
           16228,
           "toM"
          ],
          [
           16229,
           "oliff"
          ],
          [
           16281,
           "swede"
          ],
          [
           16309,
           "Doom"
          ],
          [
           16314,
           "pancc"
          ],
          [
           16318,
           "BOOBIE"
          ],
          [
           16323,
           "Valiance"
          ],
          [
           16389,
           "grzes1x"
          ],
          [
           16397,
           "Czapel"
          ],
          [
           16410,
           "Duplicate"
          ],
          [
           16411,
           "zlatyo"
          ],
          [
           16412,
           "rafftu"
          ],
          [
           16415,
           "supra"
          ],
          [
           16435,
           "capseN"
          ],
          [
           16462,
           "Grusarn"
          ],
          [
           16486,
           "ztr"
          ],
          [
           16487,
           "eraa"
          ],
          [
           16529,
           "Llamas"
          ],
          [
           16546,
           "Sneaky"
          ],
          [
           16554,
           "Pred"
          ],
          [
           16555,
           "Ax1Le"
          ],
          [
           16556,
           "eDi"
          ],
          [
           16563,
           "Psycho"
          ],
          [
           16597,
           "4pack"
          ],
          [
           16599,
           "Swisher"
          ],
          [
           16612,
           "n0rb3r7"
          ],
          [
           16645,
           "drg"
          ],
          [
           16647,
           "Bwills"
          ],
          [
           16649,
           "shanks"
          ],
          [
           16658,
           "Kanpeki"
          ],
          [
           16661,
           "MITHPUTTINI"
          ],
          [
           16677,
           "dReamy"
          ],
          [
           16678,
           "Divine"
          ],
          [
           16695,
           "tiburci0"
          ],
          [
           16723,
           "Cabbi"
          ],
          [
           16731,
           "IceBerg"
          ],
          [
           16768,
           "lan"
          ],
          [
           16769,
           "real"
          ],
          [
           16770,
           "ableJ"
          ],
          [
           16771,
           "lineko"
          ],
          [
           16774,
           "GYZER"
          ],
          [
           16775,
           "DANVIET"
          ],
          [
           16808,
           "dangle"
          ],
          [
           16816,
           "vsm"
          ],
          [
           16817,
           "hardzao"
          ],
          [
           16847,
           "mhL"
          ],
          [
           16848,
           "hades"
          ],
          [
           16864,
           "ChurmZ"
          ],
          [
           16870,
           "ProbLeM"
          ],
          [
           16871,
           "Gospadarov"
          ],
          [
           16872,
           "flying"
          ],
          [
           16902,
           "KmZ"
          ],
          [
           16920,
           "sh1ro"
          ],
          [
           16921,
           "nafany"
          ],
          [
           16922,
           "aNsavage"
          ],
          [
           16925,
           "tricky"
          ],
          [
           16939,
           "Kas9k"
          ],
          [
           16945,
           "mirac1e"
          ],
          [
           16946,
           "Polt"
          ],
          [
           16947,
           "Perfecto"
          ],
          [
           16948,
           "TRAVIS"
          ],
          [
           16996,
           "lukz"
          ],
          [
           16999,
           "nephh"
          ],
          [
           17008,
           "Topa"
          ],
          [
           17011,
           "shalfey"
          ],
          [
           17012,
           "airscape"
          ],
          [
           17028,
           "abr"
          ],
          [
           17039,
           "decov9jse"
          ],
          [
           17097,
           "Powerzz"
          ],
          [
           17116,
           "ragga"
          ],
          [
           17138,
           "agony"
          ],
          [
           17145,
           "Rainwaker"
          ],
          [
           17147,
           "juanflatroo"
          ],
          [
           17149,
           "Jaybk"
          ],
          [
           17181,
           "naitte"
          ],
          [
           17182,
           "Slag"
          ],
          [
           17215,
           "BobZ"
          ],
          [
           17219,
           "keiz"
          ],
          [
           17231,
           "Rackem"
          ],
          [
           17232,
           "SenpaiMadara"
          ],
          [
           17234,
           "jtr"
          ],
          [
           17236,
           "vanilla"
          ],
          [
           17241,
           "BALEROSTYLE"
          ],
          [
           17251,
           "Lylo"
          ],
          [
           17305,
           "FinigaN"
          ],
          [
           17306,
           "degster"
          ],
          [
           17307,
           "smooth_criminal22"
          ],
          [
           17353,
           "cxzi"
          ],
          [
           17357,
           "bite"
          ],
          [
           17368,
           "curry"
          ],
          [
           17372,
           "FaNg"
          ],
          [
           17377,
           "NiSMO"
          ],
          [
           17378,
           "ReckMONSTER"
          ],
          [
           17385,
           "DannyG"
          ],
          [
           17390,
           "ADK"
          ],
          [
           17394,
           "tot"
          ],
          [
           17402,
           "bedonka"
          ],
          [
           17470,
           "Melio"
          ],
          [
           17471,
           "MkaeL"
          ],
          [
           17494,
           "bron"
          ],
          [
           17504,
           "KEi"
          ],
          [
           17510,
           "J0LZ"
          ],
          [
           17511,
           "KOLER"
          ],
          [
           17553,
           "pesa"
          ],
          [
           17566,
           "Andyy"
          ],
          [
           17575,
           "JACKPOT"
          ],
          [
           17583,
           "mcl"
          ],
          [
           17584,
           "sir"
          ],
          [
           17585,
           "b4rtiN"
          ],
          [
           17586,
           "koé"
          ],
          [
           17588,
           "autist"
          ],
          [
           17609,
           "Toft"
          ],
          [
           17619,
           "OMG"
          ],
          [
           17643,
           "JP"
          ],
          [
           17658,
           "tENSKI"
          ],
          [
           17680,
           "rood"
          ],
          [
           17700,
           "Differ3nt"
          ],
          [
           17792,
           "icem4N"
          ],
          [
           17793,
           "smiley"
          ],
          [
           17801,
           "UnK"
          ],
          [
           17814,
           "AvovA"
          ],
          [
           17861,
           "jntzika"
          ],
          [
           17866,
           "PREDI"
          ],
          [
           17918,
           "nosraC"
          ],
          [
           17929,
           "Walco"
          ],
          [
           17930,
           "wiz"
          ],
          [
           17936,
           "bq"
          ],
          [
           17937,
           "isak"
          ],
          [
           17939,
           "leaf"
          ],
          [
           17941,
           "ULTRA"
          ],
          [
           17942,
           "Derkeps"
          ],
          [
           17956,
           "Jabbi"
          ],
          [
           17958,
           "MDK"
          ],
          [
           17959,
           "nope"
          ],
          [
           17995,
           "gon"
          ],
          [
           18017,
           "PEARSS"
          ],
          [
           18024,
           "jhd"
          ],
          [
           18029,
           "Kustom"
          ],
          [
           18031,
           "spookr"
          ],
          [
           18048,
           "m4tthi"
          ],
          [
           18053,
           "broky"
          ],
          [
           18068,
           "Miki"
          ],
          [
           18100,
           "yoki"
          ],
          [
           18102,
           "exebatya"
          ],
          [
           18105,
           "wippie"
          ],
          [
           18120,
           "sinnopsyy"
          ],
          [
           18132,
           "Del"
          ],
          [
           18136,
           "Quantium"
          ],
          [
           18140,
           "f4stzin"
          ],
          [
           18141,
           "biguzera"
          ],
          [
           18186,
           "Crazyy"
          ],
          [
           18195,
           "micalis"
          ],
          [
           18208,
           "penny"
          ],
          [
           18214,
           "nettik"
          ],
          [
           18219,
           "Adam9130"
          ],
          [
           18224,
           "THRONE"
          ],
          [
           18225,
           "KAPACHO"
          ],
          [
           18227,
           "SENSEi"
          ],
          [
           18266,
           "Russ"
          ],
          [
           18278,
           "nat1ve"
          ],
          [
           18307,
           "mal"
          ],
          [
           18317,
           "magixx"
          ],
          [
           18346,
           "ruokcj"
          ],
          [
           18347,
           "shaw"
          ],
          [
           18348,
           "Muzoona"
          ],
          [
           18350,
           "BeeTee"
          ],
          [
           18361,
           "D0cC"
          ],
          [
           18432,
           "dvl"
          ],
          [
           18458,
           "devraNN"
          ],
          [
           18462,
           "mezii"
          ],
          [
           18469,
           "sarenii"
          ],
          [
           18519,
           "Keiti"
          ],
          [
           18545,
           "asap"
          ],
          [
           18584,
           "Pacman"
          ],
          [
           18612,
           "fells"
          ],
          [
           18623,
           "Inseaniac"
          ],
          [
           18629,
           "Munk"
          ],
          [
           18640,
           "ckay"
          ],
          [
           18670,
           "SELLTER"
          ],
          [
           18671,
           "Get_Jeka"
          ],
          [
           18676,
           "skullz"
          ],
          [
           18706,
           "freshie"
          ],
          [
           18714,
           "piriaz1n"
          ],
          [
           18717,
           "Lucaozy"
          ],
          [
           18736,
           "pz"
          ],
          [
           18737,
           "falcon"
          ],
          [
           18740,
           "Jim^"
          ],
          [
           18743,
           "nython"
          ],
          [
           18749,
           "sausol"
          ],
          [
           18790,
           "CacaNito"
          ],
          [
           18805,
           "bazzy"
          ],
          [
           18833,
           "Koro"
          ],
          [
           18837,
           "gmanchew"
          ],
          [
           18838,
           "HexT"
          ],
          [
           18839,
           "pwny"
          ],
          [
           18858,
           "Quasar GT"
          ],
          [
           18865,
           "dav1d"
          ],
          [
           18875,
           "RICIOLI"
          ],
          [
           18877,
           "phx"
          ],
          [
           18963,
           "supLex"
          ],
          [
           18982,
           "Asuna"
          ],
          [
           18987,
           "B1T"
          ],
          [
           19015,
           "Bymas"
          ],
          [
           19032,
           "Talent"
          ],
          [
           19036,
           "teiv"
          ],
          [
           19038,
           "PR1mE"
          ],
          [
           19044,
           "F1KU"
          ],
          [
           19045,
           "latto"
          ],
          [
           19047,
           "ashen"
          ],
          [
           19050,
           "tem"
          ],
          [
           19059,
           "ritchiEE"
          ],
          [
           19104,
           "jeyN"
          ],
          [
           19107,
           "S3NSEY"
          ],
          [
           19114,
           "Kylar"
          ],
          [
           19144,
           "proctus"
          ],
          [
           19160,
           "rabbit"
          ],
          [
           19181,
           "Zuko"
          ],
          [
           19189,
           "affiNity"
          ],
          [
           19190,
           "LikiAU"
          ],
          [
           19191,
           "Mizzy"
          ],
          [
           19193,
           "Ck--"
          ],
          [
           19230,
           "m0NESY"
          ],
          [
           19231,
           "H1te"
          ],
          [
           19232,
           "JIaYm"
          ],
          [
           19252,
           "killmatic"
          ],
          [
           19275,
           "lealziNho"
          ],
          [
           19281,
           "Anhuin"
          ],
          [
           19282,
           "HadeZ"
          ],
          [
           19283,
           "PANIX"
          ],
          [
           19284,
           "prosus"
          ],
          [
           19304,
           "kun"
          ],
          [
           19305,
           "Young KillerS"
          ],
          [
           19384,
           "Fayde"
          ],
          [
           19386,
           "r3flex"
          ],
          [
           19427,
           "CsGoSnex"
          ],
          [
           19433,
           "lato"
          ],
          [
           19445,
           "YESican"
          ],
          [
           19476,
           "Sharkie"
          ],
          [
           19509,
           "dav1g"
          ],
          [
           19573,
           "powerYY"
          ],
          [
           19574,
           "soNy"
          ],
          [
           19642,
           "SneakZ"
          ],
          [
           19643,
           "Habbo Hotel"
          ],
          [
           19645,
           "JamYoung"
          ],
          [
           19673,
           "Patsi"
          ],
          [
           19694,
           "nqz"
          ],
          [
           19698,
           "adamS"
          ],
          [
           19704,
           "mada"
          ],
          [
           19712,
           "castro"
          ],
          [
           19713,
           "contii"
          ],
          [
           19730,
           "Gumpton"
          ],
          [
           19731,
           "charizard"
          ],
          [
           19732,
           "Versa"
          ],
          [
           19778,
           "ZILLA"
          ],
          [
           19802,
           "em4n"
          ],
          [
           19823,
           "dukefissura"
          ],
          [
           19824,
           "enst0n"
          ],
          [
           19825,
           "Janewka"
          ],
          [
           19832,
           "Brian2K"
          ],
          [
           19846,
           "CLASIA"
          ],
          [
           19848,
           "Y4$"
          ],
          [
           19864,
           "dance"
          ],
          [
           19865,
           "wizzek"
          ],
          [
           19866,
           "reiSh"
          ],
          [
           19867,
           "bernini"
          ],
          [
           19868,
           "muSh"
          ],
          [
           19887,
           "Makzwell"
          ],
          [
           19890,
           "Gringo"
          ],
          [
           19895,
           "AJaxz"
          ],
          [
           19899,
           "Krimbo"
          ],
          [
           19904,
           "antwon"
          ],
          [
           19905,
           "Zym"
          ],
          [
           19906,
           "damyo"
          ],
          [
           19919,
           "Garfunkled"
          ],
          [
           19920,
           "KaiR0N-"
          ],
          [
           19926,
           "afroo"
          ],
          [
           19938,
           "Anima"
          ],
          [
           19942,
           "Wond3r"
          ],
          [
           19943,
           "LavL"
          ],
          [
           19944,
           "d34dr0ck"
          ],
          [
           19962,
           "Re1GN"
          ],
          [
           19963,
           "fiaba"
          ],
          [
           19965,
           "v1king"
          ],
          [
           19967,
           "sorrow"
          ],
          [
           19972,
           "ckzao"
          ],
          [
           19973,
           "roz"
          ],
          [
           19974,
           "xikAz"
          ],
          [
           19986,
           "ryota"
          ],
          [
           19988,
           "AsLanMashadoW"
          ],
          [
           19994,
           "endly"
          ],
          [
           19995,
           "GeT_FuCkEd"
          ],
          [
           20007,
           "boskacz"
          ]
         ],
         "hovertemplate": "x=%{x}<br>y=%{y}<br>player_id=%{customdata[0]}<br>player_name=%{customdata[1]}<br>cluster_group=%{marker.color}<extra></extra>",
         "legendgroup": "",
         "marker": {
          "color": [
           2,
           3,
           4,
           2,
           2,
           1,
           3,
           3,
           2,
           1,
           2,
           1,
           2,
           2,
           2,
           2,
           1,
           2,
           0,
           2,
           2,
           2,
           1,
           2,
           4,
           1,
           3,
           2,
           2,
           3,
           2,
           2,
           2,
           1,
           3,
           4,
           4,
           3,
           1,
           3,
           2,
           3,
           2,
           3,
           1,
           2,
           0,
           4,
           3,
           2,
           3,
           1,
           1,
           0,
           3,
           2,
           1,
           2,
           2,
           0,
           2,
           3,
           3,
           2,
           2,
           3,
           2,
           2,
           3,
           2,
           3,
           0,
           3,
           4,
           3,
           3,
           0,
           3,
           3,
           2,
           2,
           2,
           2,
           0,
           2,
           2,
           0,
           3,
           0,
           2,
           1,
           2,
           3,
           3,
           3,
           3,
           2,
           2,
           2,
           1,
           2,
           2,
           3,
           2,
           2,
           1,
           1,
           3,
           4,
           2,
           3,
           3,
           2,
           1,
           0,
           2,
           1,
           1,
           2,
           3,
           2,
           2,
           1,
           2,
           4,
           4,
           0,
           3,
           3,
           2,
           3,
           1,
           2,
           2,
           3,
           3,
           2,
           4,
           3,
           1,
           3,
           3,
           0,
           1,
           2,
           0,
           1,
           3,
           3,
           4,
           1,
           1,
           2,
           3,
           2,
           2,
           1,
           2,
           4,
           1,
           2,
           3,
           2,
           1,
           2,
           2,
           1,
           2,
           2,
           2,
           2,
           2,
           2,
           2,
           2,
           2,
           2,
           2,
           0,
           2,
           2,
           2,
           2,
           2,
           1,
           0,
           1,
           3,
           2,
           3,
           4,
           2,
           2,
           2,
           3,
           2,
           1,
           2,
           0,
           2,
           2,
           4,
           2,
           0,
           2,
           2,
           2,
           3,
           3,
           2,
           1,
           3,
           3,
           2,
           1,
           2,
           0,
           0,
           2,
           1,
           1,
           1,
           3,
           4,
           3,
           3,
           2,
           0,
           2,
           2,
           2,
           2,
           1,
           2,
           2,
           2,
           1,
           0,
           0,
           0,
           1,
           0,
           0,
           1,
           4,
           2,
           3,
           2,
           0,
           2,
           3,
           3,
           3,
           2,
           0,
           2,
           2,
           1,
           3,
           2,
           2,
           3,
           2,
           2,
           3,
           3,
           3,
           1,
           1,
           0,
           4,
           1,
           3,
           4,
           3,
           1,
           4,
           3,
           2,
           0,
           3,
           3,
           2,
           2,
           1,
           3,
           0,
           2,
           2,
           2,
           0,
           0,
           0,
           1,
           0,
           2,
           1,
           1,
           4,
           1,
           2,
           3,
           0,
           1,
           3,
           2,
           3,
           4,
           2,
           2,
           1,
           0,
           2,
           2,
           2,
           3,
           2,
           1,
           1,
           1,
           1,
           1,
           1,
           0,
           2,
           2,
           3,
           3,
           3,
           0,
           3,
           1,
           3,
           2,
           4,
           3,
           3,
           0,
           2,
           2,
           2,
           3,
           0,
           3,
           2,
           0,
           0,
           4,
           3,
           3,
           2,
           3,
           3,
           4,
           2,
           2,
           2,
           3,
           2,
           0,
           0,
           1,
           2,
           3,
           2,
           2,
           4,
           3,
           3,
           4,
           2,
           1,
           2,
           3,
           0,
           3,
           0,
           3,
           2,
           2,
           0,
           3,
           1,
           4,
           3,
           2,
           3,
           2,
           2,
           0,
           1,
           3,
           3,
           0,
           3,
           2,
           2,
           2,
           0,
           3,
           4,
           2,
           1,
           3,
           3,
           3,
           1,
           1,
           3,
           3,
           0,
           2,
           1,
           3,
           1,
           2,
           2,
           2,
           3,
           3,
           1,
           0,
           4,
           3,
           1,
           3,
           2,
           1,
           1,
           3,
           2,
           3,
           2,
           3,
           4,
           3,
           3,
           0,
           2,
           3,
           0,
           1,
           2,
           3,
           2,
           2,
           4,
           0,
           3,
           1,
           2,
           0,
           2,
           0,
           3,
           4,
           1,
           2,
           1,
           3,
           3,
           3,
           2,
           2,
           4,
           3,
           0,
           0,
           1,
           2,
           2,
           1,
           3,
           3,
           3,
           1,
           0,
           2,
           2,
           1,
           0,
           3,
           1,
           0,
           3,
           2,
           2,
           3,
           1,
           1,
           4,
           0,
           1,
           0,
           3,
           2,
           3,
           2,
           2,
           3,
           3,
           0,
           0,
           2,
           2,
           2,
           0,
           2,
           3,
           2,
           3,
           3,
           4,
           3,
           3,
           2,
           3,
           3,
           3,
           2,
           0,
           3,
           1,
           0,
           3,
           2,
           3,
           2,
           1,
           2,
           3,
           2,
           3,
           4,
           2,
           2,
           0,
           3,
           1,
           2,
           0,
           3,
           2,
           2,
           0,
           2,
           2,
           3,
           2,
           2,
           0,
           3,
           2,
           3,
           2,
           4,
           0,
           2,
           4,
           2,
           3,
           2,
           3,
           3,
           4,
           3,
           2,
           2,
           3,
           0,
           1,
           3,
           3,
           0,
           0,
           3,
           0,
           0,
           4,
           0,
           3,
           1,
           3,
           1,
           2,
           2,
           0,
           2,
           3,
           2,
           3,
           2,
           2,
           1,
           3,
           3,
           1,
           3,
           3,
           3,
           3,
           3,
           3,
           3,
           4,
           2,
           4,
           3,
           2,
           4,
           3,
           3,
           3,
           3,
           2,
           2,
           2,
           2,
           2,
           4,
           3,
           3,
           0,
           3,
           0,
           3,
           0,
           2,
           3,
           4,
           2,
           4,
           2,
           3,
           2,
           1,
           2,
           2,
           3,
           2,
           2,
           4,
           2,
           3,
           0,
           3,
           1,
           0,
           2,
           4,
           0,
           2,
           3,
           2,
           3,
           4,
           2,
           3,
           2,
           2,
           4,
           3,
           4,
           0,
           1,
           2,
           3,
           3,
           3,
           0,
           0,
           0,
           0,
           0,
           2,
           3,
           4,
           1,
           3,
           0,
           3,
           3,
           0,
           4,
           1,
           1,
           3,
           4,
           2,
           2,
           2,
           3,
           4,
           2,
           3,
           3,
           1,
           3,
           2,
           3,
           1,
           3,
           2,
           0,
           2,
           0,
           3,
           1,
           3,
           0,
           1,
           1,
           1,
           3,
           3,
           1,
           0,
           0,
           3,
           0,
           3,
           3,
           1,
           0,
           1,
           1,
           4,
           0,
           2,
           1,
           3,
           2,
           1,
           2,
           1,
           0,
           1,
           4,
           2,
           2,
           3,
           3,
           1,
           3,
           2,
           0,
           0,
           2,
           1,
           0,
           3,
           0,
           0,
           1,
           0,
           0,
           3,
           3,
           3,
           0,
           2,
           0,
           3,
           3,
           2,
           0,
           1,
           2,
           1,
           4,
           0,
           0,
           2,
           3,
           3,
           0,
           2,
           3,
           3,
           2,
           2,
           1,
           2,
           4,
           3,
           3,
           2,
           0,
           0,
           1,
           3,
           3,
           3,
           3,
           0,
           4,
           2,
           3,
           2,
           0,
           3,
           0,
           4,
           3,
           1,
           3,
           0,
           3,
           4,
           3,
           4,
           2,
           2,
           2,
           3,
           3,
           2,
           0,
           3,
           0,
           3,
           1,
           3,
           2,
           3,
           1,
           4,
           2,
           1,
           3,
           1,
           3,
           1,
           0,
           1,
           4,
           4,
           1,
           0,
           4,
           2,
           3,
           3,
           3,
           0,
           3,
           0,
           1,
           3,
           3,
           3,
           4,
           1,
           3,
           3,
           0,
           3,
           0,
           3,
           3,
           0,
           0,
           3,
           3,
           4,
           4,
           0,
           2,
           1,
           3,
           1,
           2,
           3,
           1,
           3,
           3,
           2,
           0,
           3,
           2,
           0,
           1,
           0,
           2,
           3,
           2,
           2,
           4,
           2,
           4,
           4,
           1,
           3,
           2,
           1,
           4,
           0,
           3,
           0,
           0,
           3,
           4,
           3,
           4,
           0,
           1,
           4,
           2,
           1,
           0,
           2,
           2,
           4,
           3,
           2,
           0,
           1,
           3,
           3,
           1,
           3,
           3,
           4,
           0,
           0,
           2,
           0,
           0,
           0,
           3,
           2,
           3,
           3,
           3,
           2,
           3,
           4,
           0,
           3,
           4,
           2,
           1,
           3,
           3,
           2,
           2,
           2,
           0,
           1,
           0,
           0,
           3,
           3,
           3,
           3,
           1,
           0,
           3,
           3,
           1,
           1,
           0,
           3,
           3,
           3,
           1,
           3,
           3,
           3,
           4,
           0,
           2,
           3,
           1,
           3,
           3,
           1,
           2,
           3,
           0,
           1,
           3,
           1,
           4,
           4,
           4,
           3,
           3,
           3,
           3,
           4,
           4,
           3,
           4,
           1,
           4,
           3,
           4,
           4,
           3,
           2,
           4,
           2,
           3,
           3,
           3,
           3,
           3,
           4,
           3,
           1,
           0,
           0,
           0,
           1,
           0,
           4,
           1,
           4
          ],
          "coloraxis": "coloraxis",
          "symbol": "circle"
         },
         "mode": "markers",
         "name": "",
         "showlegend": false,
         "type": "scattergl",
         "x": [
          1.5335482245290846,
          -0.7733516555749383,
          -1.1590036112154285,
          -0.19487372211420323,
          -0.11501649897652622,
          -0.4578182373236283,
          -0.6982246512293885,
          -0.30005152819797326,
          -0.3876996999344483,
          -0.2708354709524813,
          0.3485449426519419,
          0.24336713656817188,
          0.33685851975374487,
          0.509079488779801,
          0.593959823514072,
          -0.05186881033363915,
          0.5238412861248919,
          -0.3093319228524231,
          1.3340999403998612,
          -0.2825218938506783,
          0.2807636898424011,
          -0.34874495694045926,
          -0.6603829008923704,
          0.558900554819482,
          -1.5797148355505086,
          0.13549246366174145,
          -0.08385270458133522,
          0.22778523937057588,
          0.03301152440063182,
          -0.14929667281123582,
          -0.3799087513356503,
          -0.21559056270646107,
          0.6841122287287325,
          0.6101410244500363,
          -0.43444539152723477,
          -1.2992406859937886,
          -1.6638570804175248,
          -0.5793570354648737,
          -0.31758116254526825,
          0.10313006178981184,
          0.10313006178981184,
          -0.31758116254526825,
          -0.5045639289164148,
          0.10313006178981184,
          -0.4960647122631811,
          0.7611655665190399,
          0.3963530363263832,
          -3.823508032004269,
          -0.22408977935969523,
          0.24336713656817188,
          0.11587888676966311,
          0.18103954777778986,
          -1.0187665364370684,
          1.352514909815201,
          0.3296668748933162,
          0.6124120701954346,
          -0.581556832716299,
          0.5238412861248919,
          0.7706585377348053,
          0.9912982020527591,
          0.23117260832657505,
          -0.09615420236891001,
          -0.5279367747128083,
          0.06044921294422443,
          0.7395906319377538,
          0.10313006178981184,
          0.6734274992218098,
          0.4615136973345099,
          0.24336713656817188,
          0.695242155298443,
          0.5238412861248919,
          0.5238412861248919,
          -0.4110725457308418,
          -1.7199519103288685,
          0.35124180947460226,
          -0.9486479990478884,
          0.8373123944529908,
          -0.1422848190723182,
          -0.4061519466158115,
          0.664078360903252,
          0.546279218089429,
          -0.5419604821906445,
          -0.6885308442170592,
          0.5238412861248919,
          0.19662144497538486,
          -0.09943460177893021,
          0.9063060355204192,
          -0.6681738494911683,
          0.786785801334317,
          1.0725950569967353,
          0.06488358685025901,
          0.664078360903252,
          -0.2437721758198155,
          -0.22408977935969523,
          -0.6448010036947749,
          -0.6571025014823506,
          0.40778301734280037,
          -1.7199519103288685,
          0.5911550820185043,
          -0.7616652326767419,
          0.18239449536018973,
          0.05638437019702482,
          -0.22408977935969523,
          0.4303499029393189,
          0.08754816459221583,
          -1.3409327893062741,
          -0.07717474863950807,
          -0.5980553121019884,
          -2.561374358999029,
          -0.14929667281123582,
          -1.1590036112154285,
          -0.27551004011176067,
          0.4677464562135481,
          -0.24746262515608825,
          1.5522465011661992,
          -0.22408977935969523,
          -0.16655662047626468,
          -0.31758116254526825,
          0.2585279014090753,
          0.20181541070791686,
          0.34353647569557205,
          -0.23744569124334852,
          -0.8785294616587084,
          -0.5876673806369248,
          -1.0888850738262486,
          -1.7666976019216551,
          0.7278224858025063,
          0.4677464562135481,
          0.710824052496039,
          0.7930964696993434,
          0.804315435681612,
          -0.8785294616587084,
          0.3176102938037745,
          0.3453577364069791,
          -0.8785294616587084,
          0.60175077211287,
          1.283458774507675,
          -2.0004260598855885,
          -0.48586565227930023,
          -0.6331145807965783,
          0.11247920010836963,
          -0.12124925785556442,
          1.3540447688127837,
          -0.34874495694045926,
          0.04215742058182969,
          0.49431769143471105,
          0.05638437019702482,
          0.20512066162861906,
          -0.6681738494911683,
          -2.561374358999029,
          -1.4394777607721485,
          -1.0362961707843634,
          0.07076765991788221,
          -0.49287750601821834,
          -0.4110725457308418,
          0.3315161550002836,
          -0.037107012988548196,
          0.3897014754673298,
          -3.122322658112469,
          -2.8418485085557488,
          0.07508264683413943,
          -0.6381230477529483,
          0.9912982020527591,
          -0.17734408776690824,
          0.5238412861248919,
          1.1063645198196181,
          -0.6581569155784281,
          0.5799361160362357,
          -0.048325978970816766,
          0.26494207114945795,
          -0.304225250661615,
          0.10313006178981184,
          1.405331470446012,
          0.08417910573868186,
          0.6768271858831032,
          -0.054636647335843204,
          0.31986008644727754,
          -0.5579875764510285,
          1.084789585238332,
          0.35311789074254035,
          0.46286864491690977,
          0.05638437019702482,
          1.0640137223082051,
          0.11587888676966311,
          -1.0187665364370684,
          0.734196898292432,
          -0.9486479990478884,
          -0.3351107968925633,
          -0.02060853360285884,
          0.10313006178981184,
          -1.3994100251211887,
          -0.05868194756983428,
          -0.31758116254526825,
          -0.22408977935969523,
          0.716667263945137,
          0.40113384569382693,
          -0.8785294616587084,
          0.710824052496039,
          0.545416220706178,
          0.15571896483169684,
          0.20129601413466425,
          -1.673206218736082,
          0.13429385618500284,
          1.084789585238332,
          -0.0511307204663844,
          -0.17734408776690824,
          0.6754489345339297,
          0.286517005730744,
          0.24336713656817188,
          0.6407055151068589,
          0.5238412861248919,
          -0.8785294616587084,
          -0.0745035662627774,
          0.005573835857039204,
          -0.6506442151438734,
          0.45372274873571194,
          1.6457378843517723,
          2.2066861834652123,
          1.1549081226275122,
          -0.5279367747128083,
          -0.6448010036947749,
          0.05638437019702482,
          -0.22408977935969523,
          -2.140663134663949,
          0.10313006178981184,
          0.08754816459221583,
          0.3909851100190774,
          0.9912982020527591,
          0.5238412861248919,
          0.30809194031203013,
          0.27007896033547846,
          0.5238412861248919,
          -0.7214639379069451,
          -0.16996318909436275,
          0.15706739824302754,
          -0.6603829008923704,
          -0.31758116254526825,
          0.7600300436463402,
          0.757569744088825,
          0.9846202461109319,
          -0.6214281578983818,
          1.2250266600166921,
          0.804315435681612,
          -0.17734408776690824,
          -0.9065768766143804,
          0.5533648808150728,
          -0.47056706230347906,
          0.14581091063539925,
          0.804315435681612,
          0.3728167440558884,
          0.3555567963908595,
          -0.4297708223679564,
          -0.2078304083708998,
          0.4177159322385653,
          0.804315435681612,
          0.3722336377158541,
          0.7677318509568225,
          -0.972020844844282,
          -0.2744312933826961,
          0.2641429994982989,
          0.24336713656817188,
          -0.5117555737768436,
          0.699137629597842,
          0.08754816459221583,
          0.6003342360039976,
          -0.037107012988548196,
          0.8604102655929559,
          -0.037107012988548196,
          0.3836042113465319,
          0.5238412861248919,
          -1.3272881009494604,
          -0.9135887303532985,
          -0.15981445341961323,
          -1.2992406859937886,
          0.5238412861248919,
          -1.0187665364370684,
          -1.7900704477180487,
          0.05638437019702482,
          0.6921257758589244,
          0.5238412861248919,
          -0.49287750601821834,
          0.3728167440558884,
          0.5004684403284989,
          -0.31758116254526825,
          -1.1590036112154285,
          -0.19009291274675952,
          1.084789585238332,
          0.5996451103294108,
          0.2745309309633629,
          0.4459318001369139,
          1.2573890618886217,
          0.4578473685821345,
          1.6457378843517723,
          -0.13059839617412122,
          2.7676344825786523,
          -0.053605492374237555,
          -1.0187665364370684,
          -0.037107012988548196,
          -1.4610526953534346,
          -0.037107012988548196,
          0.7512527587384487,
          -0.25285635880141,
          0.699137629597842,
          -0.4504373386510828,
          0.06807079309522182,
          0.22259127363804487,
          -0.05580528962566281,
          -2.0004260598855885,
          0.5038074182994116,
          0.2882430004972471,
          0.3728167440558884,
          0.804315435681612,
          1.0517926264669533,
          -0.36707660070233633,
          0.835479230076803,
          0.19237183664876778,
          0.24336713656817188,
          -0.5980553121019884,
          0.05638437019702482,
          -0.037107012988548196,
          -0.9586649329606286,
          -0.6214281578983818,
          -0.5980553121019884,
          0.5861688749152739,
          0.5238412861248919,
          0.5390020509657953,
          -0.48586565227930023,
          -0.3954906485332463,
          -0.21859028623113214,
          0.9121901085880424,
          0.3991861085441279,
          -0.037107012988548196,
          -0.14043959440418186,
          -0.2852187606733386,
          -1.1590036112154285,
          -0.31758116254526825,
          -0.8785294616587084,
          1.6457378843517723,
          0.13117747674548424,
          -0.7931677639675326,
          0.23117260832657505,
          -0.6448010036947749,
          0.897806818867185,
          -0.49287750601821834,
          -0.037107012988548196,
          0.6290190922086619,
          0.570586977717679,
          -1.4394777607721485,
          0.18727230665682806,
          0.8604102655929559,
          0.2834348722191317,
          -0.5980553121019884,
          0.13117747674548424,
          -1.6638570804175248,
          0.022224057109988277,
          -0.2825218938506783,
          0.34191210803404637,
          -0.28641736815007723,
          0.7442138322051717,
          2.2066861834652123,
          0.664078360903252,
          0.18103954777778986,
          -0.3776827660217081,
          -0.31758116254526825,
          0.19077823352628687,
          -0.01707314516306777,
          -1.7199519103288685,
          0.24336713656817188,
          -0.3876996999344483,
          -2.561374358999029,
          0.6271738675405256,
          -0.9096932560538994,
          0.08663158240412248,
          0.3836042113465319,
          1.178280968423905,
          0.32127662255614986,
          0.9645863782854525,
          -0.6541501420133321,
          0.7622443132481044,
          0.09574916311726636,
          1.014671047849152,
          -0.4356755413059924,
          -1.2992406859937886,
          -1.2291221486046084,
          0.22333326874269144,
          -0.4811910831200218,
          -0.5980553121019884,
          0.05825419786073659,
          0.24336713656817188,
          1.140884415149676,
          -0.466067477016473,
          -0.5279367747128083,
          -0.31758116254526825,
          0.7053245593674758,
          -0.10722555037772821,
          0.3836042113465319,
          1.5896430544404283,
          0.18493502207718884,
          1.6106786156571822,
          -0.7059299850084193,
          -1.7199519103288685,
          1.0447218495873722,
          -0.5980553121019884,
          0.593959823514072,
          -1.0468139513927404,
          -0.4811910831200218,
          -1.3693592233829686,
          -0.972020844844282,
          -0.3799087513356503,
          -0.6128171094470788,
          1.0380438936455452,
          1.0432378593780771,
          0.710824052496039,
          0.804315435681612,
          -0.6541501420133321,
          0.4591164823810337,
          0.038405258045953586,
          0.17324859917899185,
          0.025220575801833817,
          -0.5045639289164148,
          -0.5980553121019884,
          1.1649250565402518,
          -2.2809002094423088,
          -0.4578182373236283,
          -1.0105172967442237,
          -0.037107012988548196,
          0.26089677091546687,
          -1.4394777607721485,
          -0.9185971973096683,
          0.21220334217298087,
          0.06044921294422443,
          -0.5980553121019884,
          0.14987575338259884,
          0.3836042113465319,
          -1.1590036112154285,
          -0.08385270458133522,
          0.30809194031203013,
          1.2717723516094792,
          0.2901128281609589,
          -0.17734408776690824,
          0.827688281478005,
          -1.345986377586575,
          0.4770955945321049,
          -0.1256777970590909,
          0.009638678604238811,
          0.46050841364434203,
          -1.8601889851072286,
          1.3652637347950523,
          -0.057140880814028634,
          -0.13059839617412122,
          1.1549081226275122,
          0.6173326693104649,
          -0.3419702190284614,
          4.450479379918973,
          0.22583750222087687,
          -1.4394777607721485,
          -0.5446316645673752,
          1.23112392413749,
          -0.36857646246467185,
          0.27842640526276186,
          0.664078360903252,
          -0.08385270458133522,
          0.31887940760267364,
          0.7827405011003259,
          -1.252494994401002,
          0.2745309309633629,
          0.7611655665190399,
          0.897806818867185,
          -0.49018063919555743,
          -0.26364382609205256,
          0.4437058148229722,
          -1.2150984411267722,
          0.3836042113465319,
          0.02888690455420923,
          -0.31758116254526825,
          -0.8785294616587084,
          3.889531080805533,
          -0.5045639289164148,
          0.31106779335772544,
          -0.3977166338471885,
          1.2250266600166921,
          -0.31758116254526825,
          -0.48586565227930023,
          2.2066861834652123,
          -0.7149195410839548,
          0.07076765991788221,
          -0.17734408776690824,
          -1.345986377586575,
          -0.6490506120213919,
          -0.4578182373236283,
          -1.8601889851072286,
          1.033794285318928,
          0.10313006178981184,
          0.804315435681612,
          -0.037107012988548196,
          0.24336713656817188,
          0.07508264683413943,
          0.5082593889272959,
          -0.22408977935969523,
          0.07076765991788221,
          0.15922489170115564,
          1.412009426387839,
          1.5405600782680022,
          0.24336713656817188,
          -0.5824734149043929,
          0.607225492749863,
          1.5580897126152973,
          0.9796117791545621,
          -0.41957176238407545,
          0.2994619664795157,
          -0.8084109242695284,
          -0.8084109242695284,
          -1.4394777607721485,
          -0.3776827660217081,
          -0.011609363028846647,
          0.6748658281938955,
          -0.8785294616587084,
          -0.013734167192155193,
          -0.037107012988548196,
          0.5238412861248919,
          1.0692076880407362,
          -0.7102449719246765,
          0.14987575338259884,
          1.084789585238332,
          0.5238412861248919,
          0.9337650431693285,
          0.11587888676966311,
          0.5419363925479066,
          0.13117747674548424,
          0.6816079952505469,
          -0.11091599971400096,
          -0.11190011953700661,
          0.4437058148229722,
          -1.1590036112154285,
          -0.07076391093535489,
          -0.3272526849437761,
          1.084789585238332,
          -0.013734167192155193,
          -0.972020844844282,
          0.2268686571824825,
          0.5639090217758518,
          0.6841122287287325,
          0.012388425168519871,
          -0.6464129240945263,
          2.6741430993930795,
          -0.0910443494417639,
          0.5371971980085453,
          -0.06827080738373921,
          0.944552510459972,
          0.3134856739573519,
          1.88306216474592,
          0.9289706132623761,
          0.32647058828868186,
          -0.24746262515608825,
          0.8258903702628981,
          -1.2237284149592866,
          1.6457378843517723,
          -1.065512228029855,
          -1.4394777607721485,
          0.45372274873571194,
          -0.6681738494911683,
          0.7395906319377538,
          -0.17734408776690824,
          -0.17066613182508109,
          -1.7199519103288685,
          -0.002047744293958191,
          0.203299400917212,
          0.4983436361651904,
          -0.14929667281123582,
          0.8928862197521548,
          0.6290190922086619,
          0.24336713656817188,
          -0.9019023074551019,
          0.5238412861248919,
          0.804315435681612,
          -0.23128142422012393,
          0.751726532639727,
          1.3652637347950523,
          -1.2711932710381166,
          1.8327206507229192,
          0.11137930148265701,
          1.084789585238332,
          0.12316392961529227,
          -1.0012369020897733,
          0.4719016287995729,
          0.9814570038226984,
          1.5730223640963261,
          0.3157475622602286,
          0.07508264683413943,
          0.32479511547173545,
          0.16687418668906623,
          0.22333326874269144,
          0.9846202461109319,
          -0.16459526278705697,
          -0.26658586262586415,
          0.0060428561740239655,
          -0.7149195410839548,
          -0.36432685413805477,
          -1.0468139513927404,
          -0.06047985878494121,
          -0.8455325028873297,
          -0.36432685413805477,
          -0.20539150272258064,
          -0.4511402813818017,
          -0.31758116254526825,
          0.4556178443408252,
          -1.4139801108124466,
          -0.06381883675585477,
          0.6063336830533387,
          -2.561374358999029,
          -0.48586565227930023,
          0.646548726555957,
          -0.31758116254526825,
          -0.4038809008704131,
          0.22333326874269144,
          -0.2775134268943084,
          0.1448221651022974,
          -0.3283686298359113,
          0.2901128281609589,
          -2.2809002094423088,
          -0.26148633263392446,
          -0.8224346317473646,
          1.2717723516094792,
          0.5238412861248919,
          1.0714336733546788,
          0.19662144497538486,
          0.570586977717679,
          0.5314216685453441,
          -0.36432685413805477,
          -2.0004260598855885,
          1.0046541139364122,
          -0.9550224115378141,
          0.8582527721348278,
          -0.07717474863950807,
          1.084789585238332,
          -0.7102449719246765,
          0.17324859917899185,
          0.6768271858831032,
          -1.0187665364370684,
          -0.31758116254526825,
          1.0286947553269883,
          -0.31758116254526825,
          0.13117747674548424,
          -0.3430788125049703,
          1.084789585238332,
          0.05638437019702482,
          -1.0187665364370684,
          1.6457378843517723,
          0.0060428561740239655,
          -2.8418485085557488,
          0.944552510459972,
          -0.4254558354516992,
          0.21220334217298087,
          0.3275093814351881,
          -0.49018063919555743,
          -1.0187665364370684,
          0.7713184769102333,
          0.5799361160362357,
          0.08155512720852576,
          0.8644170391580523,
          -1.7199519103288685,
          0.03301152440063182,
          -1.5516674205948366,
          2.6273974078002924,
          0.804315435681612,
          -0.3008364371985981,
          -1.1158537420528563,
          -0.16655662047626468,
          0.31986008644727754,
          0.3134856739573519,
          1.084789585238332,
          1.489918912375816,
          5.432138903367493,
          1.2250266600166921,
          0.002960722662411668,
          -0.12475518472502323,
          -1.5797148355505086,
          2.136567646076032,
          -0.3340796419309576,
          6.554035501594373,
          -0.5980553121019884,
          -0.037107012988548196,
          1.178280968423905,
          -1.0888850738262486,
          -0.22408977935969523,
          -1.2641814172991985,
          -0.019577378641253196,
          -1.3693592233829686,
          0.2745309309633629,
          0.4591164823810337,
          0.6240106252522921,
          -0.9252751532514949,
          -1.6498333729396886,
          -0.17734408776690824,
          -0.6681738494911683,
          -0.3526404312398583,
          -0.6681738494911683,
          -0.8785294616587084,
          0.4983436361651904,
          -0.15397124197051523,
          -0.9346242915700522,
          -1.345986377586575,
          0.47125238308300693,
          1.6457378843517723,
          -0.8482079319769007,
          1.084789585238332,
          0.3836042113465319,
          -0.7382923868803484,
          -0.43444539152723477,
          0.5238412861248919,
          -0.07717474863950807,
          -0.5980553121019884,
          -1.0888850738262486,
          0.24336713656817188,
          0.3836042113465319,
          -0.5980553121019884,
          0.5885660898687501,
          2.4871603330219325,
          0.24336713656817188,
          0.24336713656817188,
          0.4770955945321049,
          -0.41957176238407545,
          -2.0004260598855885,
          0.8183391431594482,
          -0.972020844844282,
          0.7482206057702682,
          -2.2809002094423088,
          1.9262120339084923,
          1.0286947553269883,
          -0.13609788930268435,
          -0.20970648963883787,
          0.535527709023089,
          -0.49018063919555743,
          0.018987816922795615,
          1.3652637347950523,
          1.9262120339084923,
          -0.5805256777546933,
          -1.5797148355505086,
          0.04919272533659613,
          0.36058021399486095,
          0.06488358685025901,
          0.4473483362457863,
          -0.5980553121019884,
          0.3836042113465319,
          0.045385383939898584,
          1.2406085572142882,
          0.3836042113465319,
          0.7038470836015931,
          -1.4394777607721485,
          4.170005230362253,
          0.5238412861248919,
          0.839374704376202,
          1.2530740749723646,
          -0.4110725457308418,
          0.7201731908145957,
          2.2066861834652123,
          0.015481890053336814,
          0.10313006178981184,
          0.24336713656817188,
          1.458755117980625,
          0.4615136973345099,
          1.7392292675373453,
          -0.31758116254526825,
          0.06488358685025901,
          0.23168071366997486,
          0.8338390303717929,
          -1.4394777607721485,
          0.9165050955042996,
          -0.7149195410839548,
          -1.7199519103288685,
          1.131535276831119,
          0.8604102655929559,
          0.9997974187059923,
          -0.002047744293958191,
          -0.31758116254526825,
          1.8327206507229192,
          0.2573908440460081,
          -0.4110725457308418,
          0.3836042113465319,
          1.2899124707350376,
          0.21825004854816665,
          -0.5045639289164148,
          0.5238412861248919,
          -1.3119895109736393,
          -0.5980553121019884,
          0.1431977974407717,
          -0.6798602723893649,
          0.3836042113465319,
          1.9262120339084923,
          0.33685851975374487,
          -0.6401264345354964,
          0.3485449426519419,
          -0.037107012988548196,
          -1.1590036112154285,
          0.9337650431693285,
          -1.345986377586575,
          1.2789639964699078,
          -0.5980553121019884,
          0.5843357105390863,
          1.5594381460266278,
          0.03301152440063182,
          1.9262120339084923,
          -1.6498333729396886,
          0.804315435681612,
          0.5238412861248919,
          0.19237183664876778,
          1.2450605278421725,
          0.294362436487576,
          -1.362984810893043,
          -0.5980553121019884,
          -1.7199519103288685,
          0.007768850940527051,
          1.2979499389014397,
          0.5533648808150728,
          -0.4578182373236283,
          -0.3010826831595789,
          0.5004684403284989,
          0.648496463705656,
          -0.11724248429046794,
          1.084789585238332,
          -0.7102449719246765,
          -0.6603829008923704,
          0.3836042113465319,
          0.5130538188342484,
          -0.20539150272258064,
          -0.1422848190723182,
          -1.4394777607721485,
          0.664078360903252,
          -0.9907191214813965,
          -0.09320184289989202,
          -1.0187665364370684,
          -0.22408977935969523,
          -0.8275341617393048,
          2.4871603330219325,
          0.804315435681612,
          -0.7382923868803484,
          -1.1590036112154285,
          1.2250266600166921,
          0.757569744088825,
          -1.7199519103288685,
          1.0082966353592264,
          -0.9065768766143804,
          -0.8084109242695284,
          -0.17734408776690824,
          1.5255346773988927,
          0.9645863782854525,
          1.3652637347950523,
          -1.0888850738262486,
          -0.19292598496450425,
          -1.0187665364370684,
          0.3635703435210515,
          -1.1239443425208384,
          0.10313006178981184,
          0.3836042113465319,
          -0.5980553121019884,
          1.1745413130964826,
          -0.4110725457308418,
          1.7333860560882473,
          0.14437626025403572,
          -0.5980553121019884,
          0.6258318859636991,
          2.4871603330219325,
          -0.4578182373236283,
          -0.1573102199414278,
          -1.5797148355505086,
          -2.8418485085557488,
          2.8377530199678325,
          0.22860533922308093,
          1.014671047849152,
          -0.31758116254526825,
          -2.2809002094423088,
          0.45372274873571194,
          0.5885660898687501,
          -0.6603829008923704,
          -1.1080083112960248,
          -0.17734408776690824,
          0.2994619664795157,
          0.6258318859636991,
          -0.31758116254526825,
          0.5126223201426233,
          0.5518887010805643,
          -0.23744569124334852,
          1.2717723516094792,
          0.3976279188243681,
          0.804315435681612,
          0.12316392961529227,
          0.4303499029393189,
          -1.2291221486046084,
          -0.09016968993171154,
          -1.416104914975755,
          -1.2864918610139378,
          -0.4450694123437775,
          -0.5579875764510285,
          0.13117747674548424,
          -1.7199519103288685,
          -2.0004260598855885,
          2.2868216547671323,
          -0.5980553121019884,
          1.6888877535143443,
          1.084789585238332,
          0.664078360903252,
          -2.0004260598855885,
          0.14987575338259884,
          -2.0004260598855885,
          1.701832714263116,
          0.05638437019702482,
          -2.2809002094423088,
          0.3485449426519419,
          -0.31758116254526825,
          0.804315435681612,
          0.21220334217298087,
          0.3024143259485337,
          -3.122322658112469,
          -0.9019023074551019,
          0.751726532639727,
          1.8140223740858046,
          -1.1029087813040848,
          -0.5980553121019884,
          -0.40172340741228446,
          -1.2992406859937886,
          -0.7032331181857584,
          -0.10722555037772821,
          -1.2711932710381166,
          0.851061127274399,
          2.2066861834652123,
          -0.31758116254526825,
          1.6457378843517723,
          0.734196898292432,
          0.9866236328934797,
          -0.17734408776690824,
          0.734196898292432,
          -0.31758116254526825,
          -0.4110725457308418,
          0.45372274873571194,
          0.751726532639727,
          0.5238412861248919,
          -3.683270957225909,
          0.7482206057702682,
          0.7827405011003259,
          -2.140663134663949,
          0.16156217628079486,
          -2.2809002094423088,
          -1.1590036112154285,
          0.10313006178981184,
          -0.037107012988548196,
          0.4236719469974918,
          0.40363807917201233,
          0.944552510459972,
          -0.8785294616587084,
          2.3936689498363592,
          1.2530740749723646,
          -0.13059839617412122,
          -0.6681738494911683,
          -1.0468139513927404,
          -0.4297708223679564,
          -0.6541501420133321,
          0.9725999254156444,
          -1.3693592233829686,
          -0.037107012988548196,
          -0.972020844844282,
          -0.5980553121019884,
          2.2066861834652123,
          -0.20970648963883787,
          0.3134856739573519,
          -1.1590036112154285,
          -1.1590036112154285,
          -0.31758116254526825,
          -0.5980553121019884,
          -1.1189358755644687,
          -1.6358096654618524,
          0.9796117791545621,
          0.18727230665682806,
          -0.011609363028846647,
          0.3555567963908595,
          0.10313006178981184,
          -0.7207627525330533,
          -1.0362961707843634,
          -0.11724248429046794,
          -0.31758116254526825,
          1.4927519845935608,
          -1.2213312000058105,
          -0.5980553121019884,
          0.804315435681612,
          -2.561374358999029,
          -0.8785294616587084,
          -1.345986377586575,
          0.7482206057702682,
          -0.17734408776690824,
          0.10313006178981184,
          0.10313006178981184,
          -2.0004260598855885,
          -2.4211372842206687,
          -0.17734408776690824,
          -2.4211372842206687,
          -0.6541501420133321,
          -3.683270957225909,
          -0.7102449719246765,
          -0.8504820467030365,
          -2.0004260598855885,
          0.5238412861248919,
          -1.7199519103288685,
          -3.4027968076691892,
          0.804315435681612,
          -1.3593422894702283,
          -0.6915466952875619,
          -0.22408977935969523,
          -0.8785294616587084,
          -0.5980553121019884,
          -1.7199519103288685,
          -0.8785294616587084,
          0.10313006178981184,
          1.421358564706396,
          0.6360309459475796,
          0.9725999254156444,
          0.664078360903252,
          0.9044847748090121,
          -0.972020844844282,
          -0.5980553121019884,
          -3.9637451067826293
         ],
         "xaxis": "x",
         "y": [
          0.33974197884976437,
          -1.1226513650567729,
          -0.9010766159800249,
          0.8715213766339599,
          0.40726952142553563,
          -0.11606893353668857,
          -0.21374270047664315,
          -0.1255649942114065,
          0.17514359382132283,
          0.5549860208100338,
          0.7290804665131932,
          1.4033007744181554,
          0.3017577361508934,
          -0.4279395578011042,
          -0.4579271178265286,
          -0.18803907759770738,
          0.795552891236218,
          0.4693352774694424,
          0.6604978060846761,
          0.3967183428980711,
          -0.014777619673032667,
          -0.3524153325518867,
          0.40726952142553563,
          -0.17304529758499534,
          -1.027690758309595,
          0.7254281354844555,
          -1.2809190429687358,
          0.15404123676639453,
          0.6816001631396044,
          0.03586803725879596,
          -0.6478483313208842,
          0.802459117181467,
          0.6363808265933294,
          1.718862175301084,
          -0.014777619673032667,
          -1.027690758309595,
          -2.0912495538779856,
          -0.5718798459231418,
          0.7765607698867821,
          -0.6478483313208842,
          -0.7744624736504543,
          -2.547060466264439,
          0.3650648073156783,
          -0.14139176200260256,
          0.8369902469077131,
          -0.2680059043321731,
          0.6988657280027274,
          0.8715213766339599,
          -1.5341473276278763,
          2.466859569986546,
          -0.5097238124158984,
          0.7449072343043893,
          1.3779779459522414,
          0.24996104156152357,
          -0.2095686078723716,
          0.6516126031141797,
          0.3576169165904095,
          1.5552377452136399,
          0.27896719053157054,
          0.027427094436824635,
          0.4916789496452489,
          0.3317452961763181,
          -0.8377695448152396,
          -0.7304227719706039,
          -0.3264432007919749,
          -0.2680059043321731,
          0.6942615773725613,
          1.5890015165015252,
          0.25792976380604227,
          0.8715213766339599,
          -0.6133172015946377,
          -0.014777619673032667,
          -0.5212341889913139,
          -1.5703227968648965,
          -0.9108161653899918,
          -1.4075331852983062,
          -0.312693248683786,
          -0.17304529758499534,
          0.21179505607461988,
          -0.5787860718683913,
          1.6160125335318338,
          0.06625543141789286,
          1.1288339884650223,
          1.4033007744181554,
          -0.18359647611245986,
          1.4201826600620981,
          0.2844921712877703,
          -0.36296651107935085,
          0.7765607698867821,
          1.1522744748430074,
          0.8369902469077131,
          0.8293166625241033,
          -0.5079063845355696,
          -0.8377695448152396,
          0.027427094436824635,
          -0.06808883749600914,
          0.517874979092746,
          -0.2680059043321731,
          -0.38955548096856074,
          1.567899159446597,
          0.78894693598424,
          -0.5212341889913139,
          0.4916789496452489,
          1.39204618398886,
          1.5045920882818113,
          1.0255115497374914,
          0.8172581727784299,
          0.024180577966835665,
          -0.7744624736504543,
          1.175395318224929,
          -1.027690758309595,
          -0.002116205440075679,
          1.2513638036226709,
          0.7765607698867821,
          -0.6056436172110274,
          -0.17304529758499534,
          0.4916789496452489,
          0.8715213766339599,
          -0.02162162736652255,
          0.3509965692790597,
          0.19323132843983282,
          0.3831525419341883,
          0.23845066498610845,
          1.1106814232564817,
          -0.2680059043321731,
          -1.027690758309595,
          0.8369902469077131,
          -0.11606893353668857,
          -1.2809190429687358,
          -0.14645632769578548,
          -2.547060466264439,
          -0.1920374189344312,
          -0.46909895391443185,
          -0.06081912597469456,
          -1.787375612287017,
          -0.6478483313208842,
          -0.0464311552554248,
          -1.027690758309595,
          0.6436159204407335,
          0.7765607698867821,
          0.18780500805427983,
          -0.11606893353668857,
          0.30935458469066746,
          1.5467968023916685,
          1.284393579882559,
          0.5316623630124814,
          1.1247496612931003,
          0.042774263204045045,
          -0.36296651107935085,
          -2.547060466264439,
          3.530418365554937,
          0.824041073260371,
          -0.2095686078723716,
          -1.1226513650567729,
          0.3903876357815923,
          1.0994268328271863,
          0.11183652265653789,
          0.6568278309446886,
          -1.787375612287017,
          1.2513638036226709,
          0.4916789496452489,
          -0.37653231204323334,
          -0.6056436172110274,
          0.11183652265653789,
          -0.10521629276558259,
          1.1929265071628694,
          0.9800477843450205,
          -0.8757537875141106,
          0.8563276795544118,
          0.6085535425648525,
          0.7449072343043893,
          0.6544685612118394,
          0.8896091112524699,
          -0.12428174276887684,
          -0.7514417204996233,
          0.34923803952448224,
          0.11183652265653789,
          -0.7021115351764143,
          1.631206230611382,
          0.12835141078648157,
          0.524708725905137,
          0.42837187848046393,
          -0.04291409574626997,
          0.7679279874552203,
          0.7765607698867821,
          -0.9327301515624173,
          2.4858516913359816,
          -0.22052560095858423,
          0.04480550612911854,
          0.01687591590936014,
          -1.8959020199980774,
          1.3098011000824723,
          0.8044903601065405,
          -0.014777619673032667,
          -0.030604387464228732,
          0.2542774327773045,
          1.631206230611382,
          0.16609972651206784,
          0.7838654319442576,
          0.9190016800075488,
          0.22578925075315145,
          0.3650648073156783,
          -0.014777619673032667,
          1.1247496612931003,
          0.07385227995766692,
          -0.2680059043321731,
          -0.04215365044699354,
          -0.2095686078723716,
          -1.2176119718039506,
          -0.8377695448152396,
          0.6298034685502346,
          -0.014777619673032667,
          -0.06542327660486062,
          0.24395562769608944,
          -0.17304529758499534,
          0.42837187848046393,
          0.9981355189635305,
          2.2642769422592335,
          0.5866395563924266,
          -0.4579271178265286,
          1.1669543754029577,
          1.1669543754029577,
          -0.0780846908378176,
          -0.2680059043321731,
          -1.4075331852983062,
          -0.7744624736504543,
          0.5316623630124814,
          0.15404123676639453,
          -0.2680059043321731,
          0.7838654319442576,
          0.4916789496452489,
          -0.29513750625993806,
          0.9474898620317018,
          0.2517784694418524,
          0.3455857084957445,
          -0.7744624736504543,
          0.6377721907947532,
          1.2513638036226709,
          0.8715213766339599,
          -0.37653231204323334,
          0.7449072343043893,
          0.8715213766339599,
          3.530418365554937,
          1.631206230611382,
          -0.6478483313208842,
          -0.3479727310666385,
          -0.5097238124158984,
          -0.4661845618915004,
          0.23845066498610845,
          0.7254281354844555,
          -1.1796277291050796,
          -0.7238168167186264,
          0.2935002920859212,
          0.3479547880819526,
          0.14636765238278465,
          0.14263455727724403,
          0.0953216345265942,
          0.23845066498610845,
          0.3748043567256452,
          0.9277943287804358,
          0.4916789496452489,
          0.4332416531854474,
          0.3967183428980711,
          -0.6056436172110274,
          0.14636765238278465,
          0.9257845804894899,
          -1.331564699900564,
          0.33974197884976437,
          1.631206230611382,
          0.9474898620317018,
          -0.2680059043321731,
          0.06435621928294902,
          -0.41044681445293973,
          -1.787375612287017,
          -1.787375612287017,
          0.11183652265653789,
          -0.0780846908378176,
          -0.18359647611245986,
          0.6436159204407335,
          -0.7902892414416507,
          0.34923803952448224,
          -0.85237886893019,
          1.0930961257107081,
          0.23845066498610845,
          2.770733511577515,
          -0.8895662394046094,
          1.2513638036226709,
          0.204230626518657,
          -0.39462004666174333,
          0.8715213766339599,
          0.08261787442663715,
          0.8938650488097664,
          -0.11606893353668857,
          1.631206230611382,
          5.809472927487203,
          0.715115671403314,
          0.3967183428980711,
          2.0110486576000928,
          -0.09269401495276798,
          0.23845066498610845,
          0.7380632266108994,
          0.4916789496452489,
          -0.0780846908378176,
          0.5716457763797146,
          0.01687591590936014,
          0.2665871410593457,
          -0.11606893353668857,
          -1.787375612287017,
          0.5188105515730138,
          0.886715073713508,
          1.2513638036226709,
          1.631206230611382,
          0.4023042609420231,
          -0.8489413809031429,
          1.6734109447212384,
          0.008243133477798282,
          0.42837187848046393,
          0.4916789496452489,
          1.5045920882818113,
          1.2513638036226709,
          1.576943026755852,
          0.6816001631396044,
          0.11183652265653789,
          0.9137260907438165,
          0.4916789496452489,
          -0.16534578892981883,
          -1.027690758309595,
          0.11183652265653789,
          -0.8042540365515299,
          -0.5017550901713798,
          -0.5212341889913139,
          1.1929265071628694,
          -0.6278566246372679,
          -0.03425671849296649,
          -1.787375612287017,
          -3.306745320241861,
          -1.027690758309595,
          -0.2680059043321731,
          -1.331564699900564,
          -0.4001250093717247,
          -0.7634525482304916,
          -0.2680059043321731,
          -0.2680059043321731,
          0.3017577361508934,
          0.4916789496452489,
          -0.6478483313208842,
          -1.660761469957447,
          -0.6478483313208842,
          -0.2680059043321731,
          -2.3951234954689546,
          0.11183652265653789,
          -0.15947949662111252,
          -0.11606893353668857,
          -0.8757537875141106,
          0.287148412035943,
          0.3017577361508934,
          -0.2474738812517021,
          -0.5212341889913139,
          0.4916789496452489,
          -0.6478483313208842,
          0.5549860208100338,
          0.06963180854668126,
          0.05757331880100794,
          0.7449072343043893,
          0.5391592530188377,
          0.22036293036759846,
          -1.787375612287017,
          -0.10807225086324233,
          -0.39462004666174333,
          -0.2680059043321731,
          0.051861402605689104,
          1.335773231842384,
          0.5140226218210553,
          -0.2680059043321731,
          0.7449072343043893,
          -0.4790294748814569,
          0.4916789496452489,
          0.03586803725879596,
          -0.5718798459231418,
          0.4916789496452489,
          -0.1255649942114065,
          -0.867757104840664,
          1.2513638036226709,
          -1.2176119718039506,
          -0.10521629276558259,
          0.11183652265653789,
          0.23845066498610845,
          0.6891970116793784,
          0.8715213766339599,
          0.4536947069463779,
          -0.13394387127733373,
          -0.4579271178265286,
          -0.6003680279472953,
          -0.35738059303539926,
          -0.2680059043321731,
          -0.8757537875141106,
          -0.6326546342413356,
          -0.5528877245737064,
          -0.4579271178265286,
          0.08261787442663715,
          0.11183652265653789,
          0.32888933807865833,
          3.530418365554937,
          0.5866395563924266,
          -0.014777619673032667,
          -0.7111554024856693,
          1.2513638036226709,
          0.4916789496452489,
          -0.8588719018701679,
          -0.3479727310666385,
          2.4541981557535886,
          1.1106814232564817,
          0.7449072343043893,
          -1.5341473276278763,
          -0.04010044813894664,
          -0.5017550901713798,
          -0.5894110348610823,
          1.631206230611382,
          -0.18359647611245986,
          -0.2680059043321731,
          0.23845066498610845,
          1.6854694344669119,
          -0.2680059043321731,
          0.18780500805427983,
          0.3576169165904095,
          -2.547060466264439,
          0.11183652265653789,
          0.6816001631396044,
          0.4374157457897189,
          0.4916789496452489,
          -0.994660982049707,
          -0.41994287512765766,
          0.2701042005685006,
          -0.8588719018701679,
          -0.8377695448152396,
          -0.8166671877603113,
          -0.9108161653899918,
          -1.2809190429687358,
          0.3017577361508934,
          -0.2680059043321731,
          -0.0780846908378176,
          1.5045920882818113,
          -0.5212341889913139,
          -0.028105424128776615,
          0.8082143054691749,
          -0.5375714976790004,
          -1.027690758309595,
          2.0110486576000928,
          -0.8106379428874746,
          0.7449072343043893,
          -0.36296651107935085,
          0.4916789496452489,
          0.44213428525541715,
          1.2513638036226709,
          -1.075171061683184,
          0.40726952142553563,
          0.7087317650673693,
          -0.1689165755525096,
          0.14636765238278465,
          -0.0780846908378176,
          -0.6478483313208842,
          -0.6478483313208842,
          0.287148412035943,
          0.6085535425648525,
          -0.9010766159800249,
          -0.18359647611245986,
          0.4332416531854474,
          -0.14139176200260256,
          -0.09269401495276798,
          0.5793348943349511,
          0.9800477843450205,
          1.5552377452136399,
          -1.4075331852983062,
          0.2682422278871837,
          -0.5212341889913139,
          1.7578203729409525,
          0.4916789496452489,
          1.7578203729409525,
          -0.03224163930469701,
          1.1428373959116103,
          0.6816001631396044,
          -0.10521629276558259,
          -0.41994287512765766,
          -0.2680059043321731,
          -0.39462004666174333,
          0.8423027284040592,
          0.11183652265653789,
          -1.2809190429687358,
          0.8369902469077131,
          1.0614425901283153,
          -2.167218039275728,
          -0.19894364487968025,
          2.770733511577515,
          -2.167218039275728,
          -0.2680059043321731,
          -0.014777619673032667,
          0.33974197884976437,
          -0.5634389031011705,
          -0.6478483313208842,
          0.024180577966835665,
          -0.3439743897299154,
          1.3779779459522414,
          0.9664819833811377,
          0.715115671403314,
          0.40726952142553563,
          -0.2474738812517021,
          0.34923803952448224,
          -0.6478483313208842,
          -0.6823794610471305,
          -0.45033026928675457,
          -0.2680059043321731,
          -1.787375612287017,
          -1.787375612287017,
          -0.3222691081877034,
          -0.475192682689652,
          1.4851129894618775,
          0.26377349345202245,
          -0.3313129754969584,
          -0.2680059043321731,
          0.33974197884976437,
          0.23845066498610845,
          -0.7238168167186264,
          0.7449072343043893,
          0.11183652265653789,
          -1.027690758309595,
          1.1929265071628694,
          0.2154299118352775,
          0.39365509751913,
          0.4916789496452489,
          0.9664819833811377,
          0.21179505607461988,
          2.0616943145319206,
          -0.8106379428874746,
          -0.7744624736504543,
          0.40051676716795814,
          0.2297186551702756,
          0.7228873834644639,
          -1.027690758309595,
          -0.014777619673032667,
          -0.1786312156289473,
          -0.15947949662111252,
          -0.5212341889913139,
          2.145110690654932,
          -0.05843766875219488,
          -0.39462004666174333,
          0.19949246734624013,
          -0.12330402738409256,
          0.4916789496452489,
          -0.5983036669310523,
          -1.787375612287017,
          -0.2680059043321731,
          -1.1121001865293088,
          -0.02884585770965132,
          0.15931682603012676,
          -0.3264432007919749,
          -0.7939415724703884,
          -2.167218039275728,
          1.5045920882818113,
          -1.2809190429687358,
          -1.027690758309595,
          -0.2680059043321731,
          1.2513638036226709,
          0.11183652265653789,
          0.3469770726971683,
          -1.4075331852983062,
          0.9664819833811377,
          -0.43079551589876364,
          0.14636765238278465,
          -0.014777619673032667,
          0.6116291897469471,
          0.6816001631396044,
          -0.7744624736504543,
          -0.14139176200260256,
          0.4916789496452489,
          -0.11606893353668857,
          -0.6770669795507849,
          0.01687591590936014,
          0.11183652265653789,
          -0.7238168167186264,
          4.290103219532359,
          -0.1786312156289473,
          1.631206230611382,
          -0.8649011467430046,
          0.20679712940371564,
          0.013358856400205309,
          0.2517784694418524,
          -0.07105057181950794,
          1.398399581811849,
          -1.331564699900564,
          -0.2925118673637028,
          0.5952723388239884,
          1.4684166190447914,
          -0.05095308891005263,
          0.2154299118352775,
          0.008243133477798282,
          0.024180577966835665,
          0.048529451491752945,
          0.23845066498610845,
          -1.1796277291050796,
          -0.5212341889913139,
          -0.2680059043321731,
          -1.4075331852983062,
          -0.3439743897299154,
          -0.014777619673032667,
          -1.787375612287017,
          -0.452794112056411,
          -0.7514417204996233,
          -0.8468134121244946,
          -0.13394387127733373,
          -3.306745320241861,
          0.33974197884976437,
          -0.7428089380680618,
          -2.547060466264439,
          -0.5017550901713798,
          0.2746261342231284,
          0.2746261342231284,
          -0.0010896042860515556,
          0.7838654319442576,
          0.4916789496452489,
          -2.547060466264439,
          -1.787375612287017,
          -0.8757537875141106,
          -0.5212341889913139,
          0.16609972651206784,
          -0.2680059043321731,
          -0.5845412601560989,
          -0.39462004666174333,
          0.5122109727257199,
          -0.5845412601560989,
          -0.2680059043321731,
          0.22036293036759846,
          -0.7514417204996233,
          0.08261787442663715,
          -0.7021115351764143,
          0.4916789496452489,
          0.33974197884976437,
          0.20679712940371564,
          -0.337068163784666,
          -0.5845412601560989,
          0.19323132843983282,
          0.795552891236218,
          -0.7744624736504543,
          0.3903876357815923,
          -0.6478483313208842,
          1.0176146177834642,
          -0.4579271178265286,
          1.631206230611382,
          -1.787375612287017,
          0.14105517088643862,
          0.4916789496452489,
          0.4916789496452489,
          0.17027381911633938,
          -0.7744624736504543,
          -0.0780846908378176,
          -0.2095686078723716,
          -0.6478483313208842,
          -0.22331855998056022,
          -1.1796277291050796,
          0.6962094872545548,
          -0.10521629276558259,
          -2.547060466264439,
          -0.0780846908378176,
          -1.6354386414915325,
          0.11183652265653789,
          3.530418365554937,
          0.07215149297115014,
          -0.3264432007919749,
          -0.5601923866311815,
          -0.4061304232371588,
          0.11183652265653789,
          -0.5528877245737064,
          1.0825449471832438,
          1.631206230611382,
          0.8715213766339599,
          0.8443897747061949,
          -0.2680059043321731,
          -1.5974543987926615,
          2.390891084588804,
          -1.072378102661208,
          0.11183652265653789,
          -2.167218039275728,
          -2.2938321816052984,
          2.0110486576000928,
          -0.8377695448152396,
          1.5045920882818113,
          0.2542774327773045,
          -0.9327301515624173,
          -1.2176119718039506,
          0.15404123676639453,
          0.4332416531854474,
          -0.2680059043321731,
          0.7449072343043893,
          -0.8377695448152396,
          -0.7744624736504543,
          -1.027690758309595,
          0.8715213766339599,
          -0.4579271178265286,
          -1.787375612287017,
          -0.19894364487968025,
          0.11183652265653789,
          1.0994268328271863,
          0.23845066498610845,
          0.15931682603012676,
          -0.2680059043321731,
          0.4095508573233656,
          -0.05095308891005263,
          -0.31548620770576197,
          0.4600254140628561,
          -0.39462004666174333,
          0.11183652265653789,
          0.11183652265653789,
          0.16609972651206784,
          -0.4579271178265286,
          0.3650648073156783,
          -0.0780846908378176,
          -0.5212341889913139,
          0.5501162461050504,
          -0.2680059043321731,
          -1.2176119718039506,
          -0.5212341889913139,
          -0.7111554024856693,
          -0.6823794610471305,
          5.809472927487203,
          0.14982076535540886,
          1.5045920882818113,
          0.33974197884976437,
          -0.2680059043321731,
          -1.787375612287017,
          0.33974197884976437,
          1.2513638036226709,
          0.08261787442663715,
          0.01687591590936014,
          0.25792976380604227,
          -0.0780846908378176,
          2.0110486576000928,
          1.4412850171170264,
          0.15931682603012676,
          -1.4075331852983062,
          0.14105517088643862,
          0.1061672327014824,
          -0.337068163784666,
          -1.027690758309595,
          -0.2680059043321731,
          1.2513638036226709,
          -0.5361299704418515,
          1.0825449471832438,
          -0.4579271178265286,
          0.5937261688362456,
          1.8211274441057375,
          4.290103219532359,
          0.4916789496452489,
          0.7765607698867821,
          0.9474898620317018,
          1.188056732457886,
          1.0234583474294443,
          -0.2680059043321731,
          -0.4579271178265286,
          0.4916789496452489,
          -0.7744624736504543,
          -0.2680059043321731,
          0.06963180854668126,
          1.2513638036226709,
          -1.787375612287017,
          -0.6133172015946377,
          -0.14139176200260256,
          -0.2280224909649406,
          1.2513638036226709,
          1.2513638036226709,
          0.9348284477987449,
          -2.167218039275728,
          -0.18359647611245986,
          0.6436159204407335,
          -0.5672756952929757,
          -1.6924150055398393,
          -2.547060466264439,
          -0.7744624736504543,
          0.9095056193328308,
          -0.014777619673032667,
          -1.2809190429687358,
          0.21955303180259014,
          0.9112064063193476,
          1.2513638036226709,
          -2.0406038969461577,
          -1.3730020555720597,
          -0.5718798459231418,
          0.003310114945477316,
          -0.6478483313208842,
          0.41571046424750696,
          1.2513638036226709,
          2.2642769422592335,
          0.03586803725879596,
          -0.17304529758499534,
          -1.2650922751775395,
          0.11183652265653789,
          1.426675693002076,
          -1.4075331852983062,
          0.25792976380604227,
          -1.787375612287017,
          0.1192844133818067,
          0.024180577966835665,
          -1.027690758309595,
          0.4916789496452489,
          0.11183652265653789,
          -1.027690758309595,
          1.2513638036226709,
          -0.337068163784666,
          0.2746261342231284,
          -0.1298813854271874,
          -0.4061304232371588,
          -0.2680059043321731,
          -1.787375612287017,
          0.40051676716795814,
          -0.05529414521849476,
          1.09143015015374,
          -0.014777619673032667,
          -0.1786312156289473,
          -0.5212341889913139,
          0.4916789496452489,
          -1.027690758309595,
          -0.36296651107935085,
          -0.1920374189344312,
          0.7449072343043893,
          0.23845066498610845,
          1.4851129894618775,
          -0.4959113605253996,
          1.0614425901283153,
          -1.027690758309595,
          0.17514359382132283,
          0.18780500805427983,
          0.03586803725879596,
          -0.2680059043321731,
          -0.7744624736504543,
          -0.19894364487968025,
          -0.2680059043321731,
          1.2513638036226709,
          -0.2680059043321731,
          -3.306745320241861,
          -1.027690758309595,
          -0.22580119022231648,
          0.4916789496452489,
          0.3535544307402632,
          -0.8757537875141106,
          -0.4579271178265286,
          -1.2176119718039506,
          -0.15947949662111252,
          -0.5935851274653539,
          1.2513638036226709,
          0.048529451491752945,
          0.9137260907438165,
          -0.5845412601560989,
          0.05757331880100794,
          -0.7428089380680618,
          -0.39462004666174333,
          -1.4075331852983062,
          0.11183652265653789,
          -0.08568153937759167,
          -0.6478483313208842,
          -0.6003680279472953,
          0.00011816177750496617,
          -0.09918704789274592,
          0.5607412090977417,
          -0.2680059043321731,
          0.03586803725879596,
          -0.8106379428874746,
          -1.4075331852983062,
          0.4916789496452489,
          1.2513638036226709,
          0.8915130833175762,
          2.9606547250718704,
          -0.2680059043321731,
          0.4916789496452489,
          -0.6953286346944729,
          0.19949246734624013,
          0.3228600932058217,
          0.008243133477798282,
          0.003310114945477316,
          -0.11606893353668857,
          -0.5442549421421449,
          -0.5442549421421449,
          -0.20723111601397928,
          0.7195844058384754,
          0.6002053573563094,
          -0.5212341889913139,
          0.33974197884976437,
          -1.787375612287017,
          0.7087317650673693,
          -0.014777619673032667,
          -1.2176119718039506,
          -0.8018385044244155,
          0.11183652265653789,
          -0.475192682689652,
          0.9060525063602066,
          0.05757331880100794,
          -0.4959113605253996,
          2.0110486576000928,
          -1.027690758309595,
          0.2746261342231284,
          -0.6770669795507849,
          0.4916789496452489,
          -0.6478483313208842,
          0.11183652265653789,
          -1.027690758309595,
          -0.9010766159800249,
          -0.2680059043321731,
          0.4916789496452489,
          1.7578203729409525,
          -1.787375612287017,
          -0.36296651107935085,
          2.770733511577515,
          -0.3524153325518867,
          -0.7322577595405977,
          0.8115462565831111,
          -0.2680059043321731,
          -0.5845412601560989,
          -0.2680059043321731,
          -0.2680059043321731,
          -0.11606893353668857,
          -0.5212341889913139,
          -0.7238168167186264,
          0.4916789496452489,
          -1.027690758309595,
          0.20679712940371564,
          0.03586803725879596,
          -0.7744624736504543,
          -0.2680059043321731,
          1.5552377452136399,
          -0.2680059043321731,
          0.3967183428980711,
          0.03586803725879596,
          -0.6478483313208842,
          -1.027690758309595,
          -0.4579271178265286,
          -1.027690758309595,
          -0.7997853021163687,
          0.06435621928294902,
          -0.2680059043321731,
          -2.547060466264439,
          -0.5718798459231418,
          -0.09269401495276798,
          -1.4075331852983062,
          -0.5212341889913139,
          4.290103219532359,
          -1.5341473276278763,
          0.11183652265653789,
          -0.21374270047664315,
          0.16609972651206784,
          1.1428373959116103,
          0.3017577361508934,
          0.23845066498610845,
          -0.7744624736504543,
          0.9474898620317018,
          -1.787375612287017,
          -0.5845412601560989,
          -0.2680059043321731,
          -1.027690758309595,
          0.4916789496452489,
          -0.41994287512765766,
          -0.2680059043321731,
          -1.027690758309595,
          -0.014777619673032667,
          -0.2680059043321731,
          -1.4075331852983062,
          -0.3848804972517764,
          -0.4579271178265286,
          -0.7744624736504543,
          1.2513638036226709,
          -0.6478483313208842,
          -1.027690758309595,
          -0.5935851274653539,
          -0.8757537875141106,
          -0.2680059043321731,
          -0.3287806926503669,
          -1.027690758309595,
          1.5552377452136399,
          -1.1543049006391652,
          0.11183652265653789,
          0.2542774327773045,
          -0.10521629276558259,
          -0.6478483313208842,
          -0.06081912597469456,
          1.5045920882818113,
          -2.547060466264439,
          -0.2680059043321731,
          0.4916789496452489,
          -2.547060466264439,
          -1.027690758309595,
          -1.331564699900564,
          -1.4075331852983062,
          -0.2680059043321731,
          -1.027690758309595,
          -1.4075331852983062,
          0.11183652265653789,
          -1.027690758309595,
          -2.167218039275728,
          0.4916789496452489,
          -1.027690758309595,
          -1.4835016706960484,
          -0.7997853021163687,
          -1.4835016706960484,
          -1.2555962145028217,
          -1.027690758309595,
          -1.787375612287017,
          -2.547060466264439,
          -0.5935851274653539,
          -0.7744624736504543,
          -1.2809190429687358,
          -0.7744624736504543,
          -0.2680059043321731,
          -1.027690758309595,
          -1.027690758309595,
          1.631206230611382,
          0.795552891236218,
          1.8591116868046083,
          -0.2680059043321731,
          2.390891084588804,
          -0.05095308891005263,
          -1.787375612287017,
          0.4916789496452489,
          -2.547060466264439
         ],
         "yaxis": "y"
        }
       ],
       "layout": {
        "coloraxis": {
         "colorbar": {
          "title": {
           "text": "cluster_group"
          }
         },
         "colorscale": [
          [
           0,
           "#0d0887"
          ],
          [
           0.1111111111111111,
           "#46039f"
          ],
          [
           0.2222222222222222,
           "#7201a8"
          ],
          [
           0.3333333333333333,
           "#9c179e"
          ],
          [
           0.4444444444444444,
           "#bd3786"
          ],
          [
           0.5555555555555556,
           "#d8576b"
          ],
          [
           0.6666666666666666,
           "#ed7953"
          ],
          [
           0.7777777777777778,
           "#fb9f3a"
          ],
          [
           0.8888888888888888,
           "#fdca26"
          ],
          [
           1,
           "#f0f921"
          ]
         ]
        },
        "legend": {
         "tracegroupgap": 0
        },
        "margin": {
         "t": 60
        },
        "template": {
         "data": {
          "bar": [
           {
            "error_x": {
             "color": "#2a3f5f"
            },
            "error_y": {
             "color": "#2a3f5f"
            },
            "marker": {
             "line": {
              "color": "#E5ECF6",
              "width": 0.5
             },
             "pattern": {
              "fillmode": "overlay",
              "size": 10,
              "solidity": 0.2
             }
            },
            "type": "bar"
           }
          ],
          "barpolar": [
           {
            "marker": {
             "line": {
              "color": "#E5ECF6",
              "width": 0.5
             },
             "pattern": {
              "fillmode": "overlay",
              "size": 10,
              "solidity": 0.2
             }
            },
            "type": "barpolar"
           }
          ],
          "carpet": [
           {
            "aaxis": {
             "endlinecolor": "#2a3f5f",
             "gridcolor": "white",
             "linecolor": "white",
             "minorgridcolor": "white",
             "startlinecolor": "#2a3f5f"
            },
            "baxis": {
             "endlinecolor": "#2a3f5f",
             "gridcolor": "white",
             "linecolor": "white",
             "minorgridcolor": "white",
             "startlinecolor": "#2a3f5f"
            },
            "type": "carpet"
           }
          ],
          "choropleth": [
           {
            "colorbar": {
             "outlinewidth": 0,
             "ticks": ""
            },
            "type": "choropleth"
           }
          ],
          "contour": [
           {
            "colorbar": {
             "outlinewidth": 0,
             "ticks": ""
            },
            "colorscale": [
             [
              0,
              "#0d0887"
             ],
             [
              0.1111111111111111,
              "#46039f"
             ],
             [
              0.2222222222222222,
              "#7201a8"
             ],
             [
              0.3333333333333333,
              "#9c179e"
             ],
             [
              0.4444444444444444,
              "#bd3786"
             ],
             [
              0.5555555555555556,
              "#d8576b"
             ],
             [
              0.6666666666666666,
              "#ed7953"
             ],
             [
              0.7777777777777778,
              "#fb9f3a"
             ],
             [
              0.8888888888888888,
              "#fdca26"
             ],
             [
              1,
              "#f0f921"
             ]
            ],
            "type": "contour"
           }
          ],
          "contourcarpet": [
           {
            "colorbar": {
             "outlinewidth": 0,
             "ticks": ""
            },
            "type": "contourcarpet"
           }
          ],
          "heatmap": [
           {
            "colorbar": {
             "outlinewidth": 0,
             "ticks": ""
            },
            "colorscale": [
             [
              0,
              "#0d0887"
             ],
             [
              0.1111111111111111,
              "#46039f"
             ],
             [
              0.2222222222222222,
              "#7201a8"
             ],
             [
              0.3333333333333333,
              "#9c179e"
             ],
             [
              0.4444444444444444,
              "#bd3786"
             ],
             [
              0.5555555555555556,
              "#d8576b"
             ],
             [
              0.6666666666666666,
              "#ed7953"
             ],
             [
              0.7777777777777778,
              "#fb9f3a"
             ],
             [
              0.8888888888888888,
              "#fdca26"
             ],
             [
              1,
              "#f0f921"
             ]
            ],
            "type": "heatmap"
           }
          ],
          "heatmapgl": [
           {
            "colorbar": {
             "outlinewidth": 0,
             "ticks": ""
            },
            "colorscale": [
             [
              0,
              "#0d0887"
             ],
             [
              0.1111111111111111,
              "#46039f"
             ],
             [
              0.2222222222222222,
              "#7201a8"
             ],
             [
              0.3333333333333333,
              "#9c179e"
             ],
             [
              0.4444444444444444,
              "#bd3786"
             ],
             [
              0.5555555555555556,
              "#d8576b"
             ],
             [
              0.6666666666666666,
              "#ed7953"
             ],
             [
              0.7777777777777778,
              "#fb9f3a"
             ],
             [
              0.8888888888888888,
              "#fdca26"
             ],
             [
              1,
              "#f0f921"
             ]
            ],
            "type": "heatmapgl"
           }
          ],
          "histogram": [
           {
            "marker": {
             "pattern": {
              "fillmode": "overlay",
              "size": 10,
              "solidity": 0.2
             }
            },
            "type": "histogram"
           }
          ],
          "histogram2d": [
           {
            "colorbar": {
             "outlinewidth": 0,
             "ticks": ""
            },
            "colorscale": [
             [
              0,
              "#0d0887"
             ],
             [
              0.1111111111111111,
              "#46039f"
             ],
             [
              0.2222222222222222,
              "#7201a8"
             ],
             [
              0.3333333333333333,
              "#9c179e"
             ],
             [
              0.4444444444444444,
              "#bd3786"
             ],
             [
              0.5555555555555556,
              "#d8576b"
             ],
             [
              0.6666666666666666,
              "#ed7953"
             ],
             [
              0.7777777777777778,
              "#fb9f3a"
             ],
             [
              0.8888888888888888,
              "#fdca26"
             ],
             [
              1,
              "#f0f921"
             ]
            ],
            "type": "histogram2d"
           }
          ],
          "histogram2dcontour": [
           {
            "colorbar": {
             "outlinewidth": 0,
             "ticks": ""
            },
            "colorscale": [
             [
              0,
              "#0d0887"
             ],
             [
              0.1111111111111111,
              "#46039f"
             ],
             [
              0.2222222222222222,
              "#7201a8"
             ],
             [
              0.3333333333333333,
              "#9c179e"
             ],
             [
              0.4444444444444444,
              "#bd3786"
             ],
             [
              0.5555555555555556,
              "#d8576b"
             ],
             [
              0.6666666666666666,
              "#ed7953"
             ],
             [
              0.7777777777777778,
              "#fb9f3a"
             ],
             [
              0.8888888888888888,
              "#fdca26"
             ],
             [
              1,
              "#f0f921"
             ]
            ],
            "type": "histogram2dcontour"
           }
          ],
          "mesh3d": [
           {
            "colorbar": {
             "outlinewidth": 0,
             "ticks": ""
            },
            "type": "mesh3d"
           }
          ],
          "parcoords": [
           {
            "line": {
             "colorbar": {
              "outlinewidth": 0,
              "ticks": ""
             }
            },
            "type": "parcoords"
           }
          ],
          "pie": [
           {
            "automargin": true,
            "type": "pie"
           }
          ],
          "scatter": [
           {
            "marker": {
             "colorbar": {
              "outlinewidth": 0,
              "ticks": ""
             }
            },
            "type": "scatter"
           }
          ],
          "scatter3d": [
           {
            "line": {
             "colorbar": {
              "outlinewidth": 0,
              "ticks": ""
             }
            },
            "marker": {
             "colorbar": {
              "outlinewidth": 0,
              "ticks": ""
             }
            },
            "type": "scatter3d"
           }
          ],
          "scattercarpet": [
           {
            "marker": {
             "colorbar": {
              "outlinewidth": 0,
              "ticks": ""
             }
            },
            "type": "scattercarpet"
           }
          ],
          "scattergeo": [
           {
            "marker": {
             "colorbar": {
              "outlinewidth": 0,
              "ticks": ""
             }
            },
            "type": "scattergeo"
           }
          ],
          "scattergl": [
           {
            "marker": {
             "colorbar": {
              "outlinewidth": 0,
              "ticks": ""
             }
            },
            "type": "scattergl"
           }
          ],
          "scattermapbox": [
           {
            "marker": {
             "colorbar": {
              "outlinewidth": 0,
              "ticks": ""
             }
            },
            "type": "scattermapbox"
           }
          ],
          "scatterpolar": [
           {
            "marker": {
             "colorbar": {
              "outlinewidth": 0,
              "ticks": ""
             }
            },
            "type": "scatterpolar"
           }
          ],
          "scatterpolargl": [
           {
            "marker": {
             "colorbar": {
              "outlinewidth": 0,
              "ticks": ""
             }
            },
            "type": "scatterpolargl"
           }
          ],
          "scatterternary": [
           {
            "marker": {
             "colorbar": {
              "outlinewidth": 0,
              "ticks": ""
             }
            },
            "type": "scatterternary"
           }
          ],
          "surface": [
           {
            "colorbar": {
             "outlinewidth": 0,
             "ticks": ""
            },
            "colorscale": [
             [
              0,
              "#0d0887"
             ],
             [
              0.1111111111111111,
              "#46039f"
             ],
             [
              0.2222222222222222,
              "#7201a8"
             ],
             [
              0.3333333333333333,
              "#9c179e"
             ],
             [
              0.4444444444444444,
              "#bd3786"
             ],
             [
              0.5555555555555556,
              "#d8576b"
             ],
             [
              0.6666666666666666,
              "#ed7953"
             ],
             [
              0.7777777777777778,
              "#fb9f3a"
             ],
             [
              0.8888888888888888,
              "#fdca26"
             ],
             [
              1,
              "#f0f921"
             ]
            ],
            "type": "surface"
           }
          ],
          "table": [
           {
            "cells": {
             "fill": {
              "color": "#EBF0F8"
             },
             "line": {
              "color": "white"
             }
            },
            "header": {
             "fill": {
              "color": "#C8D4E3"
             },
             "line": {
              "color": "white"
             }
            },
            "type": "table"
           }
          ]
         },
         "layout": {
          "annotationdefaults": {
           "arrowcolor": "#2a3f5f",
           "arrowhead": 0,
           "arrowwidth": 1
          },
          "autotypenumbers": "strict",
          "coloraxis": {
           "colorbar": {
            "outlinewidth": 0,
            "ticks": ""
           }
          },
          "colorscale": {
           "diverging": [
            [
             0,
             "#8e0152"
            ],
            [
             0.1,
             "#c51b7d"
            ],
            [
             0.2,
             "#de77ae"
            ],
            [
             0.3,
             "#f1b6da"
            ],
            [
             0.4,
             "#fde0ef"
            ],
            [
             0.5,
             "#f7f7f7"
            ],
            [
             0.6,
             "#e6f5d0"
            ],
            [
             0.7,
             "#b8e186"
            ],
            [
             0.8,
             "#7fbc41"
            ],
            [
             0.9,
             "#4d9221"
            ],
            [
             1,
             "#276419"
            ]
           ],
           "sequential": [
            [
             0,
             "#0d0887"
            ],
            [
             0.1111111111111111,
             "#46039f"
            ],
            [
             0.2222222222222222,
             "#7201a8"
            ],
            [
             0.3333333333333333,
             "#9c179e"
            ],
            [
             0.4444444444444444,
             "#bd3786"
            ],
            [
             0.5555555555555556,
             "#d8576b"
            ],
            [
             0.6666666666666666,
             "#ed7953"
            ],
            [
             0.7777777777777778,
             "#fb9f3a"
            ],
            [
             0.8888888888888888,
             "#fdca26"
            ],
            [
             1,
             "#f0f921"
            ]
           ],
           "sequentialminus": [
            [
             0,
             "#0d0887"
            ],
            [
             0.1111111111111111,
             "#46039f"
            ],
            [
             0.2222222222222222,
             "#7201a8"
            ],
            [
             0.3333333333333333,
             "#9c179e"
            ],
            [
             0.4444444444444444,
             "#bd3786"
            ],
            [
             0.5555555555555556,
             "#d8576b"
            ],
            [
             0.6666666666666666,
             "#ed7953"
            ],
            [
             0.7777777777777778,
             "#fb9f3a"
            ],
            [
             0.8888888888888888,
             "#fdca26"
            ],
            [
             1,
             "#f0f921"
            ]
           ]
          },
          "colorway": [
           "#636efa",
           "#EF553B",
           "#00cc96",
           "#ab63fa",
           "#FFA15A",
           "#19d3f3",
           "#FF6692",
           "#B6E880",
           "#FF97FF",
           "#FECB52"
          ],
          "font": {
           "color": "#2a3f5f"
          },
          "geo": {
           "bgcolor": "white",
           "lakecolor": "white",
           "landcolor": "#E5ECF6",
           "showlakes": true,
           "showland": true,
           "subunitcolor": "white"
          },
          "hoverlabel": {
           "align": "left"
          },
          "hovermode": "closest",
          "mapbox": {
           "style": "light"
          },
          "paper_bgcolor": "white",
          "plot_bgcolor": "#E5ECF6",
          "polar": {
           "angularaxis": {
            "gridcolor": "white",
            "linecolor": "white",
            "ticks": ""
           },
           "bgcolor": "#E5ECF6",
           "radialaxis": {
            "gridcolor": "white",
            "linecolor": "white",
            "ticks": ""
           }
          },
          "scene": {
           "xaxis": {
            "backgroundcolor": "#E5ECF6",
            "gridcolor": "white",
            "gridwidth": 2,
            "linecolor": "white",
            "showbackground": true,
            "ticks": "",
            "zerolinecolor": "white"
           },
           "yaxis": {
            "backgroundcolor": "#E5ECF6",
            "gridcolor": "white",
            "gridwidth": 2,
            "linecolor": "white",
            "showbackground": true,
            "ticks": "",
            "zerolinecolor": "white"
           },
           "zaxis": {
            "backgroundcolor": "#E5ECF6",
            "gridcolor": "white",
            "gridwidth": 2,
            "linecolor": "white",
            "showbackground": true,
            "ticks": "",
            "zerolinecolor": "white"
           }
          },
          "shapedefaults": {
           "line": {
            "color": "#2a3f5f"
           }
          },
          "ternary": {
           "aaxis": {
            "gridcolor": "white",
            "linecolor": "white",
            "ticks": ""
           },
           "baxis": {
            "gridcolor": "white",
            "linecolor": "white",
            "ticks": ""
           },
           "bgcolor": "#E5ECF6",
           "caxis": {
            "gridcolor": "white",
            "linecolor": "white",
            "ticks": ""
           }
          },
          "title": {
           "x": 0.05
          },
          "xaxis": {
           "automargin": true,
           "gridcolor": "white",
           "linecolor": "white",
           "ticks": "",
           "title": {
            "standoff": 15
           },
           "zerolinecolor": "white",
           "zerolinewidth": 2
          },
          "yaxis": {
           "automargin": true,
           "gridcolor": "white",
           "linecolor": "white",
           "ticks": "",
           "title": {
            "standoff": 15
           },
           "zerolinecolor": "white",
           "zerolinewidth": 2
          }
         }
        },
        "xaxis": {
         "anchor": "y",
         "domain": [
          0,
          1
         ],
         "title": {
          "text": "x"
         }
        },
        "yaxis": {
         "anchor": "x",
         "domain": [
          0,
          1
         ],
         "title": {
          "text": "y"
         }
        }
       }
      },
      "text/html": [
       "<div>                            <div id=\"d4439e07-0519-42d3-86c4-b063cfb51342\" class=\"plotly-graph-div\" style=\"height:525px; width:100%;\"></div>            <script type=\"text/javascript\">                require([\"plotly\"], function(Plotly) {                    window.PLOTLYENV=window.PLOTLYENV || {};                                    if (document.getElementById(\"d4439e07-0519-42d3-86c4-b063cfb51342\")) {                    Plotly.newPlot(                        \"d4439e07-0519-42d3-86c4-b063cfb51342\",                        [{\"customdata\":[[147,\"SIXER\"],[161,\"TaZ\"],[165,\"NEO\"],[169,\"nak\"],[284,\"JaCkz\"],[303,\"starix\"],[334,\"AdreN\"],[339,\"ANGE1\"],[356,\"arki\"],[429,\"karrigan\"],[557,\"fnx\"],[625,\"ferg\"],[630,\"MUTiRiS\"],[695,\"allu\"],[798,\"oskar\"],[885,\"olofmeister\"],[921,\"BERRY\"],[922,\"Snappi\"],[964,\"mou\"],[971,\"KHRN\"],[973,\"SZPERO\"],[1045,\"Maikelele\"],[1064,\"crisby\"],[1146,\"dennis\"],[1200,\"hitMouse\"],[1206,\"BTN\"],[1225,\"shox\"],[1378,\"zehN\"],[1485,\"RUBINO\"],[1950,\"tonyblack\"],[2007,\"ap0c\"],[2023,\"FalleN\"],[2131,\"bondik\"],[2161,\"Noktse\"],[2241,\"rmn\"],[2260,\"RIZZZ\"],[2400,\"Shooter\"],[2469,\"cajunb\"],[2476,\"emi\"],[2529,\"Maluk3\"],[2544,\"remix\"],[2553,\"Snax\"],[2644,\"Hiko\"],[2730,\"chrisJ\"],[2799,\"bubble\"],[2826,\"MINISE\"],[2898,\"raalz\"],[2909,\"addi\"],[2982,\"b0ychild\"],[3055,\"flusha\"],[3459,\"kinqie\"],[3517,\"kzy\"],[3545,\"haste\"],[3669,\"innocent\"],[3732,\"DiMKE\"],[3741,\"NiKo\"],[3820,\"TOBIZ\"],[3849,\"JW\"],[3886,\"seb\"],[3972,\"huNter-\"],[3997,\"loWel\"],[4076,\"Aerial\"],[4216,\"LETN1\"],[4373,\"EasTor\"],[4576,\"dEE\"],[4679,\"jks\"],[4829,\"mynio\"],[4954,\"Xyp9x\"],[4959,\"kioShiMa\"],[5021,\"swag\"],[5187,\"captainMo\"],[5287,\"TENZKI\"],[5288,\"miNd\"],[5328,\"psycho\"],[5351,\"aVN\"],[5386,\"byali\"],[5388,\"rallen\"],[5478,\"STOVVE\"],[5479,\"suNny\"],[5736,\"kNgV-\"],[5794,\"tabseN\"],[5796,\"tiziaN\"],[6451,\"FNS\"],[6593,\"PKL\"],[6904,\"STYKO\"],[7016,\"HZ\"],[7026,\"DD\"],[7027,\"z8z\"],[7028,\"Summer\"],[7131,\"BnTeT\"],[7156,\"MSL\"],[7167,\"kennyS\"],[7168,\"NBK-\"],[7169,\"RpK\"],[7218,\"kRYSTAL\"],[7248,\"xseveN\"],[7253,\"steel\"],[7264,\"enkay J\"],[7266,\"syrsoN\"],[7322,\"apEX\"],[7382,\"steel\"],[7383,\"zqkS\"],[7398,\"dupreeh\"],[7403,\"WorldEdit\"],[7412,\"gla1ve\"],[7415,\"HUNDEN\"],[7429,\"Happy\"],[7443,\"twist\"],[7463,\"Inzta\"],[7499,\"Spiidi\"],[7508,\"alexRr\"],[7511,\"denis\"],[7528,\"KRIMZ\"],[7537,\"xartE\"],[7592,\"device\"],[7594,\"flamie\"],[7687,\"nitr0\"],[7700,\"robiin\"],[7716,\"chopper\"],[7796,\"wayLander\"],[7805,\"RUSH\"],[7808,\"freakazoid\"],[7816,\"Ace\"],[7821,\"sAw\"],[7861,\"cruzN\"],[7862,\"k1Nky\"],[7910,\"fejtZ\"],[7932,\"doktizh\"],[7935,\"roca\"],[7938,\"XANTARES\"],[7942,\"dERZKIY\"],[7952,\"v1N\"],[7964,\"cadiaN\"],[7965,\"larsen\"],[7982,\"to1nou\"],[7996,\"CRUC1AL\"],[7998,\"s1mple\"],[8015,\"dukiiii\"],[8047,\"Lambert\"],[8082,\"AZR\"],[8095,\"aizy\"],[8124,\"DavCost\"],[8125,\"Dima\"],[8138,\"Davidp\"],[8151,\"AcilioN\"],[8183,\"rain\"],[8184,\"ALEX\"],[8242,\"reatz\"],[8248,\"jkaem\"],[8257,\"hugeon\"],[8269,\"G1DO\"],[8294,\"balblna\"],[8321,\"oskarish\"],[8323,\"mouz\"],[8324,\"morelz\"],[8327,\"Furlan\"],[8370,\"mixwell\"],[8371,\"ALEX\"],[8372,\"matHEND\"],[8374,\"bodyy\"],[8394,\"Kjaerbye\"],[8412,\"dream3r\"],[8416,\"ayken\"],[8460,\"lukjjE\"],[8488,\"ZEDKO\"],[8503,\"fl0m\"],[8507,\"stanislaw\"],[8513,\"yay\"],[8517,\"Relyks\"],[8520,\"NAF\"],[8521,\"daps\"],[8523,\"tarik\"],[8528,\"Hobbit\"],[8539,\"leman\"],[8543,\"NEEX\"],[8552,\"Attacker\"],[8564,\"fer\"],[8565,\"HEN1\"],[8566,\"LUCAS1\"],[8568,\"boltz\"],[8570,\"GruBy\"],[8574,\"woxic\"],[8576,\"ZOREE\"],[8599,\"Karsa\"],[8600,\"advent\"],[8601,\"zhokiNg\"],[8604,\"aumaN\"],[8605,\"somebody\"],[8611,\"es3tag\"],[8622,\"Zilkenberg\"],[8655,\"xek\"],[8707,\"ptr\"],[8711,\"Sonic\"],[8724,\"1uke\"],[8726,\"facecrack\"],[8727,\"waterfaLLZ\"],[8728,\"dreaM\"],[8735,\"autimatic\"],[8738,\"EliGE\"],[8744,\"emagine\"],[8745,\"Rickeh\"],[8758,\"xertz\"],[8767,\"ofnu\"],[8770,\"MoeycQ\"],[8771,\"USTILO\"],[8783,\"JUGi\"],[8789,\"mir\"],[8797,\"Stewie2K\"],[8800,\"stfN\"],[8830,\"HECTOz\"],[8837,\"akez\"],[8848,\"Ryxxo\"],[8875,\"gade\"],[8891,\"Nodios\"],[8917,\"niki1\"],[8918,\"electronic\"],[8943,\"splashske\"],[8944,\"Benkai\"],[8950,\"Kaze\"],[8954,\"d@rklord\"],[8983,\"MiGHTYMAX\"],[8994,\"HS\"],[8998,\"JUST\"],[8999,\"zlynx\"],[9001,\"ZELIN\"],[9019,\"Surreal\"],[9031,\"valde\"],[9032,\"Magisk\"],[9043,\"ANDROID\"],[9054,\"zNf\"],[9056,\"koosta\"],[9078,\"k0nfig\"],[9081,\"S0tF1k\"],[9102,\"Sico\"],[9103,\"urbz\"],[9107,\"KStaar\"],[9112,\"ino\"],[9115,\"dexter\"],[9130,\"Drone\"],[9136,\"Brehze\"],[9152,\"shinobi\"],[9170,\"alecks\"],[9196,\"BRUNO\"],[9213,\"sickLy\"],[9214,\"spamzzy1\"],[9216,\"coldzera\"],[9217,\"TACO\"],[9218,\"xand\"],[9220,\"SHOOWTiME\"],[9221,\"reversive\"],[9245,\"Tsogoo\"],[9247,\"Machinegun\"],[9254,\"mopoz\"],[9255,\"draken\"],[9256,\"disco doplan\"],[9257,\"freddieb\"],[9258,\"SicK\"],[9259,\"witmer\"],[9261,\"Lekr0\"],[9271,\"sLowi\"],[9277,\"FREDDyFROG\"],[9278,\"REZ\"],[9279,\"Relaxa\"],[9294,\"NaToSaphiX\"],[9298,\"truth\"],[9325,\"arvid\"],[9328,\"Blastinho\"],[9330,\"Zorrele\"],[9337,\"mystic\"],[9342,\"JoshRT\"],[9344,\"taboo\"],[9348,\"crush\"],[9349,\"AiyvaN\"],[9382,\"t0rick\"],[9411,\"TORAS\"],[9416,\"obj\"],[9477,\"kamil\"],[9480,\"tifa\"],[9482,\"NEKIZ\"],[9483,\"DeStiNy\"],[9521,\"dobu\"],[9545,\"xms\"],[9568,\"MOLSI\"],[9571,\"cJ\"],[9572,\"Marved\"],[9574,\"snatchie\"],[9591,\"Psy\"],[9612,\"Bubzkji\"],[9616,\"AmaNEk\"],[9618,\"nexa\"],[9626,\"XELLOW\"],[9636,\"BURNRUOk\"],[9656,\"hAdji\"],[9661,\"effys\"],[9669,\"dOBRIY\"],[9680,\"Noobster\"],[9686,\"Gratisfaction\"],[9716,\"kanarito\"],[9736,\"ncl\"],[9760,\"spielz\"],[9766,\"hampus\"],[9798,\"lunAtic\"],[9811,\"PlesseN\"],[9816,\"Aleksib\"],[9818,\"uli\"],[9819,\"doto\"],[9820,\"pietola\"],[9859,\"dav1dK\"],[9875,\"food\"],[9876,\"zander\"],[9882,\"Polen\"],[9884,\"wrath\"],[9895,\"mertz\"],[9896,\"b0RUP\"],[9911,\"kreaz\"],[9916,\"mono\"],[9960,\"frozen\"],[10004,\"enanoks\"],[10019,\"LEEROY\"],[10039,\"JESMUND\"],[10053,\"5TRYK#R\"],[10096,\"HooXi\"],[10114,\"BONA\"],[10168,\"bottle\"],[10262,\"mindfreak\"],[10330,\"acoR\"],[10347,\"Daveys\"],[10372,\"kaboose\"],[10388,\"devastation\"],[10394,\"Twistzz\"],[10397,\"cromen\"],[10436,\"sXe\"],[10449,\"ISSAA\"],[10470,\"mitch\"],[10499,\"JonY BoY\"],[10504,\"NikoM\"],[10506,\"tutehen\"],[10554,\"nmt\"],[10557,\"land1n\"],[10560,\"yel\"],[10566,\"chelo\"],[10569,\"devoduvek\"],[10570,\"dzt\"],[10588,\"Liazz\"],[10589,\"rommi\"],[10590,\"fenvicious\"],[10622,\"PureR\"],[10663,\"RoLEX\"],[10664,\"Olivia\"],[10666,\"MAIROLLS\"],[10671,\"Ethan\"],[10697,\"blocker\"],[10705,\"Kntz\"],[10740,\"DENZSTOU\"],[10762,\"Rock1nG\"],[10774,\"Freeman\"],[10784,\"RuStY\"],[10810,\"fp1\"],[10818,\"iDk\"],[10827,\"prt\"],[10828,\"dok\"],[10838,\"mawth\"],[10840,\"tatazin\"],[10842,\"KHTEX\"],[10870,\"kabal\"],[10892,\"MarKE\"],[10897,\"Strong Legs\"],[10938,\"kiR\"],[10961,\"Kristou\"],[10980,\"DuDe\"],[10981,\"mantuu\"],[10993,\"torben\"],[10994,\"stavn\"],[11012,\"Twinx\"],[11013,\"thamlike\"],[11039,\"JazzPimp\"],[11064,\"dazzLe\"],[11110,\"Golden\"],[11139,\"aliStair\"],[11140,\"INS\"],[11141,\"erkaSt\"],[11162,\"Hatz\"],[11163,\"trk\"],[11188,\"xeta\"],[11199,\"beastik\"],[11205,\"stadodo\"],[11213,\"delboNi\"],[11217,\"SPELLAN\"],[11219,\"CeRq\"],[11231,\"Subroza\"],[11238,\"Oderus\"],[11248,\"Leaf\"],[11250,\"Flarich\"],[11257,\"Celrate\"],[11258,\"fr0slev\"],[11264,\"WARDELL\"],[11271,\"smooya\"],[11276,\"Marko\\u015b\"],[11283,\"ottoNd\"],[11287,\"darko\"],[11307,\"pounh\"],[11337,\"RCF\"],[11342,\"SKip\"],[11343,\"SHiPZ\"],[11441,\"picky\"],[11445,\"JonahP\"],[11452,\"Magnum\"],[11453,\"Amaterasu\"],[11474,\"zorboT\"],[11485,\"malta\"],[11492,\"Noisia\"],[11498,\"NickelBack\"],[11505,\"rochet\"],[11507,\"D1E\"],[11524,\"sam_A\"],[11534,\"L!nKz^\"],[11538,\"Jinxx\"],[11549,\"Rambutan\"],[11574,\"xiaosaGe\"],[11576,\"shuadapai\"],[11580,\"V4D1M\"],[11586,\"dapr\"],[11595,\"tomi\"],[11617,\"malbsMd\"],[11630,\"JT\"],[11652,\"OKOLICIOUZ\"],[11654,\"almazer\"],[11701,\"mirbit\"],[11716,\"SANJI\"],[11737,\"RIKO\"],[11739,\"shz\"],[11746,\"YJ\"],[11748,\"raafa\"],[11777,\"Maden\"],[11803,\"Fluent Swede\"],[11806,\"JD\"],[11815,\"anarkez\"],[11816,\"ropz\"],[11840,\"Boombl4\"],[11891,\"phr\"],[11893,\"ZywOo\"],[11913,\"zeq\"],[11915,\"dfen\"],[11916,\"sergej\"],[11922,\"ALLE\"],[11926,\"mds\"],[11938,\"crank\"],[11940,\"neaLaN\"],[11942,\"buster\"],[11947,\"c4Lypso\"],[11948,\"INCRED\"],[11954,\"FASHR\"],[11995,\"TMB\"],[11996,\"Daffu\"],[12004,\"clax\"],[12010,\"P4TriCK\"],[12016,\"svyat\"],[12018,\"TeSeS\"],[12027,\"Krad\"],[12030,\"EspiranTo\"],[12031,\"Butters\"],[12074,\"restikk\"],[12086,\"stat\"],[12089,\"vanity\"],[12090,\"FrostayK\"],[12091,\"tyfoon\"],[12094,\"1962\"],[12101,\"neptune\"],[12102,\"djay\"],[12113,\"Jonji\"],[12126,\"poizon\"],[12129,\"stk\"],[12151,\"guin\"],[12161,\"KrizzeN\"],[12187,\"Excali\"],[12241,\"Flash_1\"],[12244,\"Sergiz\"],[12245,\"DarkS1DE\"],[12269,\"Jyo\"],[12270,\"Pro.\"],[12271,\"moose\"],[12279,\"Derek\"],[12304,\"Stev0se\"],[12339,\"tor1towOw\"],[12373,\"Chuky\"],[12379,\"Impulse\"],[12476,\"Bobosaur\"],[12490,\"expro\"],[12521,\"arT\"],[12537,\"Fog\"],[12546,\"AlicPond\"],[12553,\"yuurih\"],[12559,\"EROC\"],[12564,\"Geniuss\"],[12572,\"djL\"],[12573,\"pan1K\"],[12590,\"soju_j\"],[12591,\"sterling\"],[12593,\"J1rah\"],[12699,\"STOMP\"],[12705,\"rilax\"],[12708,\"rigoN\"],[12710,\"gMd\"],[12713,\"floppy\"],[12715,\"BL1TZ\"],[12731,\"somedieyoung\"],[12732,\"FL1T\"],[12733,\"xsepower\"],[12746,\"minse\"],[12781,\"k1to\"],[12782,\"kressy\"],[12788,\"RAIMOVORMISTO\"],[12795,\"weaNd\"],[12810,\"SHOCK\"],[12822,\"VINI\"],[12872,\"apocdud\"],[12877,\"chelleos\"],[12917,\"Chub\"],[12935,\"Tee\"],[12937,\"Wolfy\"],[13018,\"Thomas\"],[13042,\"LOGAN\"],[13054,\"zeph\"],[13075,\"flaw\"],[13094,\"Vasili\"],[13138,\"Maka\"],[13148,\"Radifaction\"],[13155,\"speed4k\"],[13156,\"RuFire\"],[13157,\"Jerry\"],[13170,\"kwezz\"],[13177,\"stellar\"],[13179,\"RZU\"],[13182,\"xCeeD\"],[13185,\"Hunter\"],[13186,\"cam\"],[13188,\"Zellsis\"],[13228,\"Voltage\"],[13229,\"Snakes\"],[13230,\"motm\"],[13239,\"qikert\"],[13240,\"Lack1\"],[13249,\"oSee\"],[13250,\"ben1337\"],[13254,\"TenZ\"],[13278,\"crashies\"],[13281,\"El1an\"],[13287,\"bnc\"],[13300,\"Farlig\"],[13361,\"tabz\"],[13381,\"C0M\"],[13391,\"tex\"],[13396,\"hoody\"],[13464,\"mar\"],[13466,\"dennyslaw\"],[13473,\"Fiziq\"],[13476,\"d4v41\"],[13479,\"malik\"],[13488,\"akz\"],[13490,\"Kishi-San\"],[13492,\"stalker398\"],[13497,\"Lucky\"],[13510,\"VANITY\"],[13521,\"Reality\"],[13528,\"RAMI\"],[13564,\"PPOverdose\"],[13566,\"CaNNiE\"],[13568,\"AJTT\"],[13576,\"thief\"],[13578,\"Grim\"],[13585,\"huynh\"],[13586,\"retrQ\"],[13589,\"Spongey\"],[13649,\"KrowNii\"],[13666,\"Brollan\"],[13670,\"nawwk\"],[13679,\"nukkye\"],[13689,\"opportunity\"],[13692,\"Hiki\"],[13718,\"birdfromsky\"],[13749,\"Queenix\"],[13750,\"cleMeNz0\"],[13776,\"Jame\"],[13779,\"PASHANOJ\"],[13780,\"dimasick\"],[13843,\"Lucky\"],[13915,\"YEKINDAR\"],[13976,\"boX\"],[13978,\"Coffee\"],[13980,\"lollipop21k\"],[13982,\"Forester\"],[13994,\"BORKUM\"],[13995,\"witz\"],[13998,\"MAXX.\"],[14000,\"daxen\"],[14007,\"tudsoN\"],[14010,\"zmb\"],[14011,\"r4ul\"],[14018,\"simix\"],[14022,\"shonk\"],[14036,\"Welshy\"],[14038,\"Andersin\"],[14055,\"propleh\"],[14077,\"AAustiN\"],[14131,\"retchy\"],[14148,\"sjuush\"],[14167,\"vitosh\"],[14171,\"rAge\"],[14175,\"Aunkere\"],[14196,\"gingerwizard\"],[14203,\"Shakezullah\"],[14205,\"R0b3n\"],[14215,\"leakeN\"],[14218,\"Plopski\"],[14221,\"kaper\"],[14256,\"Kray\"],[14273,\"iDISBALANCE\"],[14290,\"SkulL\"],[14294,\"HaZR\"],[14311,\"H4RR3\"],[14331,\"Habib\"],[14332,\"gargoyle\"],[14333,\"ju1ces\"],[14359,\"w1nt3r\"],[14365,\"s0m\"],[14390,\"WOOD7\"],[14394,\"Tuurtle\"],[14419,\"roeJ\"],[14445,\"kaiG\"],[14489,\"zeptic\"],[14494,\"Junior\"],[14495,\"droid\"],[14505,\"ekul\"],[14527,\"L1NK\"],[14557,\"Guepard\"],[14577,\"foxz\"],[14596,\"Reality\"],[14602,\"Marcelious\"],[14613,\"sterling\"],[14614,\"oBo\"],[14619,\"Infinite\"],[14639,\"fara\"],[14684,\"jedqr\"],[14737,\"meyern\"],[14759,\"iM\"],[14779,\"FATAL\"],[14780,\"tge\"],[14781,\"vhz\"],[14827,\"riku\"],[14862,\"mdn\"],[14881,\"Poppy\"],[14883,\"1ukey\"],[14929,\"JDC\"],[14932,\"faveN\"],[14933,\"robby\"],[14937,\"koNgared\"],[14954,\"void\"],[14955,\"Lacore\"],[14957,\"Mayker\"],[15007,\"Cooper-\"],[15047,\"bthd\"],[15060,\"neuz\"],[15062,\"shinobi\"],[15067,\"Denny\"],[15068,\"inter\"],[15071,\"interz\"],[15072,\"nin9\"],[15090,\"PwnAlone\"],[15096,\"grux\"],[15109,\"Niffy\"],[15111,\"JUSTCAUSE\"],[15117,\"Keoz\"],[15152,\"Marin\"],[15153,\"bazooka\"],[15165,\"blameF\"],[15180,\"Twixie\"],[15204,\"Vegi\"],[15208,\"splawik\"],[15229,\"nero\"],[15265,\"aum101\"],[15269,\"Subbey\"],[15309,\"Retla\"],[15349,\"maNkz\"],[15370,\"slaxz-\"],[15374,\"h1glaiN\"],[15384,\"doublemagic\"],[15385,\"KalubeR\"],[15391,\"miLLe\"],[15419,\"Viva\"],[15428,\"Goofy\"],[15440,\"Papichulo\"],[15523,\"vek\"],[15526,\"MAC-1\"],[15540,\"wAGNR\"],[15562,\"Samppa\"],[15563,\"SADDYX\"],[15565,\"Spargo\"],[15628,\"MALI\"],[15631,\"KSCERATO\"],[15639,\"dezon\"],[15644,\"Art1st\"],[15651,\"NEXTTIME\"],[15662,\"zorte\"],[15691,\"netim\"],[15697,\"Sidney\"],[15698,\"dumau\"],[15718,\"peku\"],[15726,\"nawrot\"],[15797,\"sutecas\"],[15821,\"NEOFRAG\"],[15835,\"imoRR\"],[15839,\"Xeppaa\"],[15915,\"648\"],[15919,\"LeoGOD\"],[15920,\"krg\"],[15932,\"formlesS\"],[15940,\"Sobol\"],[15963,\"scott\"],[15997,\"beo\"],[16008,\"Ayeon\"],[16025,\"Wolfy\"],[16026,\"DuckyPanic\"],[16034,\"Dirty\"],[16080,\"dycha\"],[16088,\"PoKI\"],[16104,\"Ergasster\"],[16222,\"MIKE\"],[16228,\"toM\"],[16229,\"oliff\"],[16281,\"swede\"],[16309,\"Doom\"],[16314,\"pancc\"],[16318,\"BOOBIE\"],[16323,\"Valiance\"],[16389,\"grzes1x\"],[16397,\"Czapel\"],[16410,\"Duplicate\"],[16411,\"zlatyo\"],[16412,\"rafftu\"],[16415,\"supra\"],[16435,\"capseN\"],[16462,\"Grusarn\"],[16486,\"ztr\"],[16487,\"eraa\"],[16529,\"Llamas\"],[16546,\"Sneaky\"],[16554,\"Pred\"],[16555,\"Ax1Le\"],[16556,\"eDi\"],[16563,\"Psycho\"],[16597,\"4pack\"],[16599,\"Swisher\"],[16612,\"n0rb3r7\"],[16645,\"drg\"],[16647,\"Bwills\"],[16649,\"shanks\"],[16658,\"Kanpeki\"],[16661,\"MITHPUTTINI\"],[16677,\"dReamy\"],[16678,\"Divine\"],[16695,\"tiburci0\"],[16723,\"Cabbi\"],[16731,\"IceBerg\"],[16768,\"lan\"],[16769,\"real\"],[16770,\"ableJ\"],[16771,\"lineko\"],[16774,\"GYZER\"],[16775,\"DANVIET\"],[16808,\"dangle\"],[16816,\"vsm\"],[16817,\"hardzao\"],[16847,\"mhL\"],[16848,\"hades\"],[16864,\"ChurmZ\"],[16870,\"ProbLeM\"],[16871,\"Gospadarov\"],[16872,\"flying\"],[16902,\"KmZ\"],[16920,\"sh1ro\"],[16921,\"nafany\"],[16922,\"aNsavage\"],[16925,\"tricky\"],[16939,\"Kas9k\"],[16945,\"mirac1e\"],[16946,\"Polt\"],[16947,\"Perfecto\"],[16948,\"TRAVIS\"],[16996,\"lukz\"],[16999,\"nephh\"],[17008,\"Topa\"],[17011,\"shalfey\"],[17012,\"airscape\"],[17028,\"abr\"],[17039,\"decov9jse\"],[17097,\"Powerzz\"],[17116,\"ragga\"],[17138,\"agony\"],[17145,\"Rainwaker\"],[17147,\"juanflatroo\"],[17149,\"Jaybk\"],[17181,\"naitte\"],[17182,\"Slag\"],[17215,\"BobZ\"],[17219,\"keiz\"],[17231,\"Rackem\"],[17232,\"SenpaiMadara\"],[17234,\"jtr\"],[17236,\"vanilla\"],[17241,\"BALEROSTYLE\"],[17251,\"Lylo\"],[17305,\"FinigaN\"],[17306,\"degster\"],[17307,\"smooth_criminal22\"],[17353,\"cxzi\"],[17357,\"bite\"],[17368,\"curry\"],[17372,\"FaNg\"],[17377,\"NiSMO\"],[17378,\"ReckMONSTER\"],[17385,\"DannyG\"],[17390,\"ADK\"],[17394,\"tot\"],[17402,\"bedonka\"],[17470,\"Melio\"],[17471,\"MkaeL\"],[17494,\"bron\"],[17504,\"KEi\"],[17510,\"J0LZ\"],[17511,\"KOLER\"],[17553,\"pesa\"],[17566,\"Andyy\"],[17575,\"JACKPOT\"],[17583,\"mcl\"],[17584,\"sir\"],[17585,\"b4rtiN\"],[17586,\"ko\\u00e9\"],[17588,\"autist\"],[17609,\"Toft\"],[17619,\"OMG\"],[17643,\"JP\"],[17658,\"tENSKI\"],[17680,\"rood\"],[17700,\"Differ3nt\"],[17792,\"icem4N\"],[17793,\"smiley\"],[17801,\"UnK\"],[17814,\"AvovA\"],[17861,\"jntzika\"],[17866,\"PREDI\"],[17918,\"nosraC\"],[17929,\"Walco\"],[17930,\"wiz\"],[17936,\"bq\"],[17937,\"isak\"],[17939,\"leaf\"],[17941,\"ULTRA\"],[17942,\"Derkeps\"],[17956,\"Jabbi\"],[17958,\"MDK\"],[17959,\"nope\"],[17995,\"gon\"],[18017,\"PEARSS\"],[18024,\"jhd\"],[18029,\"Kustom\"],[18031,\"spookr\"],[18048,\"m4tthi\"],[18053,\"broky\"],[18068,\"Miki\"],[18100,\"yoki\"],[18102,\"exebatya\"],[18105,\"wippie\"],[18120,\"sinnopsyy\"],[18132,\"Del\"],[18136,\"Quantium\"],[18140,\"f4stzin\"],[18141,\"biguzera\"],[18186,\"Crazyy\"],[18195,\"micalis\"],[18208,\"penny\"],[18214,\"nettik\"],[18219,\"Adam9130\"],[18224,\"THRONE\"],[18225,\"KAPACHO\"],[18227,\"SENSEi\"],[18266,\"Russ\"],[18278,\"nat1ve\"],[18307,\"mal\"],[18317,\"magixx\"],[18346,\"ruokcj\"],[18347,\"shaw\"],[18348,\"Muzoona\"],[18350,\"BeeTee\"],[18361,\"D0cC\"],[18432,\"dvl\"],[18458,\"devraNN\"],[18462,\"mezii\"],[18469,\"sarenii\"],[18519,\"Keiti\"],[18545,\"asap\"],[18584,\"Pacman\"],[18612,\"fells\"],[18623,\"Inseaniac\"],[18629,\"Munk\"],[18640,\"ckay\"],[18670,\"SELLTER\"],[18671,\"Get_Jeka\"],[18676,\"skullz\"],[18706,\"freshie\"],[18714,\"piriaz1n\"],[18717,\"Lucaozy\"],[18736,\"pz\"],[18737,\"falcon\"],[18740,\"Jim^\"],[18743,\"nython\"],[18749,\"sausol\"],[18790,\"CacaNito\"],[18805,\"bazzy\"],[18833,\"Koro\"],[18837,\"gmanchew\"],[18838,\"HexT\"],[18839,\"pwny\"],[18858,\"Quasar GT\"],[18865,\"dav1d\"],[18875,\"RICIOLI\"],[18877,\"phx\"],[18963,\"supLex\"],[18982,\"Asuna\"],[18987,\"B1T\"],[19015,\"Bymas\"],[19032,\"Talent\"],[19036,\"teiv\"],[19038,\"PR1mE\"],[19044,\"F1KU\"],[19045,\"latto\"],[19047,\"ashen\"],[19050,\"tem\"],[19059,\"ritchiEE\"],[19104,\"jeyN\"],[19107,\"S3NSEY\"],[19114,\"Kylar\"],[19144,\"proctus\"],[19160,\"rabbit\"],[19181,\"Zuko\"],[19189,\"affiNity\"],[19190,\"LikiAU\"],[19191,\"Mizzy\"],[19193,\"Ck--\"],[19230,\"m0NESY\"],[19231,\"H1te\"],[19232,\"JIaYm\"],[19252,\"killmatic\"],[19275,\"lealziNho\"],[19281,\"Anhuin\"],[19282,\"HadeZ\"],[19283,\"PANIX\"],[19284,\"prosus\"],[19304,\"kun\"],[19305,\"Young KillerS\"],[19384,\"Fayde\"],[19386,\"r3flex\"],[19427,\"CsGoSnex\"],[19433,\"lato\"],[19445,\"YESican\"],[19476,\"Sharkie\"],[19509,\"dav1g\"],[19573,\"powerYY\"],[19574,\"soNy\"],[19642,\"SneakZ\"],[19643,\"Habbo Hotel\"],[19645,\"JamYoung\"],[19673,\"Patsi\"],[19694,\"nqz\"],[19698,\"adamS\"],[19704,\"mada\"],[19712,\"castro\"],[19713,\"contii\"],[19730,\"Gumpton\"],[19731,\"charizard\"],[19732,\"Versa\"],[19778,\"ZILLA\"],[19802,\"em4n\"],[19823,\"dukefissura\"],[19824,\"enst0n\"],[19825,\"Janewka\"],[19832,\"Brian2K\"],[19846,\"CLASIA\"],[19848,\"Y4$\"],[19864,\"dance\"],[19865,\"wizzek\"],[19866,\"reiSh\"],[19867,\"bernini\"],[19868,\"muSh\"],[19887,\"Makzwell\"],[19890,\"Gringo\"],[19895,\"AJaxz\"],[19899,\"Krimbo\"],[19904,\"antwon\"],[19905,\"Zym\"],[19906,\"damyo\"],[19919,\"Garfunkled\"],[19920,\"KaiR0N-\"],[19926,\"afroo\"],[19938,\"Anima\"],[19942,\"Wond3r\"],[19943,\"LavL\"],[19944,\"d34dr0ck\"],[19962,\"Re1GN\"],[19963,\"fiaba\"],[19965,\"v1king\"],[19967,\"sorrow\"],[19972,\"ckzao\"],[19973,\"roz\"],[19974,\"xikAz\"],[19986,\"ryota\"],[19988,\"AsLanMashadoW\"],[19994,\"endly\"],[19995,\"GeT_FuCkEd\"],[20007,\"boskacz\"]],\"hovertemplate\":\"x=%{x}<br>y=%{y}<br>player_id=%{customdata[0]}<br>player_name=%{customdata[1]}<br>cluster_group=%{marker.color}<extra></extra>\",\"legendgroup\":\"\",\"marker\":{\"color\":[2,3,4,2,2,1,3,3,2,1,2,1,2,2,2,2,1,2,0,2,2,2,1,2,4,1,3,2,2,3,2,2,2,1,3,4,4,3,1,3,2,3,2,3,1,2,0,4,3,2,3,1,1,0,3,2,1,2,2,0,2,3,3,2,2,3,2,2,3,2,3,0,3,4,3,3,0,3,3,2,2,2,2,0,2,2,0,3,0,2,1,2,3,3,3,3,2,2,2,1,2,2,3,2,2,1,1,3,4,2,3,3,2,1,0,2,1,1,2,3,2,2,1,2,4,4,0,3,3,2,3,1,2,2,3,3,2,4,3,1,3,3,0,1,2,0,1,3,3,4,1,1,2,3,2,2,1,2,4,1,2,3,2,1,2,2,1,2,2,2,2,2,2,2,2,2,2,2,0,2,2,2,2,2,1,0,1,3,2,3,4,2,2,2,3,2,1,2,0,2,2,4,2,0,2,2,2,3,3,2,1,3,3,2,1,2,0,0,2,1,1,1,3,4,3,3,2,0,2,2,2,2,1,2,2,2,1,0,0,0,1,0,0,1,4,2,3,2,0,2,3,3,3,2,0,2,2,1,3,2,2,3,2,2,3,3,3,1,1,0,4,1,3,4,3,1,4,3,2,0,3,3,2,2,1,3,0,2,2,2,0,0,0,1,0,2,1,1,4,1,2,3,0,1,3,2,3,4,2,2,1,0,2,2,2,3,2,1,1,1,1,1,1,0,2,2,3,3,3,0,3,1,3,2,4,3,3,0,2,2,2,3,0,3,2,0,0,4,3,3,2,3,3,4,2,2,2,3,2,0,0,1,2,3,2,2,4,3,3,4,2,1,2,3,0,3,0,3,2,2,0,3,1,4,3,2,3,2,2,0,1,3,3,0,3,2,2,2,0,3,4,2,1,3,3,3,1,1,3,3,0,2,1,3,1,2,2,2,3,3,1,0,4,3,1,3,2,1,1,3,2,3,2,3,4,3,3,0,2,3,0,1,2,3,2,2,4,0,3,1,2,0,2,0,3,4,1,2,1,3,3,3,2,2,4,3,0,0,1,2,2,1,3,3,3,1,0,2,2,1,0,3,1,0,3,2,2,3,1,1,4,0,1,0,3,2,3,2,2,3,3,0,0,2,2,2,0,2,3,2,3,3,4,3,3,2,3,3,3,2,0,3,1,0,3,2,3,2,1,2,3,2,3,4,2,2,0,3,1,2,0,3,2,2,0,2,2,3,2,2,0,3,2,3,2,4,0,2,4,2,3,2,3,3,4,3,2,2,3,0,1,3,3,0,0,3,0,0,4,0,3,1,3,1,2,2,0,2,3,2,3,2,2,1,3,3,1,3,3,3,3,3,3,3,4,2,4,3,2,4,3,3,3,3,2,2,2,2,2,4,3,3,0,3,0,3,0,2,3,4,2,4,2,3,2,1,2,2,3,2,2,4,2,3,0,3,1,0,2,4,0,2,3,2,3,4,2,3,2,2,4,3,4,0,1,2,3,3,3,0,0,0,0,0,2,3,4,1,3,0,3,3,0,4,1,1,3,4,2,2,2,3,4,2,3,3,1,3,2,3,1,3,2,0,2,0,3,1,3,0,1,1,1,3,3,1,0,0,3,0,3,3,1,0,1,1,4,0,2,1,3,2,1,2,1,0,1,4,2,2,3,3,1,3,2,0,0,2,1,0,3,0,0,1,0,0,3,3,3,0,2,0,3,3,2,0,1,2,1,4,0,0,2,3,3,0,2,3,3,2,2,1,2,4,3,3,2,0,0,1,3,3,3,3,0,4,2,3,2,0,3,0,4,3,1,3,0,3,4,3,4,2,2,2,3,3,2,0,3,0,3,1,3,2,3,1,4,2,1,3,1,3,1,0,1,4,4,1,0,4,2,3,3,3,0,3,0,1,3,3,3,4,1,3,3,0,3,0,3,3,0,0,3,3,4,4,0,2,1,3,1,2,3,1,3,3,2,0,3,2,0,1,0,2,3,2,2,4,2,4,4,1,3,2,1,4,0,3,0,0,3,4,3,4,0,1,4,2,1,0,2,2,4,3,2,0,1,3,3,1,3,3,4,0,0,2,0,0,0,3,2,3,3,3,2,3,4,0,3,4,2,1,3,3,2,2,2,0,1,0,0,3,3,3,3,1,0,3,3,1,1,0,3,3,3,1,3,3,3,4,0,2,3,1,3,3,1,2,3,0,1,3,1,4,4,4,3,3,3,3,4,4,3,4,1,4,3,4,4,3,2,4,2,3,3,3,3,3,4,3,1,0,0,0,1,0,4,1,4],\"coloraxis\":\"coloraxis\",\"symbol\":\"circle\"},\"mode\":\"markers\",\"name\":\"\",\"showlegend\":false,\"type\":\"scattergl\",\"x\":[1.5335482245290846,-0.7733516555749383,-1.1590036112154285,-0.19487372211420323,-0.11501649897652622,-0.4578182373236283,-0.6982246512293885,-0.30005152819797326,-0.3876996999344483,-0.2708354709524813,0.3485449426519419,0.24336713656817188,0.33685851975374487,0.509079488779801,0.593959823514072,-0.05186881033363915,0.5238412861248919,-0.3093319228524231,1.3340999403998612,-0.2825218938506783,0.2807636898424011,-0.34874495694045926,-0.6603829008923704,0.558900554819482,-1.5797148355505086,0.13549246366174145,-0.08385270458133522,0.22778523937057588,0.03301152440063182,-0.14929667281123582,-0.3799087513356503,-0.21559056270646107,0.6841122287287325,0.6101410244500363,-0.43444539152723477,-1.2992406859937886,-1.6638570804175248,-0.5793570354648737,-0.31758116254526825,0.10313006178981184,0.10313006178981184,-0.31758116254526825,-0.5045639289164148,0.10313006178981184,-0.4960647122631811,0.7611655665190399,0.3963530363263832,-3.823508032004269,-0.22408977935969523,0.24336713656817188,0.11587888676966311,0.18103954777778986,-1.0187665364370684,1.352514909815201,0.3296668748933162,0.6124120701954346,-0.581556832716299,0.5238412861248919,0.7706585377348053,0.9912982020527591,0.23117260832657505,-0.09615420236891001,-0.5279367747128083,0.06044921294422443,0.7395906319377538,0.10313006178981184,0.6734274992218098,0.4615136973345099,0.24336713656817188,0.695242155298443,0.5238412861248919,0.5238412861248919,-0.4110725457308418,-1.7199519103288685,0.35124180947460226,-0.9486479990478884,0.8373123944529908,-0.1422848190723182,-0.4061519466158115,0.664078360903252,0.546279218089429,-0.5419604821906445,-0.6885308442170592,0.5238412861248919,0.19662144497538486,-0.09943460177893021,0.9063060355204192,-0.6681738494911683,0.786785801334317,1.0725950569967353,0.06488358685025901,0.664078360903252,-0.2437721758198155,-0.22408977935969523,-0.6448010036947749,-0.6571025014823506,0.40778301734280037,-1.7199519103288685,0.5911550820185043,-0.7616652326767419,0.18239449536018973,0.05638437019702482,-0.22408977935969523,0.4303499029393189,0.08754816459221583,-1.3409327893062741,-0.07717474863950807,-0.5980553121019884,-2.561374358999029,-0.14929667281123582,-1.1590036112154285,-0.27551004011176067,0.4677464562135481,-0.24746262515608825,1.5522465011661992,-0.22408977935969523,-0.16655662047626468,-0.31758116254526825,0.2585279014090753,0.20181541070791686,0.34353647569557205,-0.23744569124334852,-0.8785294616587084,-0.5876673806369248,-1.0888850738262486,-1.7666976019216551,0.7278224858025063,0.4677464562135481,0.710824052496039,0.7930964696993434,0.804315435681612,-0.8785294616587084,0.3176102938037745,0.3453577364069791,-0.8785294616587084,0.60175077211287,1.283458774507675,-2.0004260598855885,-0.48586565227930023,-0.6331145807965783,0.11247920010836963,-0.12124925785556442,1.3540447688127837,-0.34874495694045926,0.04215742058182969,0.49431769143471105,0.05638437019702482,0.20512066162861906,-0.6681738494911683,-2.561374358999029,-1.4394777607721485,-1.0362961707843634,0.07076765991788221,-0.49287750601821834,-0.4110725457308418,0.3315161550002836,-0.037107012988548196,0.3897014754673298,-3.122322658112469,-2.8418485085557488,0.07508264683413943,-0.6381230477529483,0.9912982020527591,-0.17734408776690824,0.5238412861248919,1.1063645198196181,-0.6581569155784281,0.5799361160362357,-0.048325978970816766,0.26494207114945795,-0.304225250661615,0.10313006178981184,1.405331470446012,0.08417910573868186,0.6768271858831032,-0.054636647335843204,0.31986008644727754,-0.5579875764510285,1.084789585238332,0.35311789074254035,0.46286864491690977,0.05638437019702482,1.0640137223082051,0.11587888676966311,-1.0187665364370684,0.734196898292432,-0.9486479990478884,-0.3351107968925633,-0.02060853360285884,0.10313006178981184,-1.3994100251211887,-0.05868194756983428,-0.31758116254526825,-0.22408977935969523,0.716667263945137,0.40113384569382693,-0.8785294616587084,0.710824052496039,0.545416220706178,0.15571896483169684,0.20129601413466425,-1.673206218736082,0.13429385618500284,1.084789585238332,-0.0511307204663844,-0.17734408776690824,0.6754489345339297,0.286517005730744,0.24336713656817188,0.6407055151068589,0.5238412861248919,-0.8785294616587084,-0.0745035662627774,0.005573835857039204,-0.6506442151438734,0.45372274873571194,1.6457378843517723,2.2066861834652123,1.1549081226275122,-0.5279367747128083,-0.6448010036947749,0.05638437019702482,-0.22408977935969523,-2.140663134663949,0.10313006178981184,0.08754816459221583,0.3909851100190774,0.9912982020527591,0.5238412861248919,0.30809194031203013,0.27007896033547846,0.5238412861248919,-0.7214639379069451,-0.16996318909436275,0.15706739824302754,-0.6603829008923704,-0.31758116254526825,0.7600300436463402,0.757569744088825,0.9846202461109319,-0.6214281578983818,1.2250266600166921,0.804315435681612,-0.17734408776690824,-0.9065768766143804,0.5533648808150728,-0.47056706230347906,0.14581091063539925,0.804315435681612,0.3728167440558884,0.3555567963908595,-0.4297708223679564,-0.2078304083708998,0.4177159322385653,0.804315435681612,0.3722336377158541,0.7677318509568225,-0.972020844844282,-0.2744312933826961,0.2641429994982989,0.24336713656817188,-0.5117555737768436,0.699137629597842,0.08754816459221583,0.6003342360039976,-0.037107012988548196,0.8604102655929559,-0.037107012988548196,0.3836042113465319,0.5238412861248919,-1.3272881009494604,-0.9135887303532985,-0.15981445341961323,-1.2992406859937886,0.5238412861248919,-1.0187665364370684,-1.7900704477180487,0.05638437019702482,0.6921257758589244,0.5238412861248919,-0.49287750601821834,0.3728167440558884,0.5004684403284989,-0.31758116254526825,-1.1590036112154285,-0.19009291274675952,1.084789585238332,0.5996451103294108,0.2745309309633629,0.4459318001369139,1.2573890618886217,0.4578473685821345,1.6457378843517723,-0.13059839617412122,2.7676344825786523,-0.053605492374237555,-1.0187665364370684,-0.037107012988548196,-1.4610526953534346,-0.037107012988548196,0.7512527587384487,-0.25285635880141,0.699137629597842,-0.4504373386510828,0.06807079309522182,0.22259127363804487,-0.05580528962566281,-2.0004260598855885,0.5038074182994116,0.2882430004972471,0.3728167440558884,0.804315435681612,1.0517926264669533,-0.36707660070233633,0.835479230076803,0.19237183664876778,0.24336713656817188,-0.5980553121019884,0.05638437019702482,-0.037107012988548196,-0.9586649329606286,-0.6214281578983818,-0.5980553121019884,0.5861688749152739,0.5238412861248919,0.5390020509657953,-0.48586565227930023,-0.3954906485332463,-0.21859028623113214,0.9121901085880424,0.3991861085441279,-0.037107012988548196,-0.14043959440418186,-0.2852187606733386,-1.1590036112154285,-0.31758116254526825,-0.8785294616587084,1.6457378843517723,0.13117747674548424,-0.7931677639675326,0.23117260832657505,-0.6448010036947749,0.897806818867185,-0.49287750601821834,-0.037107012988548196,0.6290190922086619,0.570586977717679,-1.4394777607721485,0.18727230665682806,0.8604102655929559,0.2834348722191317,-0.5980553121019884,0.13117747674548424,-1.6638570804175248,0.022224057109988277,-0.2825218938506783,0.34191210803404637,-0.28641736815007723,0.7442138322051717,2.2066861834652123,0.664078360903252,0.18103954777778986,-0.3776827660217081,-0.31758116254526825,0.19077823352628687,-0.01707314516306777,-1.7199519103288685,0.24336713656817188,-0.3876996999344483,-2.561374358999029,0.6271738675405256,-0.9096932560538994,0.08663158240412248,0.3836042113465319,1.178280968423905,0.32127662255614986,0.9645863782854525,-0.6541501420133321,0.7622443132481044,0.09574916311726636,1.014671047849152,-0.4356755413059924,-1.2992406859937886,-1.2291221486046084,0.22333326874269144,-0.4811910831200218,-0.5980553121019884,0.05825419786073659,0.24336713656817188,1.140884415149676,-0.466067477016473,-0.5279367747128083,-0.31758116254526825,0.7053245593674758,-0.10722555037772821,0.3836042113465319,1.5896430544404283,0.18493502207718884,1.6106786156571822,-0.7059299850084193,-1.7199519103288685,1.0447218495873722,-0.5980553121019884,0.593959823514072,-1.0468139513927404,-0.4811910831200218,-1.3693592233829686,-0.972020844844282,-0.3799087513356503,-0.6128171094470788,1.0380438936455452,1.0432378593780771,0.710824052496039,0.804315435681612,-0.6541501420133321,0.4591164823810337,0.038405258045953586,0.17324859917899185,0.025220575801833817,-0.5045639289164148,-0.5980553121019884,1.1649250565402518,-2.2809002094423088,-0.4578182373236283,-1.0105172967442237,-0.037107012988548196,0.26089677091546687,-1.4394777607721485,-0.9185971973096683,0.21220334217298087,0.06044921294422443,-0.5980553121019884,0.14987575338259884,0.3836042113465319,-1.1590036112154285,-0.08385270458133522,0.30809194031203013,1.2717723516094792,0.2901128281609589,-0.17734408776690824,0.827688281478005,-1.345986377586575,0.4770955945321049,-0.1256777970590909,0.009638678604238811,0.46050841364434203,-1.8601889851072286,1.3652637347950523,-0.057140880814028634,-0.13059839617412122,1.1549081226275122,0.6173326693104649,-0.3419702190284614,4.450479379918973,0.22583750222087687,-1.4394777607721485,-0.5446316645673752,1.23112392413749,-0.36857646246467185,0.27842640526276186,0.664078360903252,-0.08385270458133522,0.31887940760267364,0.7827405011003259,-1.252494994401002,0.2745309309633629,0.7611655665190399,0.897806818867185,-0.49018063919555743,-0.26364382609205256,0.4437058148229722,-1.2150984411267722,0.3836042113465319,0.02888690455420923,-0.31758116254526825,-0.8785294616587084,3.889531080805533,-0.5045639289164148,0.31106779335772544,-0.3977166338471885,1.2250266600166921,-0.31758116254526825,-0.48586565227930023,2.2066861834652123,-0.7149195410839548,0.07076765991788221,-0.17734408776690824,-1.345986377586575,-0.6490506120213919,-0.4578182373236283,-1.8601889851072286,1.033794285318928,0.10313006178981184,0.804315435681612,-0.037107012988548196,0.24336713656817188,0.07508264683413943,0.5082593889272959,-0.22408977935969523,0.07076765991788221,0.15922489170115564,1.412009426387839,1.5405600782680022,0.24336713656817188,-0.5824734149043929,0.607225492749863,1.5580897126152973,0.9796117791545621,-0.41957176238407545,0.2994619664795157,-0.8084109242695284,-0.8084109242695284,-1.4394777607721485,-0.3776827660217081,-0.011609363028846647,0.6748658281938955,-0.8785294616587084,-0.013734167192155193,-0.037107012988548196,0.5238412861248919,1.0692076880407362,-0.7102449719246765,0.14987575338259884,1.084789585238332,0.5238412861248919,0.9337650431693285,0.11587888676966311,0.5419363925479066,0.13117747674548424,0.6816079952505469,-0.11091599971400096,-0.11190011953700661,0.4437058148229722,-1.1590036112154285,-0.07076391093535489,-0.3272526849437761,1.084789585238332,-0.013734167192155193,-0.972020844844282,0.2268686571824825,0.5639090217758518,0.6841122287287325,0.012388425168519871,-0.6464129240945263,2.6741430993930795,-0.0910443494417639,0.5371971980085453,-0.06827080738373921,0.944552510459972,0.3134856739573519,1.88306216474592,0.9289706132623761,0.32647058828868186,-0.24746262515608825,0.8258903702628981,-1.2237284149592866,1.6457378843517723,-1.065512228029855,-1.4394777607721485,0.45372274873571194,-0.6681738494911683,0.7395906319377538,-0.17734408776690824,-0.17066613182508109,-1.7199519103288685,-0.002047744293958191,0.203299400917212,0.4983436361651904,-0.14929667281123582,0.8928862197521548,0.6290190922086619,0.24336713656817188,-0.9019023074551019,0.5238412861248919,0.804315435681612,-0.23128142422012393,0.751726532639727,1.3652637347950523,-1.2711932710381166,1.8327206507229192,0.11137930148265701,1.084789585238332,0.12316392961529227,-1.0012369020897733,0.4719016287995729,0.9814570038226984,1.5730223640963261,0.3157475622602286,0.07508264683413943,0.32479511547173545,0.16687418668906623,0.22333326874269144,0.9846202461109319,-0.16459526278705697,-0.26658586262586415,0.0060428561740239655,-0.7149195410839548,-0.36432685413805477,-1.0468139513927404,-0.06047985878494121,-0.8455325028873297,-0.36432685413805477,-0.20539150272258064,-0.4511402813818017,-0.31758116254526825,0.4556178443408252,-1.4139801108124466,-0.06381883675585477,0.6063336830533387,-2.561374358999029,-0.48586565227930023,0.646548726555957,-0.31758116254526825,-0.4038809008704131,0.22333326874269144,-0.2775134268943084,0.1448221651022974,-0.3283686298359113,0.2901128281609589,-2.2809002094423088,-0.26148633263392446,-0.8224346317473646,1.2717723516094792,0.5238412861248919,1.0714336733546788,0.19662144497538486,0.570586977717679,0.5314216685453441,-0.36432685413805477,-2.0004260598855885,1.0046541139364122,-0.9550224115378141,0.8582527721348278,-0.07717474863950807,1.084789585238332,-0.7102449719246765,0.17324859917899185,0.6768271858831032,-1.0187665364370684,-0.31758116254526825,1.0286947553269883,-0.31758116254526825,0.13117747674548424,-0.3430788125049703,1.084789585238332,0.05638437019702482,-1.0187665364370684,1.6457378843517723,0.0060428561740239655,-2.8418485085557488,0.944552510459972,-0.4254558354516992,0.21220334217298087,0.3275093814351881,-0.49018063919555743,-1.0187665364370684,0.7713184769102333,0.5799361160362357,0.08155512720852576,0.8644170391580523,-1.7199519103288685,0.03301152440063182,-1.5516674205948366,2.6273974078002924,0.804315435681612,-0.3008364371985981,-1.1158537420528563,-0.16655662047626468,0.31986008644727754,0.3134856739573519,1.084789585238332,1.489918912375816,5.432138903367493,1.2250266600166921,0.002960722662411668,-0.12475518472502323,-1.5797148355505086,2.136567646076032,-0.3340796419309576,6.554035501594373,-0.5980553121019884,-0.037107012988548196,1.178280968423905,-1.0888850738262486,-0.22408977935969523,-1.2641814172991985,-0.019577378641253196,-1.3693592233829686,0.2745309309633629,0.4591164823810337,0.6240106252522921,-0.9252751532514949,-1.6498333729396886,-0.17734408776690824,-0.6681738494911683,-0.3526404312398583,-0.6681738494911683,-0.8785294616587084,0.4983436361651904,-0.15397124197051523,-0.9346242915700522,-1.345986377586575,0.47125238308300693,1.6457378843517723,-0.8482079319769007,1.084789585238332,0.3836042113465319,-0.7382923868803484,-0.43444539152723477,0.5238412861248919,-0.07717474863950807,-0.5980553121019884,-1.0888850738262486,0.24336713656817188,0.3836042113465319,-0.5980553121019884,0.5885660898687501,2.4871603330219325,0.24336713656817188,0.24336713656817188,0.4770955945321049,-0.41957176238407545,-2.0004260598855885,0.8183391431594482,-0.972020844844282,0.7482206057702682,-2.2809002094423088,1.9262120339084923,1.0286947553269883,-0.13609788930268435,-0.20970648963883787,0.535527709023089,-0.49018063919555743,0.018987816922795615,1.3652637347950523,1.9262120339084923,-0.5805256777546933,-1.5797148355505086,0.04919272533659613,0.36058021399486095,0.06488358685025901,0.4473483362457863,-0.5980553121019884,0.3836042113465319,0.045385383939898584,1.2406085572142882,0.3836042113465319,0.7038470836015931,-1.4394777607721485,4.170005230362253,0.5238412861248919,0.839374704376202,1.2530740749723646,-0.4110725457308418,0.7201731908145957,2.2066861834652123,0.015481890053336814,0.10313006178981184,0.24336713656817188,1.458755117980625,0.4615136973345099,1.7392292675373453,-0.31758116254526825,0.06488358685025901,0.23168071366997486,0.8338390303717929,-1.4394777607721485,0.9165050955042996,-0.7149195410839548,-1.7199519103288685,1.131535276831119,0.8604102655929559,0.9997974187059923,-0.002047744293958191,-0.31758116254526825,1.8327206507229192,0.2573908440460081,-0.4110725457308418,0.3836042113465319,1.2899124707350376,0.21825004854816665,-0.5045639289164148,0.5238412861248919,-1.3119895109736393,-0.5980553121019884,0.1431977974407717,-0.6798602723893649,0.3836042113465319,1.9262120339084923,0.33685851975374487,-0.6401264345354964,0.3485449426519419,-0.037107012988548196,-1.1590036112154285,0.9337650431693285,-1.345986377586575,1.2789639964699078,-0.5980553121019884,0.5843357105390863,1.5594381460266278,0.03301152440063182,1.9262120339084923,-1.6498333729396886,0.804315435681612,0.5238412861248919,0.19237183664876778,1.2450605278421725,0.294362436487576,-1.362984810893043,-0.5980553121019884,-1.7199519103288685,0.007768850940527051,1.2979499389014397,0.5533648808150728,-0.4578182373236283,-0.3010826831595789,0.5004684403284989,0.648496463705656,-0.11724248429046794,1.084789585238332,-0.7102449719246765,-0.6603829008923704,0.3836042113465319,0.5130538188342484,-0.20539150272258064,-0.1422848190723182,-1.4394777607721485,0.664078360903252,-0.9907191214813965,-0.09320184289989202,-1.0187665364370684,-0.22408977935969523,-0.8275341617393048,2.4871603330219325,0.804315435681612,-0.7382923868803484,-1.1590036112154285,1.2250266600166921,0.757569744088825,-1.7199519103288685,1.0082966353592264,-0.9065768766143804,-0.8084109242695284,-0.17734408776690824,1.5255346773988927,0.9645863782854525,1.3652637347950523,-1.0888850738262486,-0.19292598496450425,-1.0187665364370684,0.3635703435210515,-1.1239443425208384,0.10313006178981184,0.3836042113465319,-0.5980553121019884,1.1745413130964826,-0.4110725457308418,1.7333860560882473,0.14437626025403572,-0.5980553121019884,0.6258318859636991,2.4871603330219325,-0.4578182373236283,-0.1573102199414278,-1.5797148355505086,-2.8418485085557488,2.8377530199678325,0.22860533922308093,1.014671047849152,-0.31758116254526825,-2.2809002094423088,0.45372274873571194,0.5885660898687501,-0.6603829008923704,-1.1080083112960248,-0.17734408776690824,0.2994619664795157,0.6258318859636991,-0.31758116254526825,0.5126223201426233,0.5518887010805643,-0.23744569124334852,1.2717723516094792,0.3976279188243681,0.804315435681612,0.12316392961529227,0.4303499029393189,-1.2291221486046084,-0.09016968993171154,-1.416104914975755,-1.2864918610139378,-0.4450694123437775,-0.5579875764510285,0.13117747674548424,-1.7199519103288685,-2.0004260598855885,2.2868216547671323,-0.5980553121019884,1.6888877535143443,1.084789585238332,0.664078360903252,-2.0004260598855885,0.14987575338259884,-2.0004260598855885,1.701832714263116,0.05638437019702482,-2.2809002094423088,0.3485449426519419,-0.31758116254526825,0.804315435681612,0.21220334217298087,0.3024143259485337,-3.122322658112469,-0.9019023074551019,0.751726532639727,1.8140223740858046,-1.1029087813040848,-0.5980553121019884,-0.40172340741228446,-1.2992406859937886,-0.7032331181857584,-0.10722555037772821,-1.2711932710381166,0.851061127274399,2.2066861834652123,-0.31758116254526825,1.6457378843517723,0.734196898292432,0.9866236328934797,-0.17734408776690824,0.734196898292432,-0.31758116254526825,-0.4110725457308418,0.45372274873571194,0.751726532639727,0.5238412861248919,-3.683270957225909,0.7482206057702682,0.7827405011003259,-2.140663134663949,0.16156217628079486,-2.2809002094423088,-1.1590036112154285,0.10313006178981184,-0.037107012988548196,0.4236719469974918,0.40363807917201233,0.944552510459972,-0.8785294616587084,2.3936689498363592,1.2530740749723646,-0.13059839617412122,-0.6681738494911683,-1.0468139513927404,-0.4297708223679564,-0.6541501420133321,0.9725999254156444,-1.3693592233829686,-0.037107012988548196,-0.972020844844282,-0.5980553121019884,2.2066861834652123,-0.20970648963883787,0.3134856739573519,-1.1590036112154285,-1.1590036112154285,-0.31758116254526825,-0.5980553121019884,-1.1189358755644687,-1.6358096654618524,0.9796117791545621,0.18727230665682806,-0.011609363028846647,0.3555567963908595,0.10313006178981184,-0.7207627525330533,-1.0362961707843634,-0.11724248429046794,-0.31758116254526825,1.4927519845935608,-1.2213312000058105,-0.5980553121019884,0.804315435681612,-2.561374358999029,-0.8785294616587084,-1.345986377586575,0.7482206057702682,-0.17734408776690824,0.10313006178981184,0.10313006178981184,-2.0004260598855885,-2.4211372842206687,-0.17734408776690824,-2.4211372842206687,-0.6541501420133321,-3.683270957225909,-0.7102449719246765,-0.8504820467030365,-2.0004260598855885,0.5238412861248919,-1.7199519103288685,-3.4027968076691892,0.804315435681612,-1.3593422894702283,-0.6915466952875619,-0.22408977935969523,-0.8785294616587084,-0.5980553121019884,-1.7199519103288685,-0.8785294616587084,0.10313006178981184,1.421358564706396,0.6360309459475796,0.9725999254156444,0.664078360903252,0.9044847748090121,-0.972020844844282,-0.5980553121019884,-3.9637451067826293],\"xaxis\":\"x\",\"y\":[0.33974197884976437,-1.1226513650567729,-0.9010766159800249,0.8715213766339599,0.40726952142553563,-0.11606893353668857,-0.21374270047664315,-0.1255649942114065,0.17514359382132283,0.5549860208100338,0.7290804665131932,1.4033007744181554,0.3017577361508934,-0.4279395578011042,-0.4579271178265286,-0.18803907759770738,0.795552891236218,0.4693352774694424,0.6604978060846761,0.3967183428980711,-0.014777619673032667,-0.3524153325518867,0.40726952142553563,-0.17304529758499534,-1.027690758309595,0.7254281354844555,-1.2809190429687358,0.15404123676639453,0.6816001631396044,0.03586803725879596,-0.6478483313208842,0.802459117181467,0.6363808265933294,1.718862175301084,-0.014777619673032667,-1.027690758309595,-2.0912495538779856,-0.5718798459231418,0.7765607698867821,-0.6478483313208842,-0.7744624736504543,-2.547060466264439,0.3650648073156783,-0.14139176200260256,0.8369902469077131,-0.2680059043321731,0.6988657280027274,0.8715213766339599,-1.5341473276278763,2.466859569986546,-0.5097238124158984,0.7449072343043893,1.3779779459522414,0.24996104156152357,-0.2095686078723716,0.6516126031141797,0.3576169165904095,1.5552377452136399,0.27896719053157054,0.027427094436824635,0.4916789496452489,0.3317452961763181,-0.8377695448152396,-0.7304227719706039,-0.3264432007919749,-0.2680059043321731,0.6942615773725613,1.5890015165015252,0.25792976380604227,0.8715213766339599,-0.6133172015946377,-0.014777619673032667,-0.5212341889913139,-1.5703227968648965,-0.9108161653899918,-1.4075331852983062,-0.312693248683786,-0.17304529758499534,0.21179505607461988,-0.5787860718683913,1.6160125335318338,0.06625543141789286,1.1288339884650223,1.4033007744181554,-0.18359647611245986,1.4201826600620981,0.2844921712877703,-0.36296651107935085,0.7765607698867821,1.1522744748430074,0.8369902469077131,0.8293166625241033,-0.5079063845355696,-0.8377695448152396,0.027427094436824635,-0.06808883749600914,0.517874979092746,-0.2680059043321731,-0.38955548096856074,1.567899159446597,0.78894693598424,-0.5212341889913139,0.4916789496452489,1.39204618398886,1.5045920882818113,1.0255115497374914,0.8172581727784299,0.024180577966835665,-0.7744624736504543,1.175395318224929,-1.027690758309595,-0.002116205440075679,1.2513638036226709,0.7765607698867821,-0.6056436172110274,-0.17304529758499534,0.4916789496452489,0.8715213766339599,-0.02162162736652255,0.3509965692790597,0.19323132843983282,0.3831525419341883,0.23845066498610845,1.1106814232564817,-0.2680059043321731,-1.027690758309595,0.8369902469077131,-0.11606893353668857,-1.2809190429687358,-0.14645632769578548,-2.547060466264439,-0.1920374189344312,-0.46909895391443185,-0.06081912597469456,-1.787375612287017,-0.6478483313208842,-0.0464311552554248,-1.027690758309595,0.6436159204407335,0.7765607698867821,0.18780500805427983,-0.11606893353668857,0.30935458469066746,1.5467968023916685,1.284393579882559,0.5316623630124814,1.1247496612931003,0.042774263204045045,-0.36296651107935085,-2.547060466264439,3.530418365554937,0.824041073260371,-0.2095686078723716,-1.1226513650567729,0.3903876357815923,1.0994268328271863,0.11183652265653789,0.6568278309446886,-1.787375612287017,1.2513638036226709,0.4916789496452489,-0.37653231204323334,-0.6056436172110274,0.11183652265653789,-0.10521629276558259,1.1929265071628694,0.9800477843450205,-0.8757537875141106,0.8563276795544118,0.6085535425648525,0.7449072343043893,0.6544685612118394,0.8896091112524699,-0.12428174276887684,-0.7514417204996233,0.34923803952448224,0.11183652265653789,-0.7021115351764143,1.631206230611382,0.12835141078648157,0.524708725905137,0.42837187848046393,-0.04291409574626997,0.7679279874552203,0.7765607698867821,-0.9327301515624173,2.4858516913359816,-0.22052560095858423,0.04480550612911854,0.01687591590936014,-1.8959020199980774,1.3098011000824723,0.8044903601065405,-0.014777619673032667,-0.030604387464228732,0.2542774327773045,1.631206230611382,0.16609972651206784,0.7838654319442576,0.9190016800075488,0.22578925075315145,0.3650648073156783,-0.014777619673032667,1.1247496612931003,0.07385227995766692,-0.2680059043321731,-0.04215365044699354,-0.2095686078723716,-1.2176119718039506,-0.8377695448152396,0.6298034685502346,-0.014777619673032667,-0.06542327660486062,0.24395562769608944,-0.17304529758499534,0.42837187848046393,0.9981355189635305,2.2642769422592335,0.5866395563924266,-0.4579271178265286,1.1669543754029577,1.1669543754029577,-0.0780846908378176,-0.2680059043321731,-1.4075331852983062,-0.7744624736504543,0.5316623630124814,0.15404123676639453,-0.2680059043321731,0.7838654319442576,0.4916789496452489,-0.29513750625993806,0.9474898620317018,0.2517784694418524,0.3455857084957445,-0.7744624736504543,0.6377721907947532,1.2513638036226709,0.8715213766339599,-0.37653231204323334,0.7449072343043893,0.8715213766339599,3.530418365554937,1.631206230611382,-0.6478483313208842,-0.3479727310666385,-0.5097238124158984,-0.4661845618915004,0.23845066498610845,0.7254281354844555,-1.1796277291050796,-0.7238168167186264,0.2935002920859212,0.3479547880819526,0.14636765238278465,0.14263455727724403,0.0953216345265942,0.23845066498610845,0.3748043567256452,0.9277943287804358,0.4916789496452489,0.4332416531854474,0.3967183428980711,-0.6056436172110274,0.14636765238278465,0.9257845804894899,-1.331564699900564,0.33974197884976437,1.631206230611382,0.9474898620317018,-0.2680059043321731,0.06435621928294902,-0.41044681445293973,-1.787375612287017,-1.787375612287017,0.11183652265653789,-0.0780846908378176,-0.18359647611245986,0.6436159204407335,-0.7902892414416507,0.34923803952448224,-0.85237886893019,1.0930961257107081,0.23845066498610845,2.770733511577515,-0.8895662394046094,1.2513638036226709,0.204230626518657,-0.39462004666174333,0.8715213766339599,0.08261787442663715,0.8938650488097664,-0.11606893353668857,1.631206230611382,5.809472927487203,0.715115671403314,0.3967183428980711,2.0110486576000928,-0.09269401495276798,0.23845066498610845,0.7380632266108994,0.4916789496452489,-0.0780846908378176,0.5716457763797146,0.01687591590936014,0.2665871410593457,-0.11606893353668857,-1.787375612287017,0.5188105515730138,0.886715073713508,1.2513638036226709,1.631206230611382,0.4023042609420231,-0.8489413809031429,1.6734109447212384,0.008243133477798282,0.42837187848046393,0.4916789496452489,1.5045920882818113,1.2513638036226709,1.576943026755852,0.6816001631396044,0.11183652265653789,0.9137260907438165,0.4916789496452489,-0.16534578892981883,-1.027690758309595,0.11183652265653789,-0.8042540365515299,-0.5017550901713798,-0.5212341889913139,1.1929265071628694,-0.6278566246372679,-0.03425671849296649,-1.787375612287017,-3.306745320241861,-1.027690758309595,-0.2680059043321731,-1.331564699900564,-0.4001250093717247,-0.7634525482304916,-0.2680059043321731,-0.2680059043321731,0.3017577361508934,0.4916789496452489,-0.6478483313208842,-1.660761469957447,-0.6478483313208842,-0.2680059043321731,-2.3951234954689546,0.11183652265653789,-0.15947949662111252,-0.11606893353668857,-0.8757537875141106,0.287148412035943,0.3017577361508934,-0.2474738812517021,-0.5212341889913139,0.4916789496452489,-0.6478483313208842,0.5549860208100338,0.06963180854668126,0.05757331880100794,0.7449072343043893,0.5391592530188377,0.22036293036759846,-1.787375612287017,-0.10807225086324233,-0.39462004666174333,-0.2680059043321731,0.051861402605689104,1.335773231842384,0.5140226218210553,-0.2680059043321731,0.7449072343043893,-0.4790294748814569,0.4916789496452489,0.03586803725879596,-0.5718798459231418,0.4916789496452489,-0.1255649942114065,-0.867757104840664,1.2513638036226709,-1.2176119718039506,-0.10521629276558259,0.11183652265653789,0.23845066498610845,0.6891970116793784,0.8715213766339599,0.4536947069463779,-0.13394387127733373,-0.4579271178265286,-0.6003680279472953,-0.35738059303539926,-0.2680059043321731,-0.8757537875141106,-0.6326546342413356,-0.5528877245737064,-0.4579271178265286,0.08261787442663715,0.11183652265653789,0.32888933807865833,3.530418365554937,0.5866395563924266,-0.014777619673032667,-0.7111554024856693,1.2513638036226709,0.4916789496452489,-0.8588719018701679,-0.3479727310666385,2.4541981557535886,1.1106814232564817,0.7449072343043893,-1.5341473276278763,-0.04010044813894664,-0.5017550901713798,-0.5894110348610823,1.631206230611382,-0.18359647611245986,-0.2680059043321731,0.23845066498610845,1.6854694344669119,-0.2680059043321731,0.18780500805427983,0.3576169165904095,-2.547060466264439,0.11183652265653789,0.6816001631396044,0.4374157457897189,0.4916789496452489,-0.994660982049707,-0.41994287512765766,0.2701042005685006,-0.8588719018701679,-0.8377695448152396,-0.8166671877603113,-0.9108161653899918,-1.2809190429687358,0.3017577361508934,-0.2680059043321731,-0.0780846908378176,1.5045920882818113,-0.5212341889913139,-0.028105424128776615,0.8082143054691749,-0.5375714976790004,-1.027690758309595,2.0110486576000928,-0.8106379428874746,0.7449072343043893,-0.36296651107935085,0.4916789496452489,0.44213428525541715,1.2513638036226709,-1.075171061683184,0.40726952142553563,0.7087317650673693,-0.1689165755525096,0.14636765238278465,-0.0780846908378176,-0.6478483313208842,-0.6478483313208842,0.287148412035943,0.6085535425648525,-0.9010766159800249,-0.18359647611245986,0.4332416531854474,-0.14139176200260256,-0.09269401495276798,0.5793348943349511,0.9800477843450205,1.5552377452136399,-1.4075331852983062,0.2682422278871837,-0.5212341889913139,1.7578203729409525,0.4916789496452489,1.7578203729409525,-0.03224163930469701,1.1428373959116103,0.6816001631396044,-0.10521629276558259,-0.41994287512765766,-0.2680059043321731,-0.39462004666174333,0.8423027284040592,0.11183652265653789,-1.2809190429687358,0.8369902469077131,1.0614425901283153,-2.167218039275728,-0.19894364487968025,2.770733511577515,-2.167218039275728,-0.2680059043321731,-0.014777619673032667,0.33974197884976437,-0.5634389031011705,-0.6478483313208842,0.024180577966835665,-0.3439743897299154,1.3779779459522414,0.9664819833811377,0.715115671403314,0.40726952142553563,-0.2474738812517021,0.34923803952448224,-0.6478483313208842,-0.6823794610471305,-0.45033026928675457,-0.2680059043321731,-1.787375612287017,-1.787375612287017,-0.3222691081877034,-0.475192682689652,1.4851129894618775,0.26377349345202245,-0.3313129754969584,-0.2680059043321731,0.33974197884976437,0.23845066498610845,-0.7238168167186264,0.7449072343043893,0.11183652265653789,-1.027690758309595,1.1929265071628694,0.2154299118352775,0.39365509751913,0.4916789496452489,0.9664819833811377,0.21179505607461988,2.0616943145319206,-0.8106379428874746,-0.7744624736504543,0.40051676716795814,0.2297186551702756,0.7228873834644639,-1.027690758309595,-0.014777619673032667,-0.1786312156289473,-0.15947949662111252,-0.5212341889913139,2.145110690654932,-0.05843766875219488,-0.39462004666174333,0.19949246734624013,-0.12330402738409256,0.4916789496452489,-0.5983036669310523,-1.787375612287017,-0.2680059043321731,-1.1121001865293088,-0.02884585770965132,0.15931682603012676,-0.3264432007919749,-0.7939415724703884,-2.167218039275728,1.5045920882818113,-1.2809190429687358,-1.027690758309595,-0.2680059043321731,1.2513638036226709,0.11183652265653789,0.3469770726971683,-1.4075331852983062,0.9664819833811377,-0.43079551589876364,0.14636765238278465,-0.014777619673032667,0.6116291897469471,0.6816001631396044,-0.7744624736504543,-0.14139176200260256,0.4916789496452489,-0.11606893353668857,-0.6770669795507849,0.01687591590936014,0.11183652265653789,-0.7238168167186264,4.290103219532359,-0.1786312156289473,1.631206230611382,-0.8649011467430046,0.20679712940371564,0.013358856400205309,0.2517784694418524,-0.07105057181950794,1.398399581811849,-1.331564699900564,-0.2925118673637028,0.5952723388239884,1.4684166190447914,-0.05095308891005263,0.2154299118352775,0.008243133477798282,0.024180577966835665,0.048529451491752945,0.23845066498610845,-1.1796277291050796,-0.5212341889913139,-0.2680059043321731,-1.4075331852983062,-0.3439743897299154,-0.014777619673032667,-1.787375612287017,-0.452794112056411,-0.7514417204996233,-0.8468134121244946,-0.13394387127733373,-3.306745320241861,0.33974197884976437,-0.7428089380680618,-2.547060466264439,-0.5017550901713798,0.2746261342231284,0.2746261342231284,-0.0010896042860515556,0.7838654319442576,0.4916789496452489,-2.547060466264439,-1.787375612287017,-0.8757537875141106,-0.5212341889913139,0.16609972651206784,-0.2680059043321731,-0.5845412601560989,-0.39462004666174333,0.5122109727257199,-0.5845412601560989,-0.2680059043321731,0.22036293036759846,-0.7514417204996233,0.08261787442663715,-0.7021115351764143,0.4916789496452489,0.33974197884976437,0.20679712940371564,-0.337068163784666,-0.5845412601560989,0.19323132843983282,0.795552891236218,-0.7744624736504543,0.3903876357815923,-0.6478483313208842,1.0176146177834642,-0.4579271178265286,1.631206230611382,-1.787375612287017,0.14105517088643862,0.4916789496452489,0.4916789496452489,0.17027381911633938,-0.7744624736504543,-0.0780846908378176,-0.2095686078723716,-0.6478483313208842,-0.22331855998056022,-1.1796277291050796,0.6962094872545548,-0.10521629276558259,-2.547060466264439,-0.0780846908378176,-1.6354386414915325,0.11183652265653789,3.530418365554937,0.07215149297115014,-0.3264432007919749,-0.5601923866311815,-0.4061304232371588,0.11183652265653789,-0.5528877245737064,1.0825449471832438,1.631206230611382,0.8715213766339599,0.8443897747061949,-0.2680059043321731,-1.5974543987926615,2.390891084588804,-1.072378102661208,0.11183652265653789,-2.167218039275728,-2.2938321816052984,2.0110486576000928,-0.8377695448152396,1.5045920882818113,0.2542774327773045,-0.9327301515624173,-1.2176119718039506,0.15404123676639453,0.4332416531854474,-0.2680059043321731,0.7449072343043893,-0.8377695448152396,-0.7744624736504543,-1.027690758309595,0.8715213766339599,-0.4579271178265286,-1.787375612287017,-0.19894364487968025,0.11183652265653789,1.0994268328271863,0.23845066498610845,0.15931682603012676,-0.2680059043321731,0.4095508573233656,-0.05095308891005263,-0.31548620770576197,0.4600254140628561,-0.39462004666174333,0.11183652265653789,0.11183652265653789,0.16609972651206784,-0.4579271178265286,0.3650648073156783,-0.0780846908378176,-0.5212341889913139,0.5501162461050504,-0.2680059043321731,-1.2176119718039506,-0.5212341889913139,-0.7111554024856693,-0.6823794610471305,5.809472927487203,0.14982076535540886,1.5045920882818113,0.33974197884976437,-0.2680059043321731,-1.787375612287017,0.33974197884976437,1.2513638036226709,0.08261787442663715,0.01687591590936014,0.25792976380604227,-0.0780846908378176,2.0110486576000928,1.4412850171170264,0.15931682603012676,-1.4075331852983062,0.14105517088643862,0.1061672327014824,-0.337068163784666,-1.027690758309595,-0.2680059043321731,1.2513638036226709,-0.5361299704418515,1.0825449471832438,-0.4579271178265286,0.5937261688362456,1.8211274441057375,4.290103219532359,0.4916789496452489,0.7765607698867821,0.9474898620317018,1.188056732457886,1.0234583474294443,-0.2680059043321731,-0.4579271178265286,0.4916789496452489,-0.7744624736504543,-0.2680059043321731,0.06963180854668126,1.2513638036226709,-1.787375612287017,-0.6133172015946377,-0.14139176200260256,-0.2280224909649406,1.2513638036226709,1.2513638036226709,0.9348284477987449,-2.167218039275728,-0.18359647611245986,0.6436159204407335,-0.5672756952929757,-1.6924150055398393,-2.547060466264439,-0.7744624736504543,0.9095056193328308,-0.014777619673032667,-1.2809190429687358,0.21955303180259014,0.9112064063193476,1.2513638036226709,-2.0406038969461577,-1.3730020555720597,-0.5718798459231418,0.003310114945477316,-0.6478483313208842,0.41571046424750696,1.2513638036226709,2.2642769422592335,0.03586803725879596,-0.17304529758499534,-1.2650922751775395,0.11183652265653789,1.426675693002076,-1.4075331852983062,0.25792976380604227,-1.787375612287017,0.1192844133818067,0.024180577966835665,-1.027690758309595,0.4916789496452489,0.11183652265653789,-1.027690758309595,1.2513638036226709,-0.337068163784666,0.2746261342231284,-0.1298813854271874,-0.4061304232371588,-0.2680059043321731,-1.787375612287017,0.40051676716795814,-0.05529414521849476,1.09143015015374,-0.014777619673032667,-0.1786312156289473,-0.5212341889913139,0.4916789496452489,-1.027690758309595,-0.36296651107935085,-0.1920374189344312,0.7449072343043893,0.23845066498610845,1.4851129894618775,-0.4959113605253996,1.0614425901283153,-1.027690758309595,0.17514359382132283,0.18780500805427983,0.03586803725879596,-0.2680059043321731,-0.7744624736504543,-0.19894364487968025,-0.2680059043321731,1.2513638036226709,-0.2680059043321731,-3.306745320241861,-1.027690758309595,-0.22580119022231648,0.4916789496452489,0.3535544307402632,-0.8757537875141106,-0.4579271178265286,-1.2176119718039506,-0.15947949662111252,-0.5935851274653539,1.2513638036226709,0.048529451491752945,0.9137260907438165,-0.5845412601560989,0.05757331880100794,-0.7428089380680618,-0.39462004666174333,-1.4075331852983062,0.11183652265653789,-0.08568153937759167,-0.6478483313208842,-0.6003680279472953,0.00011816177750496617,-0.09918704789274592,0.5607412090977417,-0.2680059043321731,0.03586803725879596,-0.8106379428874746,-1.4075331852983062,0.4916789496452489,1.2513638036226709,0.8915130833175762,2.9606547250718704,-0.2680059043321731,0.4916789496452489,-0.6953286346944729,0.19949246734624013,0.3228600932058217,0.008243133477798282,0.003310114945477316,-0.11606893353668857,-0.5442549421421449,-0.5442549421421449,-0.20723111601397928,0.7195844058384754,0.6002053573563094,-0.5212341889913139,0.33974197884976437,-1.787375612287017,0.7087317650673693,-0.014777619673032667,-1.2176119718039506,-0.8018385044244155,0.11183652265653789,-0.475192682689652,0.9060525063602066,0.05757331880100794,-0.4959113605253996,2.0110486576000928,-1.027690758309595,0.2746261342231284,-0.6770669795507849,0.4916789496452489,-0.6478483313208842,0.11183652265653789,-1.027690758309595,-0.9010766159800249,-0.2680059043321731,0.4916789496452489,1.7578203729409525,-1.787375612287017,-0.36296651107935085,2.770733511577515,-0.3524153325518867,-0.7322577595405977,0.8115462565831111,-0.2680059043321731,-0.5845412601560989,-0.2680059043321731,-0.2680059043321731,-0.11606893353668857,-0.5212341889913139,-0.7238168167186264,0.4916789496452489,-1.027690758309595,0.20679712940371564,0.03586803725879596,-0.7744624736504543,-0.2680059043321731,1.5552377452136399,-0.2680059043321731,0.3967183428980711,0.03586803725879596,-0.6478483313208842,-1.027690758309595,-0.4579271178265286,-1.027690758309595,-0.7997853021163687,0.06435621928294902,-0.2680059043321731,-2.547060466264439,-0.5718798459231418,-0.09269401495276798,-1.4075331852983062,-0.5212341889913139,4.290103219532359,-1.5341473276278763,0.11183652265653789,-0.21374270047664315,0.16609972651206784,1.1428373959116103,0.3017577361508934,0.23845066498610845,-0.7744624736504543,0.9474898620317018,-1.787375612287017,-0.5845412601560989,-0.2680059043321731,-1.027690758309595,0.4916789496452489,-0.41994287512765766,-0.2680059043321731,-1.027690758309595,-0.014777619673032667,-0.2680059043321731,-1.4075331852983062,-0.3848804972517764,-0.4579271178265286,-0.7744624736504543,1.2513638036226709,-0.6478483313208842,-1.027690758309595,-0.5935851274653539,-0.8757537875141106,-0.2680059043321731,-0.3287806926503669,-1.027690758309595,1.5552377452136399,-1.1543049006391652,0.11183652265653789,0.2542774327773045,-0.10521629276558259,-0.6478483313208842,-0.06081912597469456,1.5045920882818113,-2.547060466264439,-0.2680059043321731,0.4916789496452489,-2.547060466264439,-1.027690758309595,-1.331564699900564,-1.4075331852983062,-0.2680059043321731,-1.027690758309595,-1.4075331852983062,0.11183652265653789,-1.027690758309595,-2.167218039275728,0.4916789496452489,-1.027690758309595,-1.4835016706960484,-0.7997853021163687,-1.4835016706960484,-1.2555962145028217,-1.027690758309595,-1.787375612287017,-2.547060466264439,-0.5935851274653539,-0.7744624736504543,-1.2809190429687358,-0.7744624736504543,-0.2680059043321731,-1.027690758309595,-1.027690758309595,1.631206230611382,0.795552891236218,1.8591116868046083,-0.2680059043321731,2.390891084588804,-0.05095308891005263,-1.787375612287017,0.4916789496452489,-2.547060466264439],\"yaxis\":\"y\"}],                        {\"coloraxis\":{\"colorbar\":{\"title\":{\"text\":\"cluster_group\"}},\"colorscale\":[[0.0,\"#0d0887\"],[0.1111111111111111,\"#46039f\"],[0.2222222222222222,\"#7201a8\"],[0.3333333333333333,\"#9c179e\"],[0.4444444444444444,\"#bd3786\"],[0.5555555555555556,\"#d8576b\"],[0.6666666666666666,\"#ed7953\"],[0.7777777777777778,\"#fb9f3a\"],[0.8888888888888888,\"#fdca26\"],[1.0,\"#f0f921\"]]},\"legend\":{\"tracegroupgap\":0},\"margin\":{\"t\":60},\"template\":{\"data\":{\"bar\":[{\"error_x\":{\"color\":\"#2a3f5f\"},\"error_y\":{\"color\":\"#2a3f5f\"},\"marker\":{\"line\":{\"color\":\"#E5ECF6\",\"width\":0.5},\"pattern\":{\"fillmode\":\"overlay\",\"size\":10,\"solidity\":0.2}},\"type\":\"bar\"}],\"barpolar\":[{\"marker\":{\"line\":{\"color\":\"#E5ECF6\",\"width\":0.5},\"pattern\":{\"fillmode\":\"overlay\",\"size\":10,\"solidity\":0.2}},\"type\":\"barpolar\"}],\"carpet\":[{\"aaxis\":{\"endlinecolor\":\"#2a3f5f\",\"gridcolor\":\"white\",\"linecolor\":\"white\",\"minorgridcolor\":\"white\",\"startlinecolor\":\"#2a3f5f\"},\"baxis\":{\"endlinecolor\":\"#2a3f5f\",\"gridcolor\":\"white\",\"linecolor\":\"white\",\"minorgridcolor\":\"white\",\"startlinecolor\":\"#2a3f5f\"},\"type\":\"carpet\"}],\"choropleth\":[{\"colorbar\":{\"outlinewidth\":0,\"ticks\":\"\"},\"type\":\"choropleth\"}],\"contour\":[{\"colorbar\":{\"outlinewidth\":0,\"ticks\":\"\"},\"colorscale\":[[0.0,\"#0d0887\"],[0.1111111111111111,\"#46039f\"],[0.2222222222222222,\"#7201a8\"],[0.3333333333333333,\"#9c179e\"],[0.4444444444444444,\"#bd3786\"],[0.5555555555555556,\"#d8576b\"],[0.6666666666666666,\"#ed7953\"],[0.7777777777777778,\"#fb9f3a\"],[0.8888888888888888,\"#fdca26\"],[1.0,\"#f0f921\"]],\"type\":\"contour\"}],\"contourcarpet\":[{\"colorbar\":{\"outlinewidth\":0,\"ticks\":\"\"},\"type\":\"contourcarpet\"}],\"heatmap\":[{\"colorbar\":{\"outlinewidth\":0,\"ticks\":\"\"},\"colorscale\":[[0.0,\"#0d0887\"],[0.1111111111111111,\"#46039f\"],[0.2222222222222222,\"#7201a8\"],[0.3333333333333333,\"#9c179e\"],[0.4444444444444444,\"#bd3786\"],[0.5555555555555556,\"#d8576b\"],[0.6666666666666666,\"#ed7953\"],[0.7777777777777778,\"#fb9f3a\"],[0.8888888888888888,\"#fdca26\"],[1.0,\"#f0f921\"]],\"type\":\"heatmap\"}],\"heatmapgl\":[{\"colorbar\":{\"outlinewidth\":0,\"ticks\":\"\"},\"colorscale\":[[0.0,\"#0d0887\"],[0.1111111111111111,\"#46039f\"],[0.2222222222222222,\"#7201a8\"],[0.3333333333333333,\"#9c179e\"],[0.4444444444444444,\"#bd3786\"],[0.5555555555555556,\"#d8576b\"],[0.6666666666666666,\"#ed7953\"],[0.7777777777777778,\"#fb9f3a\"],[0.8888888888888888,\"#fdca26\"],[1.0,\"#f0f921\"]],\"type\":\"heatmapgl\"}],\"histogram\":[{\"marker\":{\"pattern\":{\"fillmode\":\"overlay\",\"size\":10,\"solidity\":0.2}},\"type\":\"histogram\"}],\"histogram2d\":[{\"colorbar\":{\"outlinewidth\":0,\"ticks\":\"\"},\"colorscale\":[[0.0,\"#0d0887\"],[0.1111111111111111,\"#46039f\"],[0.2222222222222222,\"#7201a8\"],[0.3333333333333333,\"#9c179e\"],[0.4444444444444444,\"#bd3786\"],[0.5555555555555556,\"#d8576b\"],[0.6666666666666666,\"#ed7953\"],[0.7777777777777778,\"#fb9f3a\"],[0.8888888888888888,\"#fdca26\"],[1.0,\"#f0f921\"]],\"type\":\"histogram2d\"}],\"histogram2dcontour\":[{\"colorbar\":{\"outlinewidth\":0,\"ticks\":\"\"},\"colorscale\":[[0.0,\"#0d0887\"],[0.1111111111111111,\"#46039f\"],[0.2222222222222222,\"#7201a8\"],[0.3333333333333333,\"#9c179e\"],[0.4444444444444444,\"#bd3786\"],[0.5555555555555556,\"#d8576b\"],[0.6666666666666666,\"#ed7953\"],[0.7777777777777778,\"#fb9f3a\"],[0.8888888888888888,\"#fdca26\"],[1.0,\"#f0f921\"]],\"type\":\"histogram2dcontour\"}],\"mesh3d\":[{\"colorbar\":{\"outlinewidth\":0,\"ticks\":\"\"},\"type\":\"mesh3d\"}],\"parcoords\":[{\"line\":{\"colorbar\":{\"outlinewidth\":0,\"ticks\":\"\"}},\"type\":\"parcoords\"}],\"pie\":[{\"automargin\":true,\"type\":\"pie\"}],\"scatter\":[{\"marker\":{\"colorbar\":{\"outlinewidth\":0,\"ticks\":\"\"}},\"type\":\"scatter\"}],\"scatter3d\":[{\"line\":{\"colorbar\":{\"outlinewidth\":0,\"ticks\":\"\"}},\"marker\":{\"colorbar\":{\"outlinewidth\":0,\"ticks\":\"\"}},\"type\":\"scatter3d\"}],\"scattercarpet\":[{\"marker\":{\"colorbar\":{\"outlinewidth\":0,\"ticks\":\"\"}},\"type\":\"scattercarpet\"}],\"scattergeo\":[{\"marker\":{\"colorbar\":{\"outlinewidth\":0,\"ticks\":\"\"}},\"type\":\"scattergeo\"}],\"scattergl\":[{\"marker\":{\"colorbar\":{\"outlinewidth\":0,\"ticks\":\"\"}},\"type\":\"scattergl\"}],\"scattermapbox\":[{\"marker\":{\"colorbar\":{\"outlinewidth\":0,\"ticks\":\"\"}},\"type\":\"scattermapbox\"}],\"scatterpolar\":[{\"marker\":{\"colorbar\":{\"outlinewidth\":0,\"ticks\":\"\"}},\"type\":\"scatterpolar\"}],\"scatterpolargl\":[{\"marker\":{\"colorbar\":{\"outlinewidth\":0,\"ticks\":\"\"}},\"type\":\"scatterpolargl\"}],\"scatterternary\":[{\"marker\":{\"colorbar\":{\"outlinewidth\":0,\"ticks\":\"\"}},\"type\":\"scatterternary\"}],\"surface\":[{\"colorbar\":{\"outlinewidth\":0,\"ticks\":\"\"},\"colorscale\":[[0.0,\"#0d0887\"],[0.1111111111111111,\"#46039f\"],[0.2222222222222222,\"#7201a8\"],[0.3333333333333333,\"#9c179e\"],[0.4444444444444444,\"#bd3786\"],[0.5555555555555556,\"#d8576b\"],[0.6666666666666666,\"#ed7953\"],[0.7777777777777778,\"#fb9f3a\"],[0.8888888888888888,\"#fdca26\"],[1.0,\"#f0f921\"]],\"type\":\"surface\"}],\"table\":[{\"cells\":{\"fill\":{\"color\":\"#EBF0F8\"},\"line\":{\"color\":\"white\"}},\"header\":{\"fill\":{\"color\":\"#C8D4E3\"},\"line\":{\"color\":\"white\"}},\"type\":\"table\"}]},\"layout\":{\"annotationdefaults\":{\"arrowcolor\":\"#2a3f5f\",\"arrowhead\":0,\"arrowwidth\":1},\"autotypenumbers\":\"strict\",\"coloraxis\":{\"colorbar\":{\"outlinewidth\":0,\"ticks\":\"\"}},\"colorscale\":{\"diverging\":[[0,\"#8e0152\"],[0.1,\"#c51b7d\"],[0.2,\"#de77ae\"],[0.3,\"#f1b6da\"],[0.4,\"#fde0ef\"],[0.5,\"#f7f7f7\"],[0.6,\"#e6f5d0\"],[0.7,\"#b8e186\"],[0.8,\"#7fbc41\"],[0.9,\"#4d9221\"],[1,\"#276419\"]],\"sequential\":[[0.0,\"#0d0887\"],[0.1111111111111111,\"#46039f\"],[0.2222222222222222,\"#7201a8\"],[0.3333333333333333,\"#9c179e\"],[0.4444444444444444,\"#bd3786\"],[0.5555555555555556,\"#d8576b\"],[0.6666666666666666,\"#ed7953\"],[0.7777777777777778,\"#fb9f3a\"],[0.8888888888888888,\"#fdca26\"],[1.0,\"#f0f921\"]],\"sequentialminus\":[[0.0,\"#0d0887\"],[0.1111111111111111,\"#46039f\"],[0.2222222222222222,\"#7201a8\"],[0.3333333333333333,\"#9c179e\"],[0.4444444444444444,\"#bd3786\"],[0.5555555555555556,\"#d8576b\"],[0.6666666666666666,\"#ed7953\"],[0.7777777777777778,\"#fb9f3a\"],[0.8888888888888888,\"#fdca26\"],[1.0,\"#f0f921\"]]},\"colorway\":[\"#636efa\",\"#EF553B\",\"#00cc96\",\"#ab63fa\",\"#FFA15A\",\"#19d3f3\",\"#FF6692\",\"#B6E880\",\"#FF97FF\",\"#FECB52\"],\"font\":{\"color\":\"#2a3f5f\"},\"geo\":{\"bgcolor\":\"white\",\"lakecolor\":\"white\",\"landcolor\":\"#E5ECF6\",\"showlakes\":true,\"showland\":true,\"subunitcolor\":\"white\"},\"hoverlabel\":{\"align\":\"left\"},\"hovermode\":\"closest\",\"mapbox\":{\"style\":\"light\"},\"paper_bgcolor\":\"white\",\"plot_bgcolor\":\"#E5ECF6\",\"polar\":{\"angularaxis\":{\"gridcolor\":\"white\",\"linecolor\":\"white\",\"ticks\":\"\"},\"bgcolor\":\"#E5ECF6\",\"radialaxis\":{\"gridcolor\":\"white\",\"linecolor\":\"white\",\"ticks\":\"\"}},\"scene\":{\"xaxis\":{\"backgroundcolor\":\"#E5ECF6\",\"gridcolor\":\"white\",\"gridwidth\":2,\"linecolor\":\"white\",\"showbackground\":true,\"ticks\":\"\",\"zerolinecolor\":\"white\"},\"yaxis\":{\"backgroundcolor\":\"#E5ECF6\",\"gridcolor\":\"white\",\"gridwidth\":2,\"linecolor\":\"white\",\"showbackground\":true,\"ticks\":\"\",\"zerolinecolor\":\"white\"},\"zaxis\":{\"backgroundcolor\":\"#E5ECF6\",\"gridcolor\":\"white\",\"gridwidth\":2,\"linecolor\":\"white\",\"showbackground\":true,\"ticks\":\"\",\"zerolinecolor\":\"white\"}},\"shapedefaults\":{\"line\":{\"color\":\"#2a3f5f\"}},\"ternary\":{\"aaxis\":{\"gridcolor\":\"white\",\"linecolor\":\"white\",\"ticks\":\"\"},\"baxis\":{\"gridcolor\":\"white\",\"linecolor\":\"white\",\"ticks\":\"\"},\"bgcolor\":\"#E5ECF6\",\"caxis\":{\"gridcolor\":\"white\",\"linecolor\":\"white\",\"ticks\":\"\"}},\"title\":{\"x\":0.05},\"xaxis\":{\"automargin\":true,\"gridcolor\":\"white\",\"linecolor\":\"white\",\"ticks\":\"\",\"title\":{\"standoff\":15},\"zerolinecolor\":\"white\",\"zerolinewidth\":2},\"yaxis\":{\"automargin\":true,\"gridcolor\":\"white\",\"linecolor\":\"white\",\"ticks\":\"\",\"title\":{\"standoff\":15},\"zerolinecolor\":\"white\",\"zerolinewidth\":2}}},\"xaxis\":{\"anchor\":\"y\",\"domain\":[0.0,1.0],\"title\":{\"text\":\"x\"}},\"yaxis\":{\"anchor\":\"x\",\"domain\":[0.0,1.0],\"title\":{\"text\":\"y\"}}},                        {\"responsive\": true}                    ).then(function(){\n",
       "                            \n",
       "var gd = document.getElementById('d4439e07-0519-42d3-86c4-b063cfb51342');\n",
       "var x = new MutationObserver(function (mutations, observer) {{\n",
       "        var display = window.getComputedStyle(gd).display;\n",
       "        if (!display || display === 'none') {{\n",
       "            console.log([gd, 'removed!']);\n",
       "            Plotly.purge(gd);\n",
       "            observer.disconnect();\n",
       "        }}\n",
       "}});\n",
       "\n",
       "// Listen for the removal of the full notebook cells\n",
       "var notebookContainer = gd.closest('#notebook-container');\n",
       "if (notebookContainer) {{\n",
       "    x.observe(notebookContainer, {childList: true});\n",
       "}}\n",
       "\n",
       "// Listen for the clearing of the current output cell\n",
       "var outputEl = gd.closest('.output');\n",
       "if (outputEl) {{\n",
       "    x.observe(outputEl, {childList: true});\n",
       "}}\n",
       "\n",
       "                        })                };                });            </script>        </div>"
      ]
     },
     "metadata": {},
     "output_type": "display_data"
    }
   ],
   "source": [
    "fig = px.scatter(stats_2020_agg, x=X1[:,0], y=X1[:,1], color='cluster_group', \n",
    "                 hover_data=['player_id', 'player_name'])\n",
    "fig.show()"
   ]
  },
  {
   "cell_type": "markdown",
   "id": "19ae7172",
   "metadata": {},
   "source": [
    "[kennyS](https://www.hltv.org/stats/players/7167/kennys) and [swag](https://www.hltv.org/stats/players/5021/swag) were both put into cluster group 3, looking at their statistics both players share many similarities. It seems like the clustering algorithm was able to make sense of the data however looking at the scatter plot, there seems to be a lot of overlap between the clusters."
   ]
  }
 ],
 "metadata": {
  "kernelspec": {
   "display_name": "Python 3",
   "language": "python",
   "name": "python3"
  },
  "language_info": {
   "codemirror_mode": {
    "name": "ipython",
    "version": 3
   },
   "file_extension": ".py",
   "mimetype": "text/x-python",
   "name": "python",
   "nbconvert_exporter": "python",
   "pygments_lexer": "ipython3",
   "version": "3.8.8"
  }
 },
 "nbformat": 4,
 "nbformat_minor": 5
}
