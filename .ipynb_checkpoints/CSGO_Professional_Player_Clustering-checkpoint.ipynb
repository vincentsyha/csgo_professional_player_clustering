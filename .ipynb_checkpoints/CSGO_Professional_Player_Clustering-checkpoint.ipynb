{
 "cells": [
  {
   "cell_type": "markdown",
   "id": "0368a5ea",
   "metadata": {},
   "source": [
    "# CS:GO Professional Player Cluster Analysis\n",
    "\n",
    "The most recent Counter-Strike: Global Offensive (CS:GO) major tournament announced a first ever $1,000,000 first place prize pool for the winning team. I figured it would be pertinent to develop a tool for coaches and team managers to utilize when trying to put together their next million dollar winning team lineup.\n",
    "\n",
    "This project aims to utilize machine learning models to cluster players based on their historical performance. Allowing the end user to identify which players perform most closely to other players.\n",
    "\n",
    "The dataset used to train and test the model can be found [here](https://www.kaggle.com/mateusdmachado/csgo-professional-matches). The range of the dataset covers professional matches from 11/2015 to 03/2020.\n",
    "\n",
    "## What is CS:GO?\n",
    "\n",
    "CS:GO or Counter-Strike: Global Offensive is the latest entry to the Counter-Strike franchise from Valve. Launched in 2012 it is a 5 versus 5 tactical FPS (First Person Shooter). The two teams face each other in a matchup. The gameplay is as follows, the Terrorist (T) side is tasked with planting a bomb and having it detonate while the Counter-Terrorist side (CT) is to defuse it or prevent it from being planted. Both teams can win a round if they eliminate all players on the opposing team.\n",
    "\n",
    "A standard game is 30 rounds with the first team to win 16 rounds taking the win for the map with overtime rounds being a possibility. In the event that there is a draw and the match goes into overtime the first team to win two consecutive rounds takes the match.\n",
    "\n",
    "Counter-strike has an economic system that governs the acquisitions of armor, weapons and grenades by the players. Winning a round award the players with $3250 while losing a round after a winning streak gives them $1400. Losing many times in a short period increases the losing bonus by $500 for every additional loss, as to not penalize the losing team too much. Players can also win money by getting kills and planting or defusing the bomb."
   ]
  }
 ],
 "metadata": {
  "kernelspec": {
   "display_name": "Python 3",
   "language": "python",
   "name": "python3"
  },
  "language_info": {
   "codemirror_mode": {
    "name": "ipython",
    "version": 3
   },
   "file_extension": ".py",
   "mimetype": "text/x-python",
   "name": "python",
   "nbconvert_exporter": "python",
   "pygments_lexer": "ipython3",
   "version": "3.8.8"
  }
 },
 "nbformat": 4,
 "nbformat_minor": 5
}
